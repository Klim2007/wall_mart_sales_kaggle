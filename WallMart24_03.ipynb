{
  "cells": [
    {
      "cell_type": "markdown",
      "metadata": {
        "id": "view-in-github",
        "colab_type": "text"
      },
      "source": [
        "<a href=\"https://colab.research.google.com/github/Klim2007/wall_mart_sales_kaggle/blob/main/WallMart24_03.ipynb\" target=\"_parent\"><img src=\"https://colab.research.google.com/assets/colab-badge.svg\" alt=\"Open In Colab\"/></a>"
      ]
    },
    {
      "cell_type": "markdown",
      "source": [
        "PREDICTION OF SALES BY STORES, CPI & FUEL PRICE \n",
        "(USING XGBOOST XGREGRESSOR)"
      ],
      "metadata": {
        "id": "Om-89TtK0B8r"
      }
    },
    {
      "cell_type": "code",
      "source": [
        "from google.colab import drive\n",
        "drive.mount('/content/drive')"
      ],
      "metadata": {
        "colab": {
          "base_uri": "https://localhost:8080/"
        },
        "id": "AGrojz-8MdFZ",
        "outputId": "d0ef33c3-2a44-4129-81c2-08e58f1cd315"
      },
      "execution_count": 175,
      "outputs": [
        {
          "output_type": "stream",
          "name": "stdout",
          "text": [
            "Drive already mounted at /content/drive; to attempt to forcibly remount, call drive.mount(\"/content/drive\", force_remount=True).\n"
          ]
        }
      ]
    },
    {
      "cell_type": "code",
      "source": [
        "import pandas as pd\n",
        "import numpy as np\n",
        "%matplotlib inline\n",
        "import matplotlib.pyplot as plt\n",
        "from datetime import datetime as dt\n",
        "from sklearn.model_selection import train_test_split, StratifiedKFold, GridSearchCV\n",
        "from xgboost import XGBRegressor\n",
        "import plotly.express as px\n",
        "import plotly.graph_objects as go\n",
        "import datetime\n",
        "import seaborn as sns"
      ],
      "metadata": {
        "id": "1X2A3hMvYt5J"
      },
      "execution_count": 260,
      "outputs": []
    },
    {
      "cell_type": "markdown",
      "source": [
        "DATA PREPROCESSING"
      ],
      "metadata": {
        "id": "Ll6W1U2ckks-"
      }
    },
    {
      "cell_type": "code",
      "source": [
        "df = pd.read_csv('/content/drive/MyDrive/Colab Notebooks/walmart-sales-dataset-of-45stores.csv',parse_dates=['Date'])"
      ],
      "metadata": {
        "id": "2hWDx1XmY_TJ"
      },
      "execution_count": null,
      "outputs": []
    },
    {
      "cell_type": "code",
      "source": [
        "df"
      ],
      "metadata": {
        "colab": {
          "base_uri": "https://localhost:8080/",
          "height": 424
        },
        "id": "ynkid-c8cVJU",
        "outputId": "e5b8aee9-a366-4025-fb29-0aa8570ce729"
      },
      "execution_count": 178,
      "outputs": [
        {
          "output_type": "execute_result",
          "data": {
            "text/plain": [
              "      Store       Date  Weekly_Sales  Holiday_Flag  Temperature  Fuel_Price  \\\n",
              "0         1 2010-05-02    1643690.90             0        42.31       2.572   \n",
              "1         1 2010-12-02    1641957.44             1        38.51       2.548   \n",
              "2         1 2010-02-19    1611968.17             0        39.93       2.514   \n",
              "3         1 2010-02-26    1409727.59             0        46.63       2.561   \n",
              "4         1 2010-05-03    1554806.68             0        46.50       2.625   \n",
              "...     ...        ...           ...           ...          ...         ...   \n",
              "6430     45 2012-09-28     713173.95             0        64.88       3.997   \n",
              "6431     45 2012-05-10     733455.07             0        64.89       3.985   \n",
              "6432     45 2012-12-10     734464.36             0        54.47       4.000   \n",
              "6433     45 2012-10-19     718125.53             0        56.47       3.969   \n",
              "6434     45 2012-10-26     760281.43             0        58.85       3.882   \n",
              "\n",
              "             CPI  Unemployment  \n",
              "0     211.096358         8.106  \n",
              "1     211.242170         8.106  \n",
              "2     211.289143         8.106  \n",
              "3     211.319643         8.106  \n",
              "4     211.350143         8.106  \n",
              "...          ...           ...  \n",
              "6430  192.013558         8.684  \n",
              "6431  192.170412         8.667  \n",
              "6432  192.327265         8.667  \n",
              "6433  192.330854         8.667  \n",
              "6434  192.308899         8.667  \n",
              "\n",
              "[6435 rows x 8 columns]"
            ],
            "text/html": [
              "\n",
              "  <div id=\"df-a1df55b8-d7a9-48b5-a2e6-2bf01ff13113\">\n",
              "    <div class=\"colab-df-container\">\n",
              "      <div>\n",
              "<style scoped>\n",
              "    .dataframe tbody tr th:only-of-type {\n",
              "        vertical-align: middle;\n",
              "    }\n",
              "\n",
              "    .dataframe tbody tr th {\n",
              "        vertical-align: top;\n",
              "    }\n",
              "\n",
              "    .dataframe thead th {\n",
              "        text-align: right;\n",
              "    }\n",
              "</style>\n",
              "<table border=\"1\" class=\"dataframe\">\n",
              "  <thead>\n",
              "    <tr style=\"text-align: right;\">\n",
              "      <th></th>\n",
              "      <th>Store</th>\n",
              "      <th>Date</th>\n",
              "      <th>Weekly_Sales</th>\n",
              "      <th>Holiday_Flag</th>\n",
              "      <th>Temperature</th>\n",
              "      <th>Fuel_Price</th>\n",
              "      <th>CPI</th>\n",
              "      <th>Unemployment</th>\n",
              "    </tr>\n",
              "  </thead>\n",
              "  <tbody>\n",
              "    <tr>\n",
              "      <th>0</th>\n",
              "      <td>1</td>\n",
              "      <td>2010-05-02</td>\n",
              "      <td>1643690.90</td>\n",
              "      <td>0</td>\n",
              "      <td>42.31</td>\n",
              "      <td>2.572</td>\n",
              "      <td>211.096358</td>\n",
              "      <td>8.106</td>\n",
              "    </tr>\n",
              "    <tr>\n",
              "      <th>1</th>\n",
              "      <td>1</td>\n",
              "      <td>2010-12-02</td>\n",
              "      <td>1641957.44</td>\n",
              "      <td>1</td>\n",
              "      <td>38.51</td>\n",
              "      <td>2.548</td>\n",
              "      <td>211.242170</td>\n",
              "      <td>8.106</td>\n",
              "    </tr>\n",
              "    <tr>\n",
              "      <th>2</th>\n",
              "      <td>1</td>\n",
              "      <td>2010-02-19</td>\n",
              "      <td>1611968.17</td>\n",
              "      <td>0</td>\n",
              "      <td>39.93</td>\n",
              "      <td>2.514</td>\n",
              "      <td>211.289143</td>\n",
              "      <td>8.106</td>\n",
              "    </tr>\n",
              "    <tr>\n",
              "      <th>3</th>\n",
              "      <td>1</td>\n",
              "      <td>2010-02-26</td>\n",
              "      <td>1409727.59</td>\n",
              "      <td>0</td>\n",
              "      <td>46.63</td>\n",
              "      <td>2.561</td>\n",
              "      <td>211.319643</td>\n",
              "      <td>8.106</td>\n",
              "    </tr>\n",
              "    <tr>\n",
              "      <th>4</th>\n",
              "      <td>1</td>\n",
              "      <td>2010-05-03</td>\n",
              "      <td>1554806.68</td>\n",
              "      <td>0</td>\n",
              "      <td>46.50</td>\n",
              "      <td>2.625</td>\n",
              "      <td>211.350143</td>\n",
              "      <td>8.106</td>\n",
              "    </tr>\n",
              "    <tr>\n",
              "      <th>...</th>\n",
              "      <td>...</td>\n",
              "      <td>...</td>\n",
              "      <td>...</td>\n",
              "      <td>...</td>\n",
              "      <td>...</td>\n",
              "      <td>...</td>\n",
              "      <td>...</td>\n",
              "      <td>...</td>\n",
              "    </tr>\n",
              "    <tr>\n",
              "      <th>6430</th>\n",
              "      <td>45</td>\n",
              "      <td>2012-09-28</td>\n",
              "      <td>713173.95</td>\n",
              "      <td>0</td>\n",
              "      <td>64.88</td>\n",
              "      <td>3.997</td>\n",
              "      <td>192.013558</td>\n",
              "      <td>8.684</td>\n",
              "    </tr>\n",
              "    <tr>\n",
              "      <th>6431</th>\n",
              "      <td>45</td>\n",
              "      <td>2012-05-10</td>\n",
              "      <td>733455.07</td>\n",
              "      <td>0</td>\n",
              "      <td>64.89</td>\n",
              "      <td>3.985</td>\n",
              "      <td>192.170412</td>\n",
              "      <td>8.667</td>\n",
              "    </tr>\n",
              "    <tr>\n",
              "      <th>6432</th>\n",
              "      <td>45</td>\n",
              "      <td>2012-12-10</td>\n",
              "      <td>734464.36</td>\n",
              "      <td>0</td>\n",
              "      <td>54.47</td>\n",
              "      <td>4.000</td>\n",
              "      <td>192.327265</td>\n",
              "      <td>8.667</td>\n",
              "    </tr>\n",
              "    <tr>\n",
              "      <th>6433</th>\n",
              "      <td>45</td>\n",
              "      <td>2012-10-19</td>\n",
              "      <td>718125.53</td>\n",
              "      <td>0</td>\n",
              "      <td>56.47</td>\n",
              "      <td>3.969</td>\n",
              "      <td>192.330854</td>\n",
              "      <td>8.667</td>\n",
              "    </tr>\n",
              "    <tr>\n",
              "      <th>6434</th>\n",
              "      <td>45</td>\n",
              "      <td>2012-10-26</td>\n",
              "      <td>760281.43</td>\n",
              "      <td>0</td>\n",
              "      <td>58.85</td>\n",
              "      <td>3.882</td>\n",
              "      <td>192.308899</td>\n",
              "      <td>8.667</td>\n",
              "    </tr>\n",
              "  </tbody>\n",
              "</table>\n",
              "<p>6435 rows × 8 columns</p>\n",
              "</div>\n",
              "      <button class=\"colab-df-convert\" onclick=\"convertToInteractive('df-a1df55b8-d7a9-48b5-a2e6-2bf01ff13113')\"\n",
              "              title=\"Convert this dataframe to an interactive table.\"\n",
              "              style=\"display:none;\">\n",
              "        \n",
              "  <svg xmlns=\"http://www.w3.org/2000/svg\" height=\"24px\"viewBox=\"0 0 24 24\"\n",
              "       width=\"24px\">\n",
              "    <path d=\"M0 0h24v24H0V0z\" fill=\"none\"/>\n",
              "    <path d=\"M18.56 5.44l.94 2.06.94-2.06 2.06-.94-2.06-.94-.94-2.06-.94 2.06-2.06.94zm-11 1L8.5 8.5l.94-2.06 2.06-.94-2.06-.94L8.5 2.5l-.94 2.06-2.06.94zm10 10l.94 2.06.94-2.06 2.06-.94-2.06-.94-.94-2.06-.94 2.06-2.06.94z\"/><path d=\"M17.41 7.96l-1.37-1.37c-.4-.4-.92-.59-1.43-.59-.52 0-1.04.2-1.43.59L10.3 9.45l-7.72 7.72c-.78.78-.78 2.05 0 2.83L4 21.41c.39.39.9.59 1.41.59.51 0 1.02-.2 1.41-.59l7.78-7.78 2.81-2.81c.8-.78.8-2.07 0-2.86zM5.41 20L4 18.59l7.72-7.72 1.47 1.35L5.41 20z\"/>\n",
              "  </svg>\n",
              "      </button>\n",
              "      \n",
              "  <style>\n",
              "    .colab-df-container {\n",
              "      display:flex;\n",
              "      flex-wrap:wrap;\n",
              "      gap: 12px;\n",
              "    }\n",
              "\n",
              "    .colab-df-convert {\n",
              "      background-color: #E8F0FE;\n",
              "      border: none;\n",
              "      border-radius: 50%;\n",
              "      cursor: pointer;\n",
              "      display: none;\n",
              "      fill: #1967D2;\n",
              "      height: 32px;\n",
              "      padding: 0 0 0 0;\n",
              "      width: 32px;\n",
              "    }\n",
              "\n",
              "    .colab-df-convert:hover {\n",
              "      background-color: #E2EBFA;\n",
              "      box-shadow: 0px 1px 2px rgba(60, 64, 67, 0.3), 0px 1px 3px 1px rgba(60, 64, 67, 0.15);\n",
              "      fill: #174EA6;\n",
              "    }\n",
              "\n",
              "    [theme=dark] .colab-df-convert {\n",
              "      background-color: #3B4455;\n",
              "      fill: #D2E3FC;\n",
              "    }\n",
              "\n",
              "    [theme=dark] .colab-df-convert:hover {\n",
              "      background-color: #434B5C;\n",
              "      box-shadow: 0px 1px 3px 1px rgba(0, 0, 0, 0.15);\n",
              "      filter: drop-shadow(0px 1px 2px rgba(0, 0, 0, 0.3));\n",
              "      fill: #FFFFFF;\n",
              "    }\n",
              "  </style>\n",
              "\n",
              "      <script>\n",
              "        const buttonEl =\n",
              "          document.querySelector('#df-a1df55b8-d7a9-48b5-a2e6-2bf01ff13113 button.colab-df-convert');\n",
              "        buttonEl.style.display =\n",
              "          google.colab.kernel.accessAllowed ? 'block' : 'none';\n",
              "\n",
              "        async function convertToInteractive(key) {\n",
              "          const element = document.querySelector('#df-a1df55b8-d7a9-48b5-a2e6-2bf01ff13113');\n",
              "          const dataTable =\n",
              "            await google.colab.kernel.invokeFunction('convertToInteractive',\n",
              "                                                     [key], {});\n",
              "          if (!dataTable) return;\n",
              "\n",
              "          const docLinkHtml = 'Like what you see? Visit the ' +\n",
              "            '<a target=\"_blank\" href=https://colab.research.google.com/notebooks/data_table.ipynb>data table notebook</a>'\n",
              "            + ' to learn more about interactive tables.';\n",
              "          element.innerHTML = '';\n",
              "          dataTable['output_type'] = 'display_data';\n",
              "          await google.colab.output.renderOutput(dataTable, element);\n",
              "          const docLink = document.createElement('div');\n",
              "          docLink.innerHTML = docLinkHtml;\n",
              "          element.appendChild(docLink);\n",
              "        }\n",
              "      </script>\n",
              "    </div>\n",
              "  </div>\n",
              "  "
            ]
          },
          "metadata": {},
          "execution_count": 178
        }
      ]
    },
    {
      "cell_type": "code",
      "source": [
        "df.describe()"
      ],
      "metadata": {
        "colab": {
          "base_uri": "https://localhost:8080/",
          "height": 300
        },
        "id": "zoB0gDkTjqzb",
        "outputId": "51c7c9ed-d3b4-4213-95b7-878822613a70"
      },
      "execution_count": 179,
      "outputs": [
        {
          "output_type": "execute_result",
          "data": {
            "text/plain": [
              "             Store  Weekly_Sales  Holiday_Flag  Temperature   Fuel_Price  \\\n",
              "count  6435.000000  6.435000e+03   6435.000000  6435.000000  6435.000000   \n",
              "mean     23.000000  1.046965e+06      0.069930    60.663782     3.358607   \n",
              "std      12.988182  5.643666e+05      0.255049    18.444933     0.459020   \n",
              "min       1.000000  2.099862e+05      0.000000    -2.060000     2.472000   \n",
              "25%      12.000000  5.533501e+05      0.000000    47.460000     2.933000   \n",
              "50%      23.000000  9.607460e+05      0.000000    62.670000     3.445000   \n",
              "75%      34.000000  1.420159e+06      0.000000    74.940000     3.735000   \n",
              "max      45.000000  3.818686e+06      1.000000   100.140000     4.468000   \n",
              "\n",
              "               CPI  Unemployment  \n",
              "count  6435.000000   6435.000000  \n",
              "mean    171.578394      7.999151  \n",
              "std      39.356712      1.875885  \n",
              "min     126.064000      3.879000  \n",
              "25%     131.735000      6.891000  \n",
              "50%     182.616521      7.874000  \n",
              "75%     212.743293      8.622000  \n",
              "max     227.232807     14.313000  "
            ],
            "text/html": [
              "\n",
              "  <div id=\"df-f2cd9838-0e38-4437-a041-5255b3595ffd\">\n",
              "    <div class=\"colab-df-container\">\n",
              "      <div>\n",
              "<style scoped>\n",
              "    .dataframe tbody tr th:only-of-type {\n",
              "        vertical-align: middle;\n",
              "    }\n",
              "\n",
              "    .dataframe tbody tr th {\n",
              "        vertical-align: top;\n",
              "    }\n",
              "\n",
              "    .dataframe thead th {\n",
              "        text-align: right;\n",
              "    }\n",
              "</style>\n",
              "<table border=\"1\" class=\"dataframe\">\n",
              "  <thead>\n",
              "    <tr style=\"text-align: right;\">\n",
              "      <th></th>\n",
              "      <th>Store</th>\n",
              "      <th>Weekly_Sales</th>\n",
              "      <th>Holiday_Flag</th>\n",
              "      <th>Temperature</th>\n",
              "      <th>Fuel_Price</th>\n",
              "      <th>CPI</th>\n",
              "      <th>Unemployment</th>\n",
              "    </tr>\n",
              "  </thead>\n",
              "  <tbody>\n",
              "    <tr>\n",
              "      <th>count</th>\n",
              "      <td>6435.000000</td>\n",
              "      <td>6.435000e+03</td>\n",
              "      <td>6435.000000</td>\n",
              "      <td>6435.000000</td>\n",
              "      <td>6435.000000</td>\n",
              "      <td>6435.000000</td>\n",
              "      <td>6435.000000</td>\n",
              "    </tr>\n",
              "    <tr>\n",
              "      <th>mean</th>\n",
              "      <td>23.000000</td>\n",
              "      <td>1.046965e+06</td>\n",
              "      <td>0.069930</td>\n",
              "      <td>60.663782</td>\n",
              "      <td>3.358607</td>\n",
              "      <td>171.578394</td>\n",
              "      <td>7.999151</td>\n",
              "    </tr>\n",
              "    <tr>\n",
              "      <th>std</th>\n",
              "      <td>12.988182</td>\n",
              "      <td>5.643666e+05</td>\n",
              "      <td>0.255049</td>\n",
              "      <td>18.444933</td>\n",
              "      <td>0.459020</td>\n",
              "      <td>39.356712</td>\n",
              "      <td>1.875885</td>\n",
              "    </tr>\n",
              "    <tr>\n",
              "      <th>min</th>\n",
              "      <td>1.000000</td>\n",
              "      <td>2.099862e+05</td>\n",
              "      <td>0.000000</td>\n",
              "      <td>-2.060000</td>\n",
              "      <td>2.472000</td>\n",
              "      <td>126.064000</td>\n",
              "      <td>3.879000</td>\n",
              "    </tr>\n",
              "    <tr>\n",
              "      <th>25%</th>\n",
              "      <td>12.000000</td>\n",
              "      <td>5.533501e+05</td>\n",
              "      <td>0.000000</td>\n",
              "      <td>47.460000</td>\n",
              "      <td>2.933000</td>\n",
              "      <td>131.735000</td>\n",
              "      <td>6.891000</td>\n",
              "    </tr>\n",
              "    <tr>\n",
              "      <th>50%</th>\n",
              "      <td>23.000000</td>\n",
              "      <td>9.607460e+05</td>\n",
              "      <td>0.000000</td>\n",
              "      <td>62.670000</td>\n",
              "      <td>3.445000</td>\n",
              "      <td>182.616521</td>\n",
              "      <td>7.874000</td>\n",
              "    </tr>\n",
              "    <tr>\n",
              "      <th>75%</th>\n",
              "      <td>34.000000</td>\n",
              "      <td>1.420159e+06</td>\n",
              "      <td>0.000000</td>\n",
              "      <td>74.940000</td>\n",
              "      <td>3.735000</td>\n",
              "      <td>212.743293</td>\n",
              "      <td>8.622000</td>\n",
              "    </tr>\n",
              "    <tr>\n",
              "      <th>max</th>\n",
              "      <td>45.000000</td>\n",
              "      <td>3.818686e+06</td>\n",
              "      <td>1.000000</td>\n",
              "      <td>100.140000</td>\n",
              "      <td>4.468000</td>\n",
              "      <td>227.232807</td>\n",
              "      <td>14.313000</td>\n",
              "    </tr>\n",
              "  </tbody>\n",
              "</table>\n",
              "</div>\n",
              "      <button class=\"colab-df-convert\" onclick=\"convertToInteractive('df-f2cd9838-0e38-4437-a041-5255b3595ffd')\"\n",
              "              title=\"Convert this dataframe to an interactive table.\"\n",
              "              style=\"display:none;\">\n",
              "        \n",
              "  <svg xmlns=\"http://www.w3.org/2000/svg\" height=\"24px\"viewBox=\"0 0 24 24\"\n",
              "       width=\"24px\">\n",
              "    <path d=\"M0 0h24v24H0V0z\" fill=\"none\"/>\n",
              "    <path d=\"M18.56 5.44l.94 2.06.94-2.06 2.06-.94-2.06-.94-.94-2.06-.94 2.06-2.06.94zm-11 1L8.5 8.5l.94-2.06 2.06-.94-2.06-.94L8.5 2.5l-.94 2.06-2.06.94zm10 10l.94 2.06.94-2.06 2.06-.94-2.06-.94-.94-2.06-.94 2.06-2.06.94z\"/><path d=\"M17.41 7.96l-1.37-1.37c-.4-.4-.92-.59-1.43-.59-.52 0-1.04.2-1.43.59L10.3 9.45l-7.72 7.72c-.78.78-.78 2.05 0 2.83L4 21.41c.39.39.9.59 1.41.59.51 0 1.02-.2 1.41-.59l7.78-7.78 2.81-2.81c.8-.78.8-2.07 0-2.86zM5.41 20L4 18.59l7.72-7.72 1.47 1.35L5.41 20z\"/>\n",
              "  </svg>\n",
              "      </button>\n",
              "      \n",
              "  <style>\n",
              "    .colab-df-container {\n",
              "      display:flex;\n",
              "      flex-wrap:wrap;\n",
              "      gap: 12px;\n",
              "    }\n",
              "\n",
              "    .colab-df-convert {\n",
              "      background-color: #E8F0FE;\n",
              "      border: none;\n",
              "      border-radius: 50%;\n",
              "      cursor: pointer;\n",
              "      display: none;\n",
              "      fill: #1967D2;\n",
              "      height: 32px;\n",
              "      padding: 0 0 0 0;\n",
              "      width: 32px;\n",
              "    }\n",
              "\n",
              "    .colab-df-convert:hover {\n",
              "      background-color: #E2EBFA;\n",
              "      box-shadow: 0px 1px 2px rgba(60, 64, 67, 0.3), 0px 1px 3px 1px rgba(60, 64, 67, 0.15);\n",
              "      fill: #174EA6;\n",
              "    }\n",
              "\n",
              "    [theme=dark] .colab-df-convert {\n",
              "      background-color: #3B4455;\n",
              "      fill: #D2E3FC;\n",
              "    }\n",
              "\n",
              "    [theme=dark] .colab-df-convert:hover {\n",
              "      background-color: #434B5C;\n",
              "      box-shadow: 0px 1px 3px 1px rgba(0, 0, 0, 0.15);\n",
              "      filter: drop-shadow(0px 1px 2px rgba(0, 0, 0, 0.3));\n",
              "      fill: #FFFFFF;\n",
              "    }\n",
              "  </style>\n",
              "\n",
              "      <script>\n",
              "        const buttonEl =\n",
              "          document.querySelector('#df-f2cd9838-0e38-4437-a041-5255b3595ffd button.colab-df-convert');\n",
              "        buttonEl.style.display =\n",
              "          google.colab.kernel.accessAllowed ? 'block' : 'none';\n",
              "\n",
              "        async function convertToInteractive(key) {\n",
              "          const element = document.querySelector('#df-f2cd9838-0e38-4437-a041-5255b3595ffd');\n",
              "          const dataTable =\n",
              "            await google.colab.kernel.invokeFunction('convertToInteractive',\n",
              "                                                     [key], {});\n",
              "          if (!dataTable) return;\n",
              "\n",
              "          const docLinkHtml = 'Like what you see? Visit the ' +\n",
              "            '<a target=\"_blank\" href=https://colab.research.google.com/notebooks/data_table.ipynb>data table notebook</a>'\n",
              "            + ' to learn more about interactive tables.';\n",
              "          element.innerHTML = '';\n",
              "          dataTable['output_type'] = 'display_data';\n",
              "          await google.colab.output.renderOutput(dataTable, element);\n",
              "          const docLink = document.createElement('div');\n",
              "          docLink.innerHTML = docLinkHtml;\n",
              "          element.appendChild(docLink);\n",
              "        }\n",
              "      </script>\n",
              "    </div>\n",
              "  </div>\n",
              "  "
            ]
          },
          "metadata": {},
          "execution_count": 179
        }
      ]
    },
    {
      "cell_type": "code",
      "source": [
        "df.head()"
      ],
      "metadata": {
        "colab": {
          "base_uri": "https://localhost:8080/",
          "height": 206
        },
        "id": "1sUjSRY39yAp",
        "outputId": "6b16d5db-a191-414b-ec1d-df219a1f8bc7"
      },
      "execution_count": 180,
      "outputs": [
        {
          "output_type": "execute_result",
          "data": {
            "text/plain": [
              "   Store       Date  Weekly_Sales  Holiday_Flag  Temperature  Fuel_Price  \\\n",
              "0      1 2010-05-02    1643690.90             0        42.31       2.572   \n",
              "1      1 2010-12-02    1641957.44             1        38.51       2.548   \n",
              "2      1 2010-02-19    1611968.17             0        39.93       2.514   \n",
              "3      1 2010-02-26    1409727.59             0        46.63       2.561   \n",
              "4      1 2010-05-03    1554806.68             0        46.50       2.625   \n",
              "\n",
              "          CPI  Unemployment  \n",
              "0  211.096358         8.106  \n",
              "1  211.242170         8.106  \n",
              "2  211.289143         8.106  \n",
              "3  211.319643         8.106  \n",
              "4  211.350143         8.106  "
            ],
            "text/html": [
              "\n",
              "  <div id=\"df-2f6b5ecf-4b53-4893-bb8c-732f816d85c4\">\n",
              "    <div class=\"colab-df-container\">\n",
              "      <div>\n",
              "<style scoped>\n",
              "    .dataframe tbody tr th:only-of-type {\n",
              "        vertical-align: middle;\n",
              "    }\n",
              "\n",
              "    .dataframe tbody tr th {\n",
              "        vertical-align: top;\n",
              "    }\n",
              "\n",
              "    .dataframe thead th {\n",
              "        text-align: right;\n",
              "    }\n",
              "</style>\n",
              "<table border=\"1\" class=\"dataframe\">\n",
              "  <thead>\n",
              "    <tr style=\"text-align: right;\">\n",
              "      <th></th>\n",
              "      <th>Store</th>\n",
              "      <th>Date</th>\n",
              "      <th>Weekly_Sales</th>\n",
              "      <th>Holiday_Flag</th>\n",
              "      <th>Temperature</th>\n",
              "      <th>Fuel_Price</th>\n",
              "      <th>CPI</th>\n",
              "      <th>Unemployment</th>\n",
              "    </tr>\n",
              "  </thead>\n",
              "  <tbody>\n",
              "    <tr>\n",
              "      <th>0</th>\n",
              "      <td>1</td>\n",
              "      <td>2010-05-02</td>\n",
              "      <td>1643690.90</td>\n",
              "      <td>0</td>\n",
              "      <td>42.31</td>\n",
              "      <td>2.572</td>\n",
              "      <td>211.096358</td>\n",
              "      <td>8.106</td>\n",
              "    </tr>\n",
              "    <tr>\n",
              "      <th>1</th>\n",
              "      <td>1</td>\n",
              "      <td>2010-12-02</td>\n",
              "      <td>1641957.44</td>\n",
              "      <td>1</td>\n",
              "      <td>38.51</td>\n",
              "      <td>2.548</td>\n",
              "      <td>211.242170</td>\n",
              "      <td>8.106</td>\n",
              "    </tr>\n",
              "    <tr>\n",
              "      <th>2</th>\n",
              "      <td>1</td>\n",
              "      <td>2010-02-19</td>\n",
              "      <td>1611968.17</td>\n",
              "      <td>0</td>\n",
              "      <td>39.93</td>\n",
              "      <td>2.514</td>\n",
              "      <td>211.289143</td>\n",
              "      <td>8.106</td>\n",
              "    </tr>\n",
              "    <tr>\n",
              "      <th>3</th>\n",
              "      <td>1</td>\n",
              "      <td>2010-02-26</td>\n",
              "      <td>1409727.59</td>\n",
              "      <td>0</td>\n",
              "      <td>46.63</td>\n",
              "      <td>2.561</td>\n",
              "      <td>211.319643</td>\n",
              "      <td>8.106</td>\n",
              "    </tr>\n",
              "    <tr>\n",
              "      <th>4</th>\n",
              "      <td>1</td>\n",
              "      <td>2010-05-03</td>\n",
              "      <td>1554806.68</td>\n",
              "      <td>0</td>\n",
              "      <td>46.50</td>\n",
              "      <td>2.625</td>\n",
              "      <td>211.350143</td>\n",
              "      <td>8.106</td>\n",
              "    </tr>\n",
              "  </tbody>\n",
              "</table>\n",
              "</div>\n",
              "      <button class=\"colab-df-convert\" onclick=\"convertToInteractive('df-2f6b5ecf-4b53-4893-bb8c-732f816d85c4')\"\n",
              "              title=\"Convert this dataframe to an interactive table.\"\n",
              "              style=\"display:none;\">\n",
              "        \n",
              "  <svg xmlns=\"http://www.w3.org/2000/svg\" height=\"24px\"viewBox=\"0 0 24 24\"\n",
              "       width=\"24px\">\n",
              "    <path d=\"M0 0h24v24H0V0z\" fill=\"none\"/>\n",
              "    <path d=\"M18.56 5.44l.94 2.06.94-2.06 2.06-.94-2.06-.94-.94-2.06-.94 2.06-2.06.94zm-11 1L8.5 8.5l.94-2.06 2.06-.94-2.06-.94L8.5 2.5l-.94 2.06-2.06.94zm10 10l.94 2.06.94-2.06 2.06-.94-2.06-.94-.94-2.06-.94 2.06-2.06.94z\"/><path d=\"M17.41 7.96l-1.37-1.37c-.4-.4-.92-.59-1.43-.59-.52 0-1.04.2-1.43.59L10.3 9.45l-7.72 7.72c-.78.78-.78 2.05 0 2.83L4 21.41c.39.39.9.59 1.41.59.51 0 1.02-.2 1.41-.59l7.78-7.78 2.81-2.81c.8-.78.8-2.07 0-2.86zM5.41 20L4 18.59l7.72-7.72 1.47 1.35L5.41 20z\"/>\n",
              "  </svg>\n",
              "      </button>\n",
              "      \n",
              "  <style>\n",
              "    .colab-df-container {\n",
              "      display:flex;\n",
              "      flex-wrap:wrap;\n",
              "      gap: 12px;\n",
              "    }\n",
              "\n",
              "    .colab-df-convert {\n",
              "      background-color: #E8F0FE;\n",
              "      border: none;\n",
              "      border-radius: 50%;\n",
              "      cursor: pointer;\n",
              "      display: none;\n",
              "      fill: #1967D2;\n",
              "      height: 32px;\n",
              "      padding: 0 0 0 0;\n",
              "      width: 32px;\n",
              "    }\n",
              "\n",
              "    .colab-df-convert:hover {\n",
              "      background-color: #E2EBFA;\n",
              "      box-shadow: 0px 1px 2px rgba(60, 64, 67, 0.3), 0px 1px 3px 1px rgba(60, 64, 67, 0.15);\n",
              "      fill: #174EA6;\n",
              "    }\n",
              "\n",
              "    [theme=dark] .colab-df-convert {\n",
              "      background-color: #3B4455;\n",
              "      fill: #D2E3FC;\n",
              "    }\n",
              "\n",
              "    [theme=dark] .colab-df-convert:hover {\n",
              "      background-color: #434B5C;\n",
              "      box-shadow: 0px 1px 3px 1px rgba(0, 0, 0, 0.15);\n",
              "      filter: drop-shadow(0px 1px 2px rgba(0, 0, 0, 0.3));\n",
              "      fill: #FFFFFF;\n",
              "    }\n",
              "  </style>\n",
              "\n",
              "      <script>\n",
              "        const buttonEl =\n",
              "          document.querySelector('#df-2f6b5ecf-4b53-4893-bb8c-732f816d85c4 button.colab-df-convert');\n",
              "        buttonEl.style.display =\n",
              "          google.colab.kernel.accessAllowed ? 'block' : 'none';\n",
              "\n",
              "        async function convertToInteractive(key) {\n",
              "          const element = document.querySelector('#df-2f6b5ecf-4b53-4893-bb8c-732f816d85c4');\n",
              "          const dataTable =\n",
              "            await google.colab.kernel.invokeFunction('convertToInteractive',\n",
              "                                                     [key], {});\n",
              "          if (!dataTable) return;\n",
              "\n",
              "          const docLinkHtml = 'Like what you see? Visit the ' +\n",
              "            '<a target=\"_blank\" href=https://colab.research.google.com/notebooks/data_table.ipynb>data table notebook</a>'\n",
              "            + ' to learn more about interactive tables.';\n",
              "          element.innerHTML = '';\n",
              "          dataTable['output_type'] = 'display_data';\n",
              "          await google.colab.output.renderOutput(dataTable, element);\n",
              "          const docLink = document.createElement('div');\n",
              "          docLink.innerHTML = docLinkHtml;\n",
              "          element.appendChild(docLink);\n",
              "        }\n",
              "      </script>\n",
              "    </div>\n",
              "  </div>\n",
              "  "
            ]
          },
          "metadata": {},
          "execution_count": 180
        }
      ]
    },
    {
      "cell_type": "code",
      "source": [
        "df.dtypes"
      ],
      "metadata": {
        "colab": {
          "base_uri": "https://localhost:8080/"
        },
        "id": "_b8iyk9metT5",
        "outputId": "a907a5ef-a72a-4866-89c3-3758fa03c4dd"
      },
      "execution_count": 181,
      "outputs": [
        {
          "output_type": "execute_result",
          "data": {
            "text/plain": [
              "Store                    int64\n",
              "Date            datetime64[ns]\n",
              "Weekly_Sales           float64\n",
              "Holiday_Flag             int64\n",
              "Temperature            float64\n",
              "Fuel_Price             float64\n",
              "CPI                    float64\n",
              "Unemployment           float64\n",
              "dtype: object"
            ]
          },
          "metadata": {},
          "execution_count": 181
        }
      ]
    },
    {
      "cell_type": "code",
      "source": [
        "df.value_counts()"
      ],
      "metadata": {
        "colab": {
          "base_uri": "https://localhost:8080/"
        },
        "id": "7xHfzZBEjhSF",
        "outputId": "3c6cad40-d3ee-49cc-a42c-dfd88950612b"
      },
      "execution_count": 182,
      "outputs": [
        {
          "output_type": "execute_result",
          "data": {
            "text/plain": [
              "Store  Date        Weekly_Sales  Holiday_Flag  Temperature  Fuel_Price  CPI         Unemployment\n",
              "1      2010-01-10  1453329.50    0             71.89        2.603       211.671989  7.838           1\n",
              "30     2012-10-19  437537.29     0             68.52        3.594       223.059808  6.170           1\n",
              "31     2010-03-12  1338716.37    0             50.43        2.708       211.265543  8.163           1\n",
              "       2010-03-09  1302047.48    0             82.57        2.577       211.188693  8.099           1\n",
              "       2010-02-26  1344354.41    0             45.31        2.561       210.975957  8.324           1\n",
              "                                                                                                   ..\n",
              "15     2012-10-26  558473.60     0             55.75        4.071       138.728161  7.992           1\n",
              "       2012-10-19  555652.77     0             52.89        4.153       138.833613  7.992           1\n",
              "       2012-10-08  590453.63     0             73.99        3.863       138.143774  8.193           1\n",
              "       2012-10-02  628218.22     1             31.91        3.826       137.166677  7.943           1\n",
              "45     2012-12-10  734464.36     0             54.47        4.000       192.327265  8.667           1\n",
              "Length: 6435, dtype: int64"
            ]
          },
          "metadata": {},
          "execution_count": 182
        }
      ]
    },
    {
      "cell_type": "markdown",
      "source": [
        "Analyzing data and dependancies\n",
        "1. Store Sales Hollidays vs Working days"
      ],
      "metadata": {
        "id": "U6rOEDHfLKXD"
      }
    },
    {
      "cell_type": "code",
      "source": [
        "store_sales_working = df[df['Holiday_Flag'].isin([0])]\n",
        "sales_stores = store_sales_working.groupby('Store').Weekly_Sales.mean().reset_index()\n",
        "fig = px.bar(sales_stores, x = \"Store\", y =\"Weekly_Sales\",color=\"Store\",title=\"Store weekly Sales\",height=400)\n",
        "fig.show()"
      ],
      "metadata": {
        "colab": {
          "base_uri": "https://localhost:8080/",
          "height": 417
        },
        "id": "BYd4jxdULHvl",
        "outputId": "8c539ca7-cfa0-4156-fed2-7653e900c61e"
      },
      "execution_count": 183,
      "outputs": [
        {
          "output_type": "display_data",
          "data": {
            "text/html": [
              "<html>\n",
              "<head><meta charset=\"utf-8\" /></head>\n",
              "<body>\n",
              "    <div>            <script src=\"https://cdnjs.cloudflare.com/ajax/libs/mathjax/2.7.5/MathJax.js?config=TeX-AMS-MML_SVG\"></script><script type=\"text/javascript\">if (window.MathJax && window.MathJax.Hub && window.MathJax.Hub.Config) {window.MathJax.Hub.Config({SVG: {font: \"STIX-Web\"}});}</script>                <script type=\"text/javascript\">window.PlotlyConfig = {MathJaxConfig: 'local'};</script>\n",
              "        <script src=\"https://cdn.plot.ly/plotly-2.18.2.min.js\"></script>                <div id=\"0ba3b20c-e9cb-4905-8184-a061afcbf4fb\" class=\"plotly-graph-div\" style=\"height:400px; width:100%;\"></div>            <script type=\"text/javascript\">                                    window.PLOTLYENV=window.PLOTLYENV || {};                                    if (document.getElementById(\"0ba3b20c-e9cb-4905-8184-a061afcbf4fb\")) {                    Plotly.newPlot(                        \"0ba3b20c-e9cb-4905-8184-a061afcbf4fb\",                        [{\"alignmentgroup\":\"True\",\"hovertemplate\":\"Store=%{marker.color}<br>Weekly_Sales=%{y}<extra></extra>\",\"legendgroup\":\"\",\"marker\":{\"color\":[1,2,3,4,5,6,7,8,9,10,11,12,13,14,15,16,17,18,19,20,21,22,23,24,25,26,27,28,29,30,31,32,33,34,35,36,37,38,39,40,41,42,43,44,45],\"coloraxis\":\"coloraxis\",\"pattern\":{\"shape\":\"\"}},\"name\":\"\",\"offsetgroup\":\"\",\"orientation\":\"v\",\"showlegend\":false,\"textposition\":\"auto\",\"x\":[1,2,3,4,5,6,7,8,9,10,11,12,13,14,15,16,17,18,19,20,21,22,23,24,25,26,27,28,29,30,31,32,33,34,35,36,37,38,39,40,41,42,43,44,45],\"xaxis\":\"x\",\"y\":[1546957.3856390978,1914208.8118796991,400064.84639097744,2083555.8431578947,314892.2769172932,1555992.867443609,562964.4548120301,903743.402481203,540599.3291729323,1883309.4315789475,1349464.9770676692,999291.9244360903,1995392.9754887219,2013489.3335338344,617064.8401503759,515677.3604511278,887099.0159398497,1078349.7187969924,1435070.637293233,2097048.4334586465,750774.1791729323,1024262.4211278195,1384399.9617293233,1347857.4343609023,704243.6898496241,997713.7240601503,1766412.9631578948,1311888.9814285715,534375.755037594,438708.96278195485,1388072.5203007518,1163769.964887218,259656.2163157895,961127.6850375939,908099.1542105264,373953.44864661654,519755.56255639094,386049.08,1443114.7945112782,960826.8348872181,1263101.175413534,555554.9687969924,633127.6137593985,303253.6227819549,782198.5284962406],\"yaxis\":\"y\",\"type\":\"bar\"}],                        {\"template\":{\"data\":{\"histogram2dcontour\":[{\"type\":\"histogram2dcontour\",\"colorbar\":{\"outlinewidth\":0,\"ticks\":\"\"},\"colorscale\":[[0.0,\"#0d0887\"],[0.1111111111111111,\"#46039f\"],[0.2222222222222222,\"#7201a8\"],[0.3333333333333333,\"#9c179e\"],[0.4444444444444444,\"#bd3786\"],[0.5555555555555556,\"#d8576b\"],[0.6666666666666666,\"#ed7953\"],[0.7777777777777778,\"#fb9f3a\"],[0.8888888888888888,\"#fdca26\"],[1.0,\"#f0f921\"]]}],\"choropleth\":[{\"type\":\"choropleth\",\"colorbar\":{\"outlinewidth\":0,\"ticks\":\"\"}}],\"histogram2d\":[{\"type\":\"histogram2d\",\"colorbar\":{\"outlinewidth\":0,\"ticks\":\"\"},\"colorscale\":[[0.0,\"#0d0887\"],[0.1111111111111111,\"#46039f\"],[0.2222222222222222,\"#7201a8\"],[0.3333333333333333,\"#9c179e\"],[0.4444444444444444,\"#bd3786\"],[0.5555555555555556,\"#d8576b\"],[0.6666666666666666,\"#ed7953\"],[0.7777777777777778,\"#fb9f3a\"],[0.8888888888888888,\"#fdca26\"],[1.0,\"#f0f921\"]]}],\"heatmap\":[{\"type\":\"heatmap\",\"colorbar\":{\"outlinewidth\":0,\"ticks\":\"\"},\"colorscale\":[[0.0,\"#0d0887\"],[0.1111111111111111,\"#46039f\"],[0.2222222222222222,\"#7201a8\"],[0.3333333333333333,\"#9c179e\"],[0.4444444444444444,\"#bd3786\"],[0.5555555555555556,\"#d8576b\"],[0.6666666666666666,\"#ed7953\"],[0.7777777777777778,\"#fb9f3a\"],[0.8888888888888888,\"#fdca26\"],[1.0,\"#f0f921\"]]}],\"heatmapgl\":[{\"type\":\"heatmapgl\",\"colorbar\":{\"outlinewidth\":0,\"ticks\":\"\"},\"colorscale\":[[0.0,\"#0d0887\"],[0.1111111111111111,\"#46039f\"],[0.2222222222222222,\"#7201a8\"],[0.3333333333333333,\"#9c179e\"],[0.4444444444444444,\"#bd3786\"],[0.5555555555555556,\"#d8576b\"],[0.6666666666666666,\"#ed7953\"],[0.7777777777777778,\"#fb9f3a\"],[0.8888888888888888,\"#fdca26\"],[1.0,\"#f0f921\"]]}],\"contourcarpet\":[{\"type\":\"contourcarpet\",\"colorbar\":{\"outlinewidth\":0,\"ticks\":\"\"}}],\"contour\":[{\"type\":\"contour\",\"colorbar\":{\"outlinewidth\":0,\"ticks\":\"\"},\"colorscale\":[[0.0,\"#0d0887\"],[0.1111111111111111,\"#46039f\"],[0.2222222222222222,\"#7201a8\"],[0.3333333333333333,\"#9c179e\"],[0.4444444444444444,\"#bd3786\"],[0.5555555555555556,\"#d8576b\"],[0.6666666666666666,\"#ed7953\"],[0.7777777777777778,\"#fb9f3a\"],[0.8888888888888888,\"#fdca26\"],[1.0,\"#f0f921\"]]}],\"surface\":[{\"type\":\"surface\",\"colorbar\":{\"outlinewidth\":0,\"ticks\":\"\"},\"colorscale\":[[0.0,\"#0d0887\"],[0.1111111111111111,\"#46039f\"],[0.2222222222222222,\"#7201a8\"],[0.3333333333333333,\"#9c179e\"],[0.4444444444444444,\"#bd3786\"],[0.5555555555555556,\"#d8576b\"],[0.6666666666666666,\"#ed7953\"],[0.7777777777777778,\"#fb9f3a\"],[0.8888888888888888,\"#fdca26\"],[1.0,\"#f0f921\"]]}],\"mesh3d\":[{\"type\":\"mesh3d\",\"colorbar\":{\"outlinewidth\":0,\"ticks\":\"\"}}],\"scatter\":[{\"fillpattern\":{\"fillmode\":\"overlay\",\"size\":10,\"solidity\":0.2},\"type\":\"scatter\"}],\"parcoords\":[{\"type\":\"parcoords\",\"line\":{\"colorbar\":{\"outlinewidth\":0,\"ticks\":\"\"}}}],\"scatterpolargl\":[{\"type\":\"scatterpolargl\",\"marker\":{\"colorbar\":{\"outlinewidth\":0,\"ticks\":\"\"}}}],\"bar\":[{\"error_x\":{\"color\":\"#2a3f5f\"},\"error_y\":{\"color\":\"#2a3f5f\"},\"marker\":{\"line\":{\"color\":\"#E5ECF6\",\"width\":0.5},\"pattern\":{\"fillmode\":\"overlay\",\"size\":10,\"solidity\":0.2}},\"type\":\"bar\"}],\"scattergeo\":[{\"type\":\"scattergeo\",\"marker\":{\"colorbar\":{\"outlinewidth\":0,\"ticks\":\"\"}}}],\"scatterpolar\":[{\"type\":\"scatterpolar\",\"marker\":{\"colorbar\":{\"outlinewidth\":0,\"ticks\":\"\"}}}],\"histogram\":[{\"marker\":{\"pattern\":{\"fillmode\":\"overlay\",\"size\":10,\"solidity\":0.2}},\"type\":\"histogram\"}],\"scattergl\":[{\"type\":\"scattergl\",\"marker\":{\"colorbar\":{\"outlinewidth\":0,\"ticks\":\"\"}}}],\"scatter3d\":[{\"type\":\"scatter3d\",\"line\":{\"colorbar\":{\"outlinewidth\":0,\"ticks\":\"\"}},\"marker\":{\"colorbar\":{\"outlinewidth\":0,\"ticks\":\"\"}}}],\"scattermapbox\":[{\"type\":\"scattermapbox\",\"marker\":{\"colorbar\":{\"outlinewidth\":0,\"ticks\":\"\"}}}],\"scatterternary\":[{\"type\":\"scatterternary\",\"marker\":{\"colorbar\":{\"outlinewidth\":0,\"ticks\":\"\"}}}],\"scattercarpet\":[{\"type\":\"scattercarpet\",\"marker\":{\"colorbar\":{\"outlinewidth\":0,\"ticks\":\"\"}}}],\"carpet\":[{\"aaxis\":{\"endlinecolor\":\"#2a3f5f\",\"gridcolor\":\"white\",\"linecolor\":\"white\",\"minorgridcolor\":\"white\",\"startlinecolor\":\"#2a3f5f\"},\"baxis\":{\"endlinecolor\":\"#2a3f5f\",\"gridcolor\":\"white\",\"linecolor\":\"white\",\"minorgridcolor\":\"white\",\"startlinecolor\":\"#2a3f5f\"},\"type\":\"carpet\"}],\"table\":[{\"cells\":{\"fill\":{\"color\":\"#EBF0F8\"},\"line\":{\"color\":\"white\"}},\"header\":{\"fill\":{\"color\":\"#C8D4E3\"},\"line\":{\"color\":\"white\"}},\"type\":\"table\"}],\"barpolar\":[{\"marker\":{\"line\":{\"color\":\"#E5ECF6\",\"width\":0.5},\"pattern\":{\"fillmode\":\"overlay\",\"size\":10,\"solidity\":0.2}},\"type\":\"barpolar\"}],\"pie\":[{\"automargin\":true,\"type\":\"pie\"}]},\"layout\":{\"autotypenumbers\":\"strict\",\"colorway\":[\"#636efa\",\"#EF553B\",\"#00cc96\",\"#ab63fa\",\"#FFA15A\",\"#19d3f3\",\"#FF6692\",\"#B6E880\",\"#FF97FF\",\"#FECB52\"],\"font\":{\"color\":\"#2a3f5f\"},\"hovermode\":\"closest\",\"hoverlabel\":{\"align\":\"left\"},\"paper_bgcolor\":\"white\",\"plot_bgcolor\":\"#E5ECF6\",\"polar\":{\"bgcolor\":\"#E5ECF6\",\"angularaxis\":{\"gridcolor\":\"white\",\"linecolor\":\"white\",\"ticks\":\"\"},\"radialaxis\":{\"gridcolor\":\"white\",\"linecolor\":\"white\",\"ticks\":\"\"}},\"ternary\":{\"bgcolor\":\"#E5ECF6\",\"aaxis\":{\"gridcolor\":\"white\",\"linecolor\":\"white\",\"ticks\":\"\"},\"baxis\":{\"gridcolor\":\"white\",\"linecolor\":\"white\",\"ticks\":\"\"},\"caxis\":{\"gridcolor\":\"white\",\"linecolor\":\"white\",\"ticks\":\"\"}},\"coloraxis\":{\"colorbar\":{\"outlinewidth\":0,\"ticks\":\"\"}},\"colorscale\":{\"sequential\":[[0.0,\"#0d0887\"],[0.1111111111111111,\"#46039f\"],[0.2222222222222222,\"#7201a8\"],[0.3333333333333333,\"#9c179e\"],[0.4444444444444444,\"#bd3786\"],[0.5555555555555556,\"#d8576b\"],[0.6666666666666666,\"#ed7953\"],[0.7777777777777778,\"#fb9f3a\"],[0.8888888888888888,\"#fdca26\"],[1.0,\"#f0f921\"]],\"sequentialminus\":[[0.0,\"#0d0887\"],[0.1111111111111111,\"#46039f\"],[0.2222222222222222,\"#7201a8\"],[0.3333333333333333,\"#9c179e\"],[0.4444444444444444,\"#bd3786\"],[0.5555555555555556,\"#d8576b\"],[0.6666666666666666,\"#ed7953\"],[0.7777777777777778,\"#fb9f3a\"],[0.8888888888888888,\"#fdca26\"],[1.0,\"#f0f921\"]],\"diverging\":[[0,\"#8e0152\"],[0.1,\"#c51b7d\"],[0.2,\"#de77ae\"],[0.3,\"#f1b6da\"],[0.4,\"#fde0ef\"],[0.5,\"#f7f7f7\"],[0.6,\"#e6f5d0\"],[0.7,\"#b8e186\"],[0.8,\"#7fbc41\"],[0.9,\"#4d9221\"],[1,\"#276419\"]]},\"xaxis\":{\"gridcolor\":\"white\",\"linecolor\":\"white\",\"ticks\":\"\",\"title\":{\"standoff\":15},\"zerolinecolor\":\"white\",\"automargin\":true,\"zerolinewidth\":2},\"yaxis\":{\"gridcolor\":\"white\",\"linecolor\":\"white\",\"ticks\":\"\",\"title\":{\"standoff\":15},\"zerolinecolor\":\"white\",\"automargin\":true,\"zerolinewidth\":2},\"scene\":{\"xaxis\":{\"backgroundcolor\":\"#E5ECF6\",\"gridcolor\":\"white\",\"linecolor\":\"white\",\"showbackground\":true,\"ticks\":\"\",\"zerolinecolor\":\"white\",\"gridwidth\":2},\"yaxis\":{\"backgroundcolor\":\"#E5ECF6\",\"gridcolor\":\"white\",\"linecolor\":\"white\",\"showbackground\":true,\"ticks\":\"\",\"zerolinecolor\":\"white\",\"gridwidth\":2},\"zaxis\":{\"backgroundcolor\":\"#E5ECF6\",\"gridcolor\":\"white\",\"linecolor\":\"white\",\"showbackground\":true,\"ticks\":\"\",\"zerolinecolor\":\"white\",\"gridwidth\":2}},\"shapedefaults\":{\"line\":{\"color\":\"#2a3f5f\"}},\"annotationdefaults\":{\"arrowcolor\":\"#2a3f5f\",\"arrowhead\":0,\"arrowwidth\":1},\"geo\":{\"bgcolor\":\"white\",\"landcolor\":\"#E5ECF6\",\"subunitcolor\":\"white\",\"showland\":true,\"showlakes\":true,\"lakecolor\":\"white\"},\"title\":{\"x\":0.05},\"mapbox\":{\"style\":\"light\"}}},\"xaxis\":{\"anchor\":\"y\",\"domain\":[0.0,1.0],\"title\":{\"text\":\"Store\"}},\"yaxis\":{\"anchor\":\"x\",\"domain\":[0.0,1.0],\"title\":{\"text\":\"Weekly_Sales\"}},\"coloraxis\":{\"colorbar\":{\"title\":{\"text\":\"Store\"}},\"colorscale\":[[0.0,\"#0d0887\"],[0.1111111111111111,\"#46039f\"],[0.2222222222222222,\"#7201a8\"],[0.3333333333333333,\"#9c179e\"],[0.4444444444444444,\"#bd3786\"],[0.5555555555555556,\"#d8576b\"],[0.6666666666666666,\"#ed7953\"],[0.7777777777777778,\"#fb9f3a\"],[0.8888888888888888,\"#fdca26\"],[1.0,\"#f0f921\"]]},\"legend\":{\"tracegroupgap\":0},\"title\":{\"text\":\"Store weekly Sales\"},\"barmode\":\"relative\",\"height\":400},                        {\"responsive\": true}                    ).then(function(){\n",
              "                            \n",
              "var gd = document.getElementById('0ba3b20c-e9cb-4905-8184-a061afcbf4fb');\n",
              "var x = new MutationObserver(function (mutations, observer) {{\n",
              "        var display = window.getComputedStyle(gd).display;\n",
              "        if (!display || display === 'none') {{\n",
              "            console.log([gd, 'removed!']);\n",
              "            Plotly.purge(gd);\n",
              "            observer.disconnect();\n",
              "        }}\n",
              "}});\n",
              "\n",
              "// Listen for the removal of the full notebook cells\n",
              "var notebookContainer = gd.closest('#notebook-container');\n",
              "if (notebookContainer) {{\n",
              "    x.observe(notebookContainer, {childList: true});\n",
              "}}\n",
              "\n",
              "// Listen for the clearing of the current output cell\n",
              "var outputEl = gd.closest('.output');\n",
              "if (outputEl) {{\n",
              "    x.observe(outputEl, {childList: true});\n",
              "}}\n",
              "\n",
              "                        })                };                            </script>        </div>\n",
              "</body>\n",
              "</html>"
            ]
          },
          "metadata": {}
        }
      ]
    },
    {
      "cell_type": "markdown",
      "source": [
        "2.Hollyday_Sales"
      ],
      "metadata": {
        "id": "wtrpmOlIaQhl"
      }
    },
    {
      "cell_type": "code",
      "source": [
        "store_sales_hollidays = df[df['Holiday_Flag'].isin([1])]\n",
        "a = store_sales_hollidays.groupby(by=\"Store\", dropna=False).mean().reset_index()\n",
        "fig = px.bar(a, x='Store', y='Weekly_Sales',color='Store',title=\"Stores Overall Sales\")\n",
        "fig.show()  "
      ],
      "metadata": {
        "colab": {
          "base_uri": "https://localhost:8080/",
          "height": 542
        },
        "id": "pPwvzAuSa0Fk",
        "outputId": "5419ab46-1c75-41ab-bb28-e792995f06aa"
      },
      "execution_count": 184,
      "outputs": [
        {
          "output_type": "display_data",
          "data": {
            "text/html": [
              "<html>\n",
              "<head><meta charset=\"utf-8\" /></head>\n",
              "<body>\n",
              "    <div>            <script src=\"https://cdnjs.cloudflare.com/ajax/libs/mathjax/2.7.5/MathJax.js?config=TeX-AMS-MML_SVG\"></script><script type=\"text/javascript\">if (window.MathJax && window.MathJax.Hub && window.MathJax.Hub.Config) {window.MathJax.Hub.Config({SVG: {font: \"STIX-Web\"}});}</script>                <script type=\"text/javascript\">window.PlotlyConfig = {MathJaxConfig: 'local'};</script>\n",
              "        <script src=\"https://cdn.plot.ly/plotly-2.18.2.min.js\"></script>                <div id=\"b3b9fcc1-36eb-40b9-b383-ab08ceb7af5d\" class=\"plotly-graph-div\" style=\"height:525px; width:100%;\"></div>            <script type=\"text/javascript\">                                    window.PLOTLYENV=window.PLOTLYENV || {};                                    if (document.getElementById(\"b3b9fcc1-36eb-40b9-b383-ab08ceb7af5d\")) {                    Plotly.newPlot(                        \"b3b9fcc1-36eb-40b9-b383-ab08ceb7af5d\",                        [{\"alignmentgroup\":\"True\",\"hovertemplate\":\"Store=%{marker.color}<br>Weekly_Sales=%{y}<extra></extra>\",\"legendgroup\":\"\",\"marker\":{\"color\":[1,2,3,4,5,6,7,8,9,10,11,12,13,14,15,16,17,18,19,20,21,22,23,24,25,26,27,28,29,30,31,32,33,34,35,36,37,38,39,40,41,42,43,44,45],\"coloraxis\":\"coloraxis\",\"pattern\":{\"shape\":\"\"}},\"name\":\"\",\"offsetgroup\":\"\",\"orientation\":\"v\",\"showlegend\":false,\"textposition\":\"auto\",\"x\":[1,2,3,4,5,6,7,8,9,10,11,12,13,14,15,16,17,18,19,20,21,22,23,24,25,26,27,28,29,30,31,32,33,34,35,36,37,38,39,40,41,42,43,44,45],\"xaxis\":\"x\",\"y\":[1665747.656,2079266.9,437811.05,2243102.6240000003,359501.60699999996,1680907.927,672400.265,975330.86,588950.821,2113755.949,1448394.4849999999,1138140.42,2113043.806,2120582.998,706406.0179999999,566733.646,979796.9710000001,1169422.1609999998,1577046.734,2249035.081,826491.309,1084874.656,1462542.294,1475098.251,739676.842,1072046.849,1892299.2780000002,1478244.605,606957.889,436859.30700000003,1500026.03,1203784.083,262594.519,1041978.089,1074348.457,367640.63,507525.05,381509.878,1551127.48,1008034.075,1334947.8560000001,567694.158,635946.278,296035.60099999997,836293.713],\"yaxis\":\"y\",\"type\":\"bar\"}],                        {\"template\":{\"data\":{\"histogram2dcontour\":[{\"type\":\"histogram2dcontour\",\"colorbar\":{\"outlinewidth\":0,\"ticks\":\"\"},\"colorscale\":[[0.0,\"#0d0887\"],[0.1111111111111111,\"#46039f\"],[0.2222222222222222,\"#7201a8\"],[0.3333333333333333,\"#9c179e\"],[0.4444444444444444,\"#bd3786\"],[0.5555555555555556,\"#d8576b\"],[0.6666666666666666,\"#ed7953\"],[0.7777777777777778,\"#fb9f3a\"],[0.8888888888888888,\"#fdca26\"],[1.0,\"#f0f921\"]]}],\"choropleth\":[{\"type\":\"choropleth\",\"colorbar\":{\"outlinewidth\":0,\"ticks\":\"\"}}],\"histogram2d\":[{\"type\":\"histogram2d\",\"colorbar\":{\"outlinewidth\":0,\"ticks\":\"\"},\"colorscale\":[[0.0,\"#0d0887\"],[0.1111111111111111,\"#46039f\"],[0.2222222222222222,\"#7201a8\"],[0.3333333333333333,\"#9c179e\"],[0.4444444444444444,\"#bd3786\"],[0.5555555555555556,\"#d8576b\"],[0.6666666666666666,\"#ed7953\"],[0.7777777777777778,\"#fb9f3a\"],[0.8888888888888888,\"#fdca26\"],[1.0,\"#f0f921\"]]}],\"heatmap\":[{\"type\":\"heatmap\",\"colorbar\":{\"outlinewidth\":0,\"ticks\":\"\"},\"colorscale\":[[0.0,\"#0d0887\"],[0.1111111111111111,\"#46039f\"],[0.2222222222222222,\"#7201a8\"],[0.3333333333333333,\"#9c179e\"],[0.4444444444444444,\"#bd3786\"],[0.5555555555555556,\"#d8576b\"],[0.6666666666666666,\"#ed7953\"],[0.7777777777777778,\"#fb9f3a\"],[0.8888888888888888,\"#fdca26\"],[1.0,\"#f0f921\"]]}],\"heatmapgl\":[{\"type\":\"heatmapgl\",\"colorbar\":{\"outlinewidth\":0,\"ticks\":\"\"},\"colorscale\":[[0.0,\"#0d0887\"],[0.1111111111111111,\"#46039f\"],[0.2222222222222222,\"#7201a8\"],[0.3333333333333333,\"#9c179e\"],[0.4444444444444444,\"#bd3786\"],[0.5555555555555556,\"#d8576b\"],[0.6666666666666666,\"#ed7953\"],[0.7777777777777778,\"#fb9f3a\"],[0.8888888888888888,\"#fdca26\"],[1.0,\"#f0f921\"]]}],\"contourcarpet\":[{\"type\":\"contourcarpet\",\"colorbar\":{\"outlinewidth\":0,\"ticks\":\"\"}}],\"contour\":[{\"type\":\"contour\",\"colorbar\":{\"outlinewidth\":0,\"ticks\":\"\"},\"colorscale\":[[0.0,\"#0d0887\"],[0.1111111111111111,\"#46039f\"],[0.2222222222222222,\"#7201a8\"],[0.3333333333333333,\"#9c179e\"],[0.4444444444444444,\"#bd3786\"],[0.5555555555555556,\"#d8576b\"],[0.6666666666666666,\"#ed7953\"],[0.7777777777777778,\"#fb9f3a\"],[0.8888888888888888,\"#fdca26\"],[1.0,\"#f0f921\"]]}],\"surface\":[{\"type\":\"surface\",\"colorbar\":{\"outlinewidth\":0,\"ticks\":\"\"},\"colorscale\":[[0.0,\"#0d0887\"],[0.1111111111111111,\"#46039f\"],[0.2222222222222222,\"#7201a8\"],[0.3333333333333333,\"#9c179e\"],[0.4444444444444444,\"#bd3786\"],[0.5555555555555556,\"#d8576b\"],[0.6666666666666666,\"#ed7953\"],[0.7777777777777778,\"#fb9f3a\"],[0.8888888888888888,\"#fdca26\"],[1.0,\"#f0f921\"]]}],\"mesh3d\":[{\"type\":\"mesh3d\",\"colorbar\":{\"outlinewidth\":0,\"ticks\":\"\"}}],\"scatter\":[{\"fillpattern\":{\"fillmode\":\"overlay\",\"size\":10,\"solidity\":0.2},\"type\":\"scatter\"}],\"parcoords\":[{\"type\":\"parcoords\",\"line\":{\"colorbar\":{\"outlinewidth\":0,\"ticks\":\"\"}}}],\"scatterpolargl\":[{\"type\":\"scatterpolargl\",\"marker\":{\"colorbar\":{\"outlinewidth\":0,\"ticks\":\"\"}}}],\"bar\":[{\"error_x\":{\"color\":\"#2a3f5f\"},\"error_y\":{\"color\":\"#2a3f5f\"},\"marker\":{\"line\":{\"color\":\"#E5ECF6\",\"width\":0.5},\"pattern\":{\"fillmode\":\"overlay\",\"size\":10,\"solidity\":0.2}},\"type\":\"bar\"}],\"scattergeo\":[{\"type\":\"scattergeo\",\"marker\":{\"colorbar\":{\"outlinewidth\":0,\"ticks\":\"\"}}}],\"scatterpolar\":[{\"type\":\"scatterpolar\",\"marker\":{\"colorbar\":{\"outlinewidth\":0,\"ticks\":\"\"}}}],\"histogram\":[{\"marker\":{\"pattern\":{\"fillmode\":\"overlay\",\"size\":10,\"solidity\":0.2}},\"type\":\"histogram\"}],\"scattergl\":[{\"type\":\"scattergl\",\"marker\":{\"colorbar\":{\"outlinewidth\":0,\"ticks\":\"\"}}}],\"scatter3d\":[{\"type\":\"scatter3d\",\"line\":{\"colorbar\":{\"outlinewidth\":0,\"ticks\":\"\"}},\"marker\":{\"colorbar\":{\"outlinewidth\":0,\"ticks\":\"\"}}}],\"scattermapbox\":[{\"type\":\"scattermapbox\",\"marker\":{\"colorbar\":{\"outlinewidth\":0,\"ticks\":\"\"}}}],\"scatterternary\":[{\"type\":\"scatterternary\",\"marker\":{\"colorbar\":{\"outlinewidth\":0,\"ticks\":\"\"}}}],\"scattercarpet\":[{\"type\":\"scattercarpet\",\"marker\":{\"colorbar\":{\"outlinewidth\":0,\"ticks\":\"\"}}}],\"carpet\":[{\"aaxis\":{\"endlinecolor\":\"#2a3f5f\",\"gridcolor\":\"white\",\"linecolor\":\"white\",\"minorgridcolor\":\"white\",\"startlinecolor\":\"#2a3f5f\"},\"baxis\":{\"endlinecolor\":\"#2a3f5f\",\"gridcolor\":\"white\",\"linecolor\":\"white\",\"minorgridcolor\":\"white\",\"startlinecolor\":\"#2a3f5f\"},\"type\":\"carpet\"}],\"table\":[{\"cells\":{\"fill\":{\"color\":\"#EBF0F8\"},\"line\":{\"color\":\"white\"}},\"header\":{\"fill\":{\"color\":\"#C8D4E3\"},\"line\":{\"color\":\"white\"}},\"type\":\"table\"}],\"barpolar\":[{\"marker\":{\"line\":{\"color\":\"#E5ECF6\",\"width\":0.5},\"pattern\":{\"fillmode\":\"overlay\",\"size\":10,\"solidity\":0.2}},\"type\":\"barpolar\"}],\"pie\":[{\"automargin\":true,\"type\":\"pie\"}]},\"layout\":{\"autotypenumbers\":\"strict\",\"colorway\":[\"#636efa\",\"#EF553B\",\"#00cc96\",\"#ab63fa\",\"#FFA15A\",\"#19d3f3\",\"#FF6692\",\"#B6E880\",\"#FF97FF\",\"#FECB52\"],\"font\":{\"color\":\"#2a3f5f\"},\"hovermode\":\"closest\",\"hoverlabel\":{\"align\":\"left\"},\"paper_bgcolor\":\"white\",\"plot_bgcolor\":\"#E5ECF6\",\"polar\":{\"bgcolor\":\"#E5ECF6\",\"angularaxis\":{\"gridcolor\":\"white\",\"linecolor\":\"white\",\"ticks\":\"\"},\"radialaxis\":{\"gridcolor\":\"white\",\"linecolor\":\"white\",\"ticks\":\"\"}},\"ternary\":{\"bgcolor\":\"#E5ECF6\",\"aaxis\":{\"gridcolor\":\"white\",\"linecolor\":\"white\",\"ticks\":\"\"},\"baxis\":{\"gridcolor\":\"white\",\"linecolor\":\"white\",\"ticks\":\"\"},\"caxis\":{\"gridcolor\":\"white\",\"linecolor\":\"white\",\"ticks\":\"\"}},\"coloraxis\":{\"colorbar\":{\"outlinewidth\":0,\"ticks\":\"\"}},\"colorscale\":{\"sequential\":[[0.0,\"#0d0887\"],[0.1111111111111111,\"#46039f\"],[0.2222222222222222,\"#7201a8\"],[0.3333333333333333,\"#9c179e\"],[0.4444444444444444,\"#bd3786\"],[0.5555555555555556,\"#d8576b\"],[0.6666666666666666,\"#ed7953\"],[0.7777777777777778,\"#fb9f3a\"],[0.8888888888888888,\"#fdca26\"],[1.0,\"#f0f921\"]],\"sequentialminus\":[[0.0,\"#0d0887\"],[0.1111111111111111,\"#46039f\"],[0.2222222222222222,\"#7201a8\"],[0.3333333333333333,\"#9c179e\"],[0.4444444444444444,\"#bd3786\"],[0.5555555555555556,\"#d8576b\"],[0.6666666666666666,\"#ed7953\"],[0.7777777777777778,\"#fb9f3a\"],[0.8888888888888888,\"#fdca26\"],[1.0,\"#f0f921\"]],\"diverging\":[[0,\"#8e0152\"],[0.1,\"#c51b7d\"],[0.2,\"#de77ae\"],[0.3,\"#f1b6da\"],[0.4,\"#fde0ef\"],[0.5,\"#f7f7f7\"],[0.6,\"#e6f5d0\"],[0.7,\"#b8e186\"],[0.8,\"#7fbc41\"],[0.9,\"#4d9221\"],[1,\"#276419\"]]},\"xaxis\":{\"gridcolor\":\"white\",\"linecolor\":\"white\",\"ticks\":\"\",\"title\":{\"standoff\":15},\"zerolinecolor\":\"white\",\"automargin\":true,\"zerolinewidth\":2},\"yaxis\":{\"gridcolor\":\"white\",\"linecolor\":\"white\",\"ticks\":\"\",\"title\":{\"standoff\":15},\"zerolinecolor\":\"white\",\"automargin\":true,\"zerolinewidth\":2},\"scene\":{\"xaxis\":{\"backgroundcolor\":\"#E5ECF6\",\"gridcolor\":\"white\",\"linecolor\":\"white\",\"showbackground\":true,\"ticks\":\"\",\"zerolinecolor\":\"white\",\"gridwidth\":2},\"yaxis\":{\"backgroundcolor\":\"#E5ECF6\",\"gridcolor\":\"white\",\"linecolor\":\"white\",\"showbackground\":true,\"ticks\":\"\",\"zerolinecolor\":\"white\",\"gridwidth\":2},\"zaxis\":{\"backgroundcolor\":\"#E5ECF6\",\"gridcolor\":\"white\",\"linecolor\":\"white\",\"showbackground\":true,\"ticks\":\"\",\"zerolinecolor\":\"white\",\"gridwidth\":2}},\"shapedefaults\":{\"line\":{\"color\":\"#2a3f5f\"}},\"annotationdefaults\":{\"arrowcolor\":\"#2a3f5f\",\"arrowhead\":0,\"arrowwidth\":1},\"geo\":{\"bgcolor\":\"white\",\"landcolor\":\"#E5ECF6\",\"subunitcolor\":\"white\",\"showland\":true,\"showlakes\":true,\"lakecolor\":\"white\"},\"title\":{\"x\":0.05},\"mapbox\":{\"style\":\"light\"}}},\"xaxis\":{\"anchor\":\"y\",\"domain\":[0.0,1.0],\"title\":{\"text\":\"Store\"}},\"yaxis\":{\"anchor\":\"x\",\"domain\":[0.0,1.0],\"title\":{\"text\":\"Weekly_Sales\"}},\"coloraxis\":{\"colorbar\":{\"title\":{\"text\":\"Store\"}},\"colorscale\":[[0.0,\"#0d0887\"],[0.1111111111111111,\"#46039f\"],[0.2222222222222222,\"#7201a8\"],[0.3333333333333333,\"#9c179e\"],[0.4444444444444444,\"#bd3786\"],[0.5555555555555556,\"#d8576b\"],[0.6666666666666666,\"#ed7953\"],[0.7777777777777778,\"#fb9f3a\"],[0.8888888888888888,\"#fdca26\"],[1.0,\"#f0f921\"]]},\"legend\":{\"tracegroupgap\":0},\"title\":{\"text\":\"Stores Overall Sales\"},\"barmode\":\"relative\"},                        {\"responsive\": true}                    ).then(function(){\n",
              "                            \n",
              "var gd = document.getElementById('b3b9fcc1-36eb-40b9-b383-ab08ceb7af5d');\n",
              "var x = new MutationObserver(function (mutations, observer) {{\n",
              "        var display = window.getComputedStyle(gd).display;\n",
              "        if (!display || display === 'none') {{\n",
              "            console.log([gd, 'removed!']);\n",
              "            Plotly.purge(gd);\n",
              "            observer.disconnect();\n",
              "        }}\n",
              "}});\n",
              "\n",
              "// Listen for the removal of the full notebook cells\n",
              "var notebookContainer = gd.closest('#notebook-container');\n",
              "if (notebookContainer) {{\n",
              "    x.observe(notebookContainer, {childList: true});\n",
              "}}\n",
              "\n",
              "// Listen for the clearing of the current output cell\n",
              "var outputEl = gd.closest('.output');\n",
              "if (outputEl) {{\n",
              "    x.observe(outputEl, {childList: true});\n",
              "}}\n",
              "\n",
              "                        })                };                            </script>        </div>\n",
              "</body>\n",
              "</html>"
            ]
          },
          "metadata": {}
        }
      ]
    },
    {
      "cell_type": "markdown",
      "source": [
        "employment working days vs hollydays"
      ],
      "metadata": {
        "id": "uIGeLuu9krP8"
      }
    },
    {
      "cell_type": "code",
      "source": [
        "store_emp_hollidays = df[df['Holiday_Flag'].isin([1])]\n",
        "store_emp_wrk = df[df['Holiday_Flag'].isin([0])]\n",
        "\n",
        "store_emp_hollidays['mounth'] = store_emp_hollidays['Date'].dt.month\n",
        "store_emp_wrk['mounth'] = store_emp_wrk['Date'].dt.month"
      ],
      "metadata": {
        "id": "UDx5oSX1s4RD",
        "colab": {
          "base_uri": "https://localhost:8080/"
        },
        "outputId": "689a3a18-2a8b-4711-f92c-64611bdec16c"
      },
      "execution_count": 185,
      "outputs": [
        {
          "output_type": "stream",
          "name": "stderr",
          "text": [
            "<ipython-input-185-097336b97de2>:4: SettingWithCopyWarning:\n",
            "\n",
            "\n",
            "A value is trying to be set on a copy of a slice from a DataFrame.\n",
            "Try using .loc[row_indexer,col_indexer] = value instead\n",
            "\n",
            "See the caveats in the documentation: https://pandas.pydata.org/pandas-docs/stable/user_guide/indexing.html#returning-a-view-versus-a-copy\n",
            "\n",
            "<ipython-input-185-097336b97de2>:5: SettingWithCopyWarning:\n",
            "\n",
            "\n",
            "A value is trying to be set on a copy of a slice from a DataFrame.\n",
            "Try using .loc[row_indexer,col_indexer] = value instead\n",
            "\n",
            "See the caveats in the documentation: https://pandas.pydata.org/pandas-docs/stable/user_guide/indexing.html#returning-a-view-versus-a-copy\n",
            "\n"
          ]
        }
      ]
    },
    {
      "cell_type": "code",
      "source": [
        "store_emp_hollidays = store_emp_hollidays.groupby('mounth')['Unemployment'].mean()\n",
        "store_emp_wrk = store_emp_wrk.groupby('mounth')['Unemployment'].mean()"
      ],
      "metadata": {
        "id": "HBLejH0mpX9n"
      },
      "execution_count": 186,
      "outputs": []
    },
    {
      "cell_type": "code",
      "source": [
        "new_index = []\n",
        "for i in range (1,13): new_index.append(i)\n",
        "store_emp_hol = store_emp_hollidays.reindex(new_index)"
      ],
      "metadata": {
        "id": "L09bugvjs4iw"
      },
      "execution_count": 187,
      "outputs": []
    },
    {
      "cell_type": "code",
      "source": [
        "store_emp_hol"
      ],
      "metadata": {
        "colab": {
          "base_uri": "https://localhost:8080/"
        },
        "id": "h92i5PgnuVK0",
        "outputId": "02b1f0fb-e586-470f-c6a1-14e6fc58cafd"
      },
      "execution_count": 188,
      "outputs": [
        {
          "output_type": "execute_result",
          "data": {
            "text/plain": [
              "mounth\n",
              "1          NaN\n",
              "2          NaN\n",
              "3          NaN\n",
              "4          NaN\n",
              "5          NaN\n",
              "6          NaN\n",
              "7     7.237333\n",
              "8          NaN\n",
              "9     8.097489\n",
              "10    7.968456\n",
              "11    8.190237\n",
              "12    8.299607\n",
              "Name: Unemployment, dtype: float64"
            ]
          },
          "metadata": {},
          "execution_count": 188
        }
      ]
    },
    {
      "cell_type": "code",
      "source": [
        "months = ['Jan', 'Feb', 'Mar', 'Apr', 'May', 'Jun','Jul', 'Aug', 'Sep', 'Oct', 'Nov', 'Dec']\n",
        "\n",
        "fig = go.Figure()\n",
        "fig.add_trace(go.Bar(\n",
        "    x=months,\n",
        "    y= store_emp_hol,\n",
        "    name='unemployment on holidays',\n",
        "    marker_color='indianred'\n",
        "))\n",
        "fig.add_trace(go.Bar(\n",
        "    x=months,\n",
        "    y= store_emp_wrk,\n",
        "    name='unemployment on working days',\n",
        "    marker_color='lightsalmon'\n",
        "))"
      ],
      "metadata": {
        "colab": {
          "base_uri": "https://localhost:8080/",
          "height": 542
        },
        "id": "8qSM88ZvcWu2",
        "outputId": "47b54634-dfc5-4a44-d795-391e1fc039fa"
      },
      "execution_count": 189,
      "outputs": [
        {
          "output_type": "display_data",
          "data": {
            "text/html": [
              "<html>\n",
              "<head><meta charset=\"utf-8\" /></head>\n",
              "<body>\n",
              "    <div>            <script src=\"https://cdnjs.cloudflare.com/ajax/libs/mathjax/2.7.5/MathJax.js?config=TeX-AMS-MML_SVG\"></script><script type=\"text/javascript\">if (window.MathJax && window.MathJax.Hub && window.MathJax.Hub.Config) {window.MathJax.Hub.Config({SVG: {font: \"STIX-Web\"}});}</script>                <script type=\"text/javascript\">window.PlotlyConfig = {MathJaxConfig: 'local'};</script>\n",
              "        <script src=\"https://cdn.plot.ly/plotly-2.18.2.min.js\"></script>                <div id=\"14d756c2-8d90-42b4-b436-bc288225cf1b\" class=\"plotly-graph-div\" style=\"height:525px; width:100%;\"></div>            <script type=\"text/javascript\">                                    window.PLOTLYENV=window.PLOTLYENV || {};                                    if (document.getElementById(\"14d756c2-8d90-42b4-b436-bc288225cf1b\")) {                    Plotly.newPlot(                        \"14d756c2-8d90-42b4-b436-bc288225cf1b\",                        [{\"marker\":{\"color\":\"indianred\"},\"name\":\"unemployment on holidays\",\"x\":[\"Jan\",\"Feb\",\"Mar\",\"Apr\",\"May\",\"Jun\",\"Jul\",\"Aug\",\"Sep\",\"Oct\",\"Nov\",\"Dec\"],\"y\":[null,null,null,null,null,null,7.237333333333334,null,8.097488888888888,7.968455555555556,8.190237037037036,8.299607407407409],\"type\":\"bar\"},{\"marker\":{\"color\":\"lightsalmon\"},\"name\":\"unemployment on working days\",\"x\":[\"Jan\",\"Feb\",\"Mar\",\"Apr\",\"May\",\"Jun\",\"Jul\",\"Aug\",\"Sep\",\"Oct\",\"Nov\",\"Dec\"],\"y\":[7.954104444444445,8.106729292929293,8.01214074074074,8.036142857142858,8.1190547008547,7.858183333333333,7.990277777777778,7.944596296296297,7.9250388888888885,7.873519191919192,8.048696296296297,8.088102777777777],\"type\":\"bar\"}],                        {\"template\":{\"data\":{\"histogram2dcontour\":[{\"type\":\"histogram2dcontour\",\"colorbar\":{\"outlinewidth\":0,\"ticks\":\"\"},\"colorscale\":[[0.0,\"#0d0887\"],[0.1111111111111111,\"#46039f\"],[0.2222222222222222,\"#7201a8\"],[0.3333333333333333,\"#9c179e\"],[0.4444444444444444,\"#bd3786\"],[0.5555555555555556,\"#d8576b\"],[0.6666666666666666,\"#ed7953\"],[0.7777777777777778,\"#fb9f3a\"],[0.8888888888888888,\"#fdca26\"],[1.0,\"#f0f921\"]]}],\"choropleth\":[{\"type\":\"choropleth\",\"colorbar\":{\"outlinewidth\":0,\"ticks\":\"\"}}],\"histogram2d\":[{\"type\":\"histogram2d\",\"colorbar\":{\"outlinewidth\":0,\"ticks\":\"\"},\"colorscale\":[[0.0,\"#0d0887\"],[0.1111111111111111,\"#46039f\"],[0.2222222222222222,\"#7201a8\"],[0.3333333333333333,\"#9c179e\"],[0.4444444444444444,\"#bd3786\"],[0.5555555555555556,\"#d8576b\"],[0.6666666666666666,\"#ed7953\"],[0.7777777777777778,\"#fb9f3a\"],[0.8888888888888888,\"#fdca26\"],[1.0,\"#f0f921\"]]}],\"heatmap\":[{\"type\":\"heatmap\",\"colorbar\":{\"outlinewidth\":0,\"ticks\":\"\"},\"colorscale\":[[0.0,\"#0d0887\"],[0.1111111111111111,\"#46039f\"],[0.2222222222222222,\"#7201a8\"],[0.3333333333333333,\"#9c179e\"],[0.4444444444444444,\"#bd3786\"],[0.5555555555555556,\"#d8576b\"],[0.6666666666666666,\"#ed7953\"],[0.7777777777777778,\"#fb9f3a\"],[0.8888888888888888,\"#fdca26\"],[1.0,\"#f0f921\"]]}],\"heatmapgl\":[{\"type\":\"heatmapgl\",\"colorbar\":{\"outlinewidth\":0,\"ticks\":\"\"},\"colorscale\":[[0.0,\"#0d0887\"],[0.1111111111111111,\"#46039f\"],[0.2222222222222222,\"#7201a8\"],[0.3333333333333333,\"#9c179e\"],[0.4444444444444444,\"#bd3786\"],[0.5555555555555556,\"#d8576b\"],[0.6666666666666666,\"#ed7953\"],[0.7777777777777778,\"#fb9f3a\"],[0.8888888888888888,\"#fdca26\"],[1.0,\"#f0f921\"]]}],\"contourcarpet\":[{\"type\":\"contourcarpet\",\"colorbar\":{\"outlinewidth\":0,\"ticks\":\"\"}}],\"contour\":[{\"type\":\"contour\",\"colorbar\":{\"outlinewidth\":0,\"ticks\":\"\"},\"colorscale\":[[0.0,\"#0d0887\"],[0.1111111111111111,\"#46039f\"],[0.2222222222222222,\"#7201a8\"],[0.3333333333333333,\"#9c179e\"],[0.4444444444444444,\"#bd3786\"],[0.5555555555555556,\"#d8576b\"],[0.6666666666666666,\"#ed7953\"],[0.7777777777777778,\"#fb9f3a\"],[0.8888888888888888,\"#fdca26\"],[1.0,\"#f0f921\"]]}],\"surface\":[{\"type\":\"surface\",\"colorbar\":{\"outlinewidth\":0,\"ticks\":\"\"},\"colorscale\":[[0.0,\"#0d0887\"],[0.1111111111111111,\"#46039f\"],[0.2222222222222222,\"#7201a8\"],[0.3333333333333333,\"#9c179e\"],[0.4444444444444444,\"#bd3786\"],[0.5555555555555556,\"#d8576b\"],[0.6666666666666666,\"#ed7953\"],[0.7777777777777778,\"#fb9f3a\"],[0.8888888888888888,\"#fdca26\"],[1.0,\"#f0f921\"]]}],\"mesh3d\":[{\"type\":\"mesh3d\",\"colorbar\":{\"outlinewidth\":0,\"ticks\":\"\"}}],\"scatter\":[{\"fillpattern\":{\"fillmode\":\"overlay\",\"size\":10,\"solidity\":0.2},\"type\":\"scatter\"}],\"parcoords\":[{\"type\":\"parcoords\",\"line\":{\"colorbar\":{\"outlinewidth\":0,\"ticks\":\"\"}}}],\"scatterpolargl\":[{\"type\":\"scatterpolargl\",\"marker\":{\"colorbar\":{\"outlinewidth\":0,\"ticks\":\"\"}}}],\"bar\":[{\"error_x\":{\"color\":\"#2a3f5f\"},\"error_y\":{\"color\":\"#2a3f5f\"},\"marker\":{\"line\":{\"color\":\"#E5ECF6\",\"width\":0.5},\"pattern\":{\"fillmode\":\"overlay\",\"size\":10,\"solidity\":0.2}},\"type\":\"bar\"}],\"scattergeo\":[{\"type\":\"scattergeo\",\"marker\":{\"colorbar\":{\"outlinewidth\":0,\"ticks\":\"\"}}}],\"scatterpolar\":[{\"type\":\"scatterpolar\",\"marker\":{\"colorbar\":{\"outlinewidth\":0,\"ticks\":\"\"}}}],\"histogram\":[{\"marker\":{\"pattern\":{\"fillmode\":\"overlay\",\"size\":10,\"solidity\":0.2}},\"type\":\"histogram\"}],\"scattergl\":[{\"type\":\"scattergl\",\"marker\":{\"colorbar\":{\"outlinewidth\":0,\"ticks\":\"\"}}}],\"scatter3d\":[{\"type\":\"scatter3d\",\"line\":{\"colorbar\":{\"outlinewidth\":0,\"ticks\":\"\"}},\"marker\":{\"colorbar\":{\"outlinewidth\":0,\"ticks\":\"\"}}}],\"scattermapbox\":[{\"type\":\"scattermapbox\",\"marker\":{\"colorbar\":{\"outlinewidth\":0,\"ticks\":\"\"}}}],\"scatterternary\":[{\"type\":\"scatterternary\",\"marker\":{\"colorbar\":{\"outlinewidth\":0,\"ticks\":\"\"}}}],\"scattercarpet\":[{\"type\":\"scattercarpet\",\"marker\":{\"colorbar\":{\"outlinewidth\":0,\"ticks\":\"\"}}}],\"carpet\":[{\"aaxis\":{\"endlinecolor\":\"#2a3f5f\",\"gridcolor\":\"white\",\"linecolor\":\"white\",\"minorgridcolor\":\"white\",\"startlinecolor\":\"#2a3f5f\"},\"baxis\":{\"endlinecolor\":\"#2a3f5f\",\"gridcolor\":\"white\",\"linecolor\":\"white\",\"minorgridcolor\":\"white\",\"startlinecolor\":\"#2a3f5f\"},\"type\":\"carpet\"}],\"table\":[{\"cells\":{\"fill\":{\"color\":\"#EBF0F8\"},\"line\":{\"color\":\"white\"}},\"header\":{\"fill\":{\"color\":\"#C8D4E3\"},\"line\":{\"color\":\"white\"}},\"type\":\"table\"}],\"barpolar\":[{\"marker\":{\"line\":{\"color\":\"#E5ECF6\",\"width\":0.5},\"pattern\":{\"fillmode\":\"overlay\",\"size\":10,\"solidity\":0.2}},\"type\":\"barpolar\"}],\"pie\":[{\"automargin\":true,\"type\":\"pie\"}]},\"layout\":{\"autotypenumbers\":\"strict\",\"colorway\":[\"#636efa\",\"#EF553B\",\"#00cc96\",\"#ab63fa\",\"#FFA15A\",\"#19d3f3\",\"#FF6692\",\"#B6E880\",\"#FF97FF\",\"#FECB52\"],\"font\":{\"color\":\"#2a3f5f\"},\"hovermode\":\"closest\",\"hoverlabel\":{\"align\":\"left\"},\"paper_bgcolor\":\"white\",\"plot_bgcolor\":\"#E5ECF6\",\"polar\":{\"bgcolor\":\"#E5ECF6\",\"angularaxis\":{\"gridcolor\":\"white\",\"linecolor\":\"white\",\"ticks\":\"\"},\"radialaxis\":{\"gridcolor\":\"white\",\"linecolor\":\"white\",\"ticks\":\"\"}},\"ternary\":{\"bgcolor\":\"#E5ECF6\",\"aaxis\":{\"gridcolor\":\"white\",\"linecolor\":\"white\",\"ticks\":\"\"},\"baxis\":{\"gridcolor\":\"white\",\"linecolor\":\"white\",\"ticks\":\"\"},\"caxis\":{\"gridcolor\":\"white\",\"linecolor\":\"white\",\"ticks\":\"\"}},\"coloraxis\":{\"colorbar\":{\"outlinewidth\":0,\"ticks\":\"\"}},\"colorscale\":{\"sequential\":[[0.0,\"#0d0887\"],[0.1111111111111111,\"#46039f\"],[0.2222222222222222,\"#7201a8\"],[0.3333333333333333,\"#9c179e\"],[0.4444444444444444,\"#bd3786\"],[0.5555555555555556,\"#d8576b\"],[0.6666666666666666,\"#ed7953\"],[0.7777777777777778,\"#fb9f3a\"],[0.8888888888888888,\"#fdca26\"],[1.0,\"#f0f921\"]],\"sequentialminus\":[[0.0,\"#0d0887\"],[0.1111111111111111,\"#46039f\"],[0.2222222222222222,\"#7201a8\"],[0.3333333333333333,\"#9c179e\"],[0.4444444444444444,\"#bd3786\"],[0.5555555555555556,\"#d8576b\"],[0.6666666666666666,\"#ed7953\"],[0.7777777777777778,\"#fb9f3a\"],[0.8888888888888888,\"#fdca26\"],[1.0,\"#f0f921\"]],\"diverging\":[[0,\"#8e0152\"],[0.1,\"#c51b7d\"],[0.2,\"#de77ae\"],[0.3,\"#f1b6da\"],[0.4,\"#fde0ef\"],[0.5,\"#f7f7f7\"],[0.6,\"#e6f5d0\"],[0.7,\"#b8e186\"],[0.8,\"#7fbc41\"],[0.9,\"#4d9221\"],[1,\"#276419\"]]},\"xaxis\":{\"gridcolor\":\"white\",\"linecolor\":\"white\",\"ticks\":\"\",\"title\":{\"standoff\":15},\"zerolinecolor\":\"white\",\"automargin\":true,\"zerolinewidth\":2},\"yaxis\":{\"gridcolor\":\"white\",\"linecolor\":\"white\",\"ticks\":\"\",\"title\":{\"standoff\":15},\"zerolinecolor\":\"white\",\"automargin\":true,\"zerolinewidth\":2},\"scene\":{\"xaxis\":{\"backgroundcolor\":\"#E5ECF6\",\"gridcolor\":\"white\",\"linecolor\":\"white\",\"showbackground\":true,\"ticks\":\"\",\"zerolinecolor\":\"white\",\"gridwidth\":2},\"yaxis\":{\"backgroundcolor\":\"#E5ECF6\",\"gridcolor\":\"white\",\"linecolor\":\"white\",\"showbackground\":true,\"ticks\":\"\",\"zerolinecolor\":\"white\",\"gridwidth\":2},\"zaxis\":{\"backgroundcolor\":\"#E5ECF6\",\"gridcolor\":\"white\",\"linecolor\":\"white\",\"showbackground\":true,\"ticks\":\"\",\"zerolinecolor\":\"white\",\"gridwidth\":2}},\"shapedefaults\":{\"line\":{\"color\":\"#2a3f5f\"}},\"annotationdefaults\":{\"arrowcolor\":\"#2a3f5f\",\"arrowhead\":0,\"arrowwidth\":1},\"geo\":{\"bgcolor\":\"white\",\"landcolor\":\"#E5ECF6\",\"subunitcolor\":\"white\",\"showland\":true,\"showlakes\":true,\"lakecolor\":\"white\"},\"title\":{\"x\":0.05},\"mapbox\":{\"style\":\"light\"}}}},                        {\"responsive\": true}                    ).then(function(){\n",
              "                            \n",
              "var gd = document.getElementById('14d756c2-8d90-42b4-b436-bc288225cf1b');\n",
              "var x = new MutationObserver(function (mutations, observer) {{\n",
              "        var display = window.getComputedStyle(gd).display;\n",
              "        if (!display || display === 'none') {{\n",
              "            console.log([gd, 'removed!']);\n",
              "            Plotly.purge(gd);\n",
              "            observer.disconnect();\n",
              "        }}\n",
              "}});\n",
              "\n",
              "// Listen for the removal of the full notebook cells\n",
              "var notebookContainer = gd.closest('#notebook-container');\n",
              "if (notebookContainer) {{\n",
              "    x.observe(notebookContainer, {childList: true});\n",
              "}}\n",
              "\n",
              "// Listen for the clearing of the current output cell\n",
              "var outputEl = gd.closest('.output');\n",
              "if (outputEl) {{\n",
              "    x.observe(outputEl, {childList: true});\n",
              "}}\n",
              "\n",
              "                        })                };                            </script>        </div>\n",
              "</body>\n",
              "</html>"
            ]
          },
          "metadata": {}
        }
      ]
    },
    {
      "cell_type": "markdown",
      "source": [
        "We see that unemployment on holidays is much higher "
      ],
      "metadata": {
        "id": "igye4PNUu0yw"
      }
    },
    {
      "cell_type": "markdown",
      "source": [
        "CPI index review"
      ],
      "metadata": {
        "id": "l2iQ4QtejiJi"
      }
    },
    {
      "cell_type": "code",
      "source": [
        "CPI_stores = df.groupby('Store').CPI.mean().reset_index()\n",
        "fig = px.bar(CPI_stores, x='Store', y='CPI',color='Store',title=\"CPI by Stores\")\n",
        "fig.update_layout(barmode='stack', xaxis={'categoryorder':'category ascending'})\n",
        "fig.show()"
      ],
      "metadata": {
        "id": "F81IrJqKzL79",
        "colab": {
          "base_uri": "https://localhost:8080/",
          "height": 542
        },
        "outputId": "c1049548-6ec6-435d-a84a-44779659105d"
      },
      "execution_count": 190,
      "outputs": [
        {
          "output_type": "display_data",
          "data": {
            "text/html": [
              "<html>\n",
              "<head><meta charset=\"utf-8\" /></head>\n",
              "<body>\n",
              "    <div>            <script src=\"https://cdnjs.cloudflare.com/ajax/libs/mathjax/2.7.5/MathJax.js?config=TeX-AMS-MML_SVG\"></script><script type=\"text/javascript\">if (window.MathJax && window.MathJax.Hub && window.MathJax.Hub.Config) {window.MathJax.Hub.Config({SVG: {font: \"STIX-Web\"}});}</script>                <script type=\"text/javascript\">window.PlotlyConfig = {MathJaxConfig: 'local'};</script>\n",
              "        <script src=\"https://cdn.plot.ly/plotly-2.18.2.min.js\"></script>                <div id=\"8585ef59-c0e1-48c1-8a58-3a8a64f9349d\" class=\"plotly-graph-div\" style=\"height:525px; width:100%;\"></div>            <script type=\"text/javascript\">                                    window.PLOTLYENV=window.PLOTLYENV || {};                                    if (document.getElementById(\"8585ef59-c0e1-48c1-8a58-3a8a64f9349d\")) {                    Plotly.newPlot(                        \"8585ef59-c0e1-48c1-8a58-3a8a64f9349d\",                        [{\"alignmentgroup\":\"True\",\"hovertemplate\":\"Store=%{marker.color}<br>CPI=%{y}<extra></extra>\",\"legendgroup\":\"\",\"marker\":{\"color\":[1,2,3,4,5,6,7,8,9,10,11,12,13,14,15,16,17,18,19,20,21,22,23,24,25,26,27,28,29,30,31,32,33,34,35,36,37,38,39,40,41,42,43,44,45],\"coloraxis\":\"coloraxis\",\"pattern\":{\"shape\":\"\"}},\"name\":\"\",\"offsetgroup\":\"\",\"orientation\":\"v\",\"showlegend\":false,\"textposition\":\"auto\",\"x\":[1,2,3,4,5,6,7,8,9,10,11,12,13,14,15,16,17,18,19,20,21,22,23,24,25,26,27,28,29,30,31,32,33,34,35,36,37,38,39,40,41,42,43,44,45],\"xaxis\":\"x\",\"y\":[215.99689176643358,215.64631062727273,219.39153126363635,128.67966946083916,216.56558137482517,217.55319707762237,193.66424294685314,219.439026220979,219.62668921258742,128.67966946083916,219.39153126363635,128.67966946083916,128.67966946083916,186.28567803776224,135.09260732587413,193.66424294685314,128.67966946083916,135.09260732587413,135.09260732587413,209.03813062867133,215.64631062727273,139.0112835083916,135.09260732587413,135.09260732587413,209.03813062867133,135.09260732587413,139.0112835083916,128.67966946083916,135.09260732587413,215.64631062727273,215.64631062727273,193.66424294685314,128.67966946083916,128.67966946083916,139.0112835083916,214.72906927902096,214.72906927902096,128.67966946083916,214.72906927902096,135.09260732587413,193.66424294685314,128.67966946083916,207.73516234755243,128.67966946083916,186.28567803776224],\"yaxis\":\"y\",\"type\":\"bar\"}],                        {\"template\":{\"data\":{\"histogram2dcontour\":[{\"type\":\"histogram2dcontour\",\"colorbar\":{\"outlinewidth\":0,\"ticks\":\"\"},\"colorscale\":[[0.0,\"#0d0887\"],[0.1111111111111111,\"#46039f\"],[0.2222222222222222,\"#7201a8\"],[0.3333333333333333,\"#9c179e\"],[0.4444444444444444,\"#bd3786\"],[0.5555555555555556,\"#d8576b\"],[0.6666666666666666,\"#ed7953\"],[0.7777777777777778,\"#fb9f3a\"],[0.8888888888888888,\"#fdca26\"],[1.0,\"#f0f921\"]]}],\"choropleth\":[{\"type\":\"choropleth\",\"colorbar\":{\"outlinewidth\":0,\"ticks\":\"\"}}],\"histogram2d\":[{\"type\":\"histogram2d\",\"colorbar\":{\"outlinewidth\":0,\"ticks\":\"\"},\"colorscale\":[[0.0,\"#0d0887\"],[0.1111111111111111,\"#46039f\"],[0.2222222222222222,\"#7201a8\"],[0.3333333333333333,\"#9c179e\"],[0.4444444444444444,\"#bd3786\"],[0.5555555555555556,\"#d8576b\"],[0.6666666666666666,\"#ed7953\"],[0.7777777777777778,\"#fb9f3a\"],[0.8888888888888888,\"#fdca26\"],[1.0,\"#f0f921\"]]}],\"heatmap\":[{\"type\":\"heatmap\",\"colorbar\":{\"outlinewidth\":0,\"ticks\":\"\"},\"colorscale\":[[0.0,\"#0d0887\"],[0.1111111111111111,\"#46039f\"],[0.2222222222222222,\"#7201a8\"],[0.3333333333333333,\"#9c179e\"],[0.4444444444444444,\"#bd3786\"],[0.5555555555555556,\"#d8576b\"],[0.6666666666666666,\"#ed7953\"],[0.7777777777777778,\"#fb9f3a\"],[0.8888888888888888,\"#fdca26\"],[1.0,\"#f0f921\"]]}],\"heatmapgl\":[{\"type\":\"heatmapgl\",\"colorbar\":{\"outlinewidth\":0,\"ticks\":\"\"},\"colorscale\":[[0.0,\"#0d0887\"],[0.1111111111111111,\"#46039f\"],[0.2222222222222222,\"#7201a8\"],[0.3333333333333333,\"#9c179e\"],[0.4444444444444444,\"#bd3786\"],[0.5555555555555556,\"#d8576b\"],[0.6666666666666666,\"#ed7953\"],[0.7777777777777778,\"#fb9f3a\"],[0.8888888888888888,\"#fdca26\"],[1.0,\"#f0f921\"]]}],\"contourcarpet\":[{\"type\":\"contourcarpet\",\"colorbar\":{\"outlinewidth\":0,\"ticks\":\"\"}}],\"contour\":[{\"type\":\"contour\",\"colorbar\":{\"outlinewidth\":0,\"ticks\":\"\"},\"colorscale\":[[0.0,\"#0d0887\"],[0.1111111111111111,\"#46039f\"],[0.2222222222222222,\"#7201a8\"],[0.3333333333333333,\"#9c179e\"],[0.4444444444444444,\"#bd3786\"],[0.5555555555555556,\"#d8576b\"],[0.6666666666666666,\"#ed7953\"],[0.7777777777777778,\"#fb9f3a\"],[0.8888888888888888,\"#fdca26\"],[1.0,\"#f0f921\"]]}],\"surface\":[{\"type\":\"surface\",\"colorbar\":{\"outlinewidth\":0,\"ticks\":\"\"},\"colorscale\":[[0.0,\"#0d0887\"],[0.1111111111111111,\"#46039f\"],[0.2222222222222222,\"#7201a8\"],[0.3333333333333333,\"#9c179e\"],[0.4444444444444444,\"#bd3786\"],[0.5555555555555556,\"#d8576b\"],[0.6666666666666666,\"#ed7953\"],[0.7777777777777778,\"#fb9f3a\"],[0.8888888888888888,\"#fdca26\"],[1.0,\"#f0f921\"]]}],\"mesh3d\":[{\"type\":\"mesh3d\",\"colorbar\":{\"outlinewidth\":0,\"ticks\":\"\"}}],\"scatter\":[{\"fillpattern\":{\"fillmode\":\"overlay\",\"size\":10,\"solidity\":0.2},\"type\":\"scatter\"}],\"parcoords\":[{\"type\":\"parcoords\",\"line\":{\"colorbar\":{\"outlinewidth\":0,\"ticks\":\"\"}}}],\"scatterpolargl\":[{\"type\":\"scatterpolargl\",\"marker\":{\"colorbar\":{\"outlinewidth\":0,\"ticks\":\"\"}}}],\"bar\":[{\"error_x\":{\"color\":\"#2a3f5f\"},\"error_y\":{\"color\":\"#2a3f5f\"},\"marker\":{\"line\":{\"color\":\"#E5ECF6\",\"width\":0.5},\"pattern\":{\"fillmode\":\"overlay\",\"size\":10,\"solidity\":0.2}},\"type\":\"bar\"}],\"scattergeo\":[{\"type\":\"scattergeo\",\"marker\":{\"colorbar\":{\"outlinewidth\":0,\"ticks\":\"\"}}}],\"scatterpolar\":[{\"type\":\"scatterpolar\",\"marker\":{\"colorbar\":{\"outlinewidth\":0,\"ticks\":\"\"}}}],\"histogram\":[{\"marker\":{\"pattern\":{\"fillmode\":\"overlay\",\"size\":10,\"solidity\":0.2}},\"type\":\"histogram\"}],\"scattergl\":[{\"type\":\"scattergl\",\"marker\":{\"colorbar\":{\"outlinewidth\":0,\"ticks\":\"\"}}}],\"scatter3d\":[{\"type\":\"scatter3d\",\"line\":{\"colorbar\":{\"outlinewidth\":0,\"ticks\":\"\"}},\"marker\":{\"colorbar\":{\"outlinewidth\":0,\"ticks\":\"\"}}}],\"scattermapbox\":[{\"type\":\"scattermapbox\",\"marker\":{\"colorbar\":{\"outlinewidth\":0,\"ticks\":\"\"}}}],\"scatterternary\":[{\"type\":\"scatterternary\",\"marker\":{\"colorbar\":{\"outlinewidth\":0,\"ticks\":\"\"}}}],\"scattercarpet\":[{\"type\":\"scattercarpet\",\"marker\":{\"colorbar\":{\"outlinewidth\":0,\"ticks\":\"\"}}}],\"carpet\":[{\"aaxis\":{\"endlinecolor\":\"#2a3f5f\",\"gridcolor\":\"white\",\"linecolor\":\"white\",\"minorgridcolor\":\"white\",\"startlinecolor\":\"#2a3f5f\"},\"baxis\":{\"endlinecolor\":\"#2a3f5f\",\"gridcolor\":\"white\",\"linecolor\":\"white\",\"minorgridcolor\":\"white\",\"startlinecolor\":\"#2a3f5f\"},\"type\":\"carpet\"}],\"table\":[{\"cells\":{\"fill\":{\"color\":\"#EBF0F8\"},\"line\":{\"color\":\"white\"}},\"header\":{\"fill\":{\"color\":\"#C8D4E3\"},\"line\":{\"color\":\"white\"}},\"type\":\"table\"}],\"barpolar\":[{\"marker\":{\"line\":{\"color\":\"#E5ECF6\",\"width\":0.5},\"pattern\":{\"fillmode\":\"overlay\",\"size\":10,\"solidity\":0.2}},\"type\":\"barpolar\"}],\"pie\":[{\"automargin\":true,\"type\":\"pie\"}]},\"layout\":{\"autotypenumbers\":\"strict\",\"colorway\":[\"#636efa\",\"#EF553B\",\"#00cc96\",\"#ab63fa\",\"#FFA15A\",\"#19d3f3\",\"#FF6692\",\"#B6E880\",\"#FF97FF\",\"#FECB52\"],\"font\":{\"color\":\"#2a3f5f\"},\"hovermode\":\"closest\",\"hoverlabel\":{\"align\":\"left\"},\"paper_bgcolor\":\"white\",\"plot_bgcolor\":\"#E5ECF6\",\"polar\":{\"bgcolor\":\"#E5ECF6\",\"angularaxis\":{\"gridcolor\":\"white\",\"linecolor\":\"white\",\"ticks\":\"\"},\"radialaxis\":{\"gridcolor\":\"white\",\"linecolor\":\"white\",\"ticks\":\"\"}},\"ternary\":{\"bgcolor\":\"#E5ECF6\",\"aaxis\":{\"gridcolor\":\"white\",\"linecolor\":\"white\",\"ticks\":\"\"},\"baxis\":{\"gridcolor\":\"white\",\"linecolor\":\"white\",\"ticks\":\"\"},\"caxis\":{\"gridcolor\":\"white\",\"linecolor\":\"white\",\"ticks\":\"\"}},\"coloraxis\":{\"colorbar\":{\"outlinewidth\":0,\"ticks\":\"\"}},\"colorscale\":{\"sequential\":[[0.0,\"#0d0887\"],[0.1111111111111111,\"#46039f\"],[0.2222222222222222,\"#7201a8\"],[0.3333333333333333,\"#9c179e\"],[0.4444444444444444,\"#bd3786\"],[0.5555555555555556,\"#d8576b\"],[0.6666666666666666,\"#ed7953\"],[0.7777777777777778,\"#fb9f3a\"],[0.8888888888888888,\"#fdca26\"],[1.0,\"#f0f921\"]],\"sequentialminus\":[[0.0,\"#0d0887\"],[0.1111111111111111,\"#46039f\"],[0.2222222222222222,\"#7201a8\"],[0.3333333333333333,\"#9c179e\"],[0.4444444444444444,\"#bd3786\"],[0.5555555555555556,\"#d8576b\"],[0.6666666666666666,\"#ed7953\"],[0.7777777777777778,\"#fb9f3a\"],[0.8888888888888888,\"#fdca26\"],[1.0,\"#f0f921\"]],\"diverging\":[[0,\"#8e0152\"],[0.1,\"#c51b7d\"],[0.2,\"#de77ae\"],[0.3,\"#f1b6da\"],[0.4,\"#fde0ef\"],[0.5,\"#f7f7f7\"],[0.6,\"#e6f5d0\"],[0.7,\"#b8e186\"],[0.8,\"#7fbc41\"],[0.9,\"#4d9221\"],[1,\"#276419\"]]},\"xaxis\":{\"gridcolor\":\"white\",\"linecolor\":\"white\",\"ticks\":\"\",\"title\":{\"standoff\":15},\"zerolinecolor\":\"white\",\"automargin\":true,\"zerolinewidth\":2},\"yaxis\":{\"gridcolor\":\"white\",\"linecolor\":\"white\",\"ticks\":\"\",\"title\":{\"standoff\":15},\"zerolinecolor\":\"white\",\"automargin\":true,\"zerolinewidth\":2},\"scene\":{\"xaxis\":{\"backgroundcolor\":\"#E5ECF6\",\"gridcolor\":\"white\",\"linecolor\":\"white\",\"showbackground\":true,\"ticks\":\"\",\"zerolinecolor\":\"white\",\"gridwidth\":2},\"yaxis\":{\"backgroundcolor\":\"#E5ECF6\",\"gridcolor\":\"white\",\"linecolor\":\"white\",\"showbackground\":true,\"ticks\":\"\",\"zerolinecolor\":\"white\",\"gridwidth\":2},\"zaxis\":{\"backgroundcolor\":\"#E5ECF6\",\"gridcolor\":\"white\",\"linecolor\":\"white\",\"showbackground\":true,\"ticks\":\"\",\"zerolinecolor\":\"white\",\"gridwidth\":2}},\"shapedefaults\":{\"line\":{\"color\":\"#2a3f5f\"}},\"annotationdefaults\":{\"arrowcolor\":\"#2a3f5f\",\"arrowhead\":0,\"arrowwidth\":1},\"geo\":{\"bgcolor\":\"white\",\"landcolor\":\"#E5ECF6\",\"subunitcolor\":\"white\",\"showland\":true,\"showlakes\":true,\"lakecolor\":\"white\"},\"title\":{\"x\":0.05},\"mapbox\":{\"style\":\"light\"}}},\"xaxis\":{\"anchor\":\"y\",\"domain\":[0.0,1.0],\"title\":{\"text\":\"Store\"},\"categoryorder\":\"category ascending\"},\"yaxis\":{\"anchor\":\"x\",\"domain\":[0.0,1.0],\"title\":{\"text\":\"CPI\"}},\"coloraxis\":{\"colorbar\":{\"title\":{\"text\":\"Store\"}},\"colorscale\":[[0.0,\"#0d0887\"],[0.1111111111111111,\"#46039f\"],[0.2222222222222222,\"#7201a8\"],[0.3333333333333333,\"#9c179e\"],[0.4444444444444444,\"#bd3786\"],[0.5555555555555556,\"#d8576b\"],[0.6666666666666666,\"#ed7953\"],[0.7777777777777778,\"#fb9f3a\"],[0.8888888888888888,\"#fdca26\"],[1.0,\"#f0f921\"]]},\"legend\":{\"tracegroupgap\":0},\"title\":{\"text\":\"CPI by Stores\"},\"barmode\":\"stack\"},                        {\"responsive\": true}                    ).then(function(){\n",
              "                            \n",
              "var gd = document.getElementById('8585ef59-c0e1-48c1-8a58-3a8a64f9349d');\n",
              "var x = new MutationObserver(function (mutations, observer) {{\n",
              "        var display = window.getComputedStyle(gd).display;\n",
              "        if (!display || display === 'none') {{\n",
              "            console.log([gd, 'removed!']);\n",
              "            Plotly.purge(gd);\n",
              "            observer.disconnect();\n",
              "        }}\n",
              "}});\n",
              "\n",
              "// Listen for the removal of the full notebook cells\n",
              "var notebookContainer = gd.closest('#notebook-container');\n",
              "if (notebookContainer) {{\n",
              "    x.observe(notebookContainer, {childList: true});\n",
              "}}\n",
              "\n",
              "// Listen for the clearing of the current output cell\n",
              "var outputEl = gd.closest('.output');\n",
              "if (outputEl) {{\n",
              "    x.observe(outputEl, {childList: true});\n",
              "}}\n",
              "\n",
              "                        })                };                            </script>        </div>\n",
              "</body>\n",
              "</html>"
            ]
          },
          "metadata": {}
        }
      ]
    },
    {
      "cell_type": "code",
      "source": [
        "CPI_hollidays = df[df['Holiday_Flag'].isin([1])]\n",
        "CPI_wrk = df[df['Holiday_Flag'].isin([0])]\n",
        "\n",
        "CPI_hollidays['mounth'] = CPI_hollidays['Date'].dt.month\n",
        "CPI_wrk['mounth'] = CPI_wrk['Date'].dt.month"
      ],
      "metadata": {
        "id": "Q8-DDRKsq03t",
        "colab": {
          "base_uri": "https://localhost:8080/"
        },
        "outputId": "7d5ac29f-ce48-4f53-ff3b-95c5b3969197"
      },
      "execution_count": 191,
      "outputs": [
        {
          "output_type": "stream",
          "name": "stderr",
          "text": [
            "<ipython-input-191-a9381e709855>:4: SettingWithCopyWarning:\n",
            "\n",
            "\n",
            "A value is trying to be set on a copy of a slice from a DataFrame.\n",
            "Try using .loc[row_indexer,col_indexer] = value instead\n",
            "\n",
            "See the caveats in the documentation: https://pandas.pydata.org/pandas-docs/stable/user_guide/indexing.html#returning-a-view-versus-a-copy\n",
            "\n",
            "<ipython-input-191-a9381e709855>:5: SettingWithCopyWarning:\n",
            "\n",
            "\n",
            "A value is trying to be set on a copy of a slice from a DataFrame.\n",
            "Try using .loc[row_indexer,col_indexer] = value instead\n",
            "\n",
            "See the caveats in the documentation: https://pandas.pydata.org/pandas-docs/stable/user_guide/indexing.html#returning-a-view-versus-a-copy\n",
            "\n"
          ]
        }
      ]
    },
    {
      "cell_type": "code",
      "source": [
        "CPI_hollidays.columns"
      ],
      "metadata": {
        "colab": {
          "base_uri": "https://localhost:8080/"
        },
        "id": "mXZ0JYxZpkcv",
        "outputId": "814584b8-173b-4717-e5c7-b0985746161e"
      },
      "execution_count": 192,
      "outputs": [
        {
          "output_type": "execute_result",
          "data": {
            "text/plain": [
              "Index(['Store', 'Date', 'Weekly_Sales', 'Holiday_Flag', 'Temperature',\n",
              "       'Fuel_Price', 'CPI', 'Unemployment', 'mounth'],\n",
              "      dtype='object')"
            ]
          },
          "metadata": {},
          "execution_count": 192
        }
      ]
    },
    {
      "cell_type": "code",
      "source": [
        "CPI_on_hollidays = CPI_hollidays.groupby('mounth')['CPI'].mean()\n",
        "CPI_on_wrk = CPI_wrk.groupby('mounth')['CPI'].mean()"
      ],
      "metadata": {
        "id": "CvjEAJWwrocD"
      },
      "execution_count": 193,
      "outputs": []
    },
    {
      "cell_type": "code",
      "source": [
        "new_index = []\n",
        "for i in range (1,13): new_index.append(i)\n",
        "CPI_on_hollidays = CPI_on_hollidays.reindex(new_index)"
      ],
      "metadata": {
        "id": "w0og59v1sOsB"
      },
      "execution_count": 194,
      "outputs": []
    },
    {
      "cell_type": "code",
      "source": [
        "months = ['Jan', 'Feb', 'Mar', 'Apr', 'May', 'Jun','Jul', 'Aug', 'Sep', 'Oct', 'Nov', 'Dec']\n",
        "\n",
        "fig = go.Figure()\n",
        "fig.add_trace(go.Bar(\n",
        "    x=months,\n",
        "    y= CPI_on_hollidays,\n",
        "    name='CPI on holidays',\n",
        "    marker_color='indianred'\n",
        "))\n",
        "fig.add_trace(go.Bar(\n",
        "    x=months,\n",
        "    y= CPI_on_wrk,\n",
        "    name='CPI on working days',\n",
        "    marker_color='lightsalmon'\n",
        "))"
      ],
      "metadata": {
        "id": "uRcoMPmHqyHW",
        "outputId": "83516019-2ae5-464b-b771-0965c6770c5b",
        "colab": {
          "base_uri": "https://localhost:8080/",
          "height": 542
        }
      },
      "execution_count": 195,
      "outputs": [
        {
          "output_type": "display_data",
          "data": {
            "text/html": [
              "<html>\n",
              "<head><meta charset=\"utf-8\" /></head>\n",
              "<body>\n",
              "    <div>            <script src=\"https://cdnjs.cloudflare.com/ajax/libs/mathjax/2.7.5/MathJax.js?config=TeX-AMS-MML_SVG\"></script><script type=\"text/javascript\">if (window.MathJax && window.MathJax.Hub && window.MathJax.Hub.Config) {window.MathJax.Hub.Config({SVG: {font: \"STIX-Web\"}});}</script>                <script type=\"text/javascript\">window.PlotlyConfig = {MathJaxConfig: 'local'};</script>\n",
              "        <script src=\"https://cdn.plot.ly/plotly-2.18.2.min.js\"></script>                <div id=\"0c7c5c6a-8835-4c8f-836e-9c4628fe7382\" class=\"plotly-graph-div\" style=\"height:525px; width:100%;\"></div>            <script type=\"text/javascript\">                                    window.PLOTLYENV=window.PLOTLYENV || {};                                    if (document.getElementById(\"0c7c5c6a-8835-4c8f-836e-9c4628fe7382\")) {                    Plotly.newPlot(                        \"0c7c5c6a-8835-4c8f-836e-9c4628fe7382\",                        [{\"marker\":{\"color\":\"indianred\"},\"name\":\"CPI on holidays\",\"x\":[\"Jan\",\"Feb\",\"Mar\",\"Apr\",\"May\",\"Jun\",\"Jul\",\"Aug\",\"Sep\",\"Oct\",\"Nov\",\"Dec\"],\"y\":[null,null,null,null,null,null,176.01446808666665,null,172.09547822,171.3898560188889,170.48381617777778,170.11326974],\"type\":\"bar\"},{\"marker\":{\"color\":\"lightsalmon\"},\"name\":\"CPI on working days\",\"x\":[\"Jan\",\"Feb\",\"Mar\",\"Apr\",\"May\",\"Jun\",\"Jul\",\"Aug\",\"Sep\",\"Oct\",\"Nov\",\"Dec\"],\"y\":[171.5625141588889,171.00478465777778,171.71779566370373,171.3458859736508,170.84582115452992,172.50564757481482,171.24455888592593,171.87253953222222,172.2309835948148,172.09030331797982,171.50346330666667,171.20514168222223],\"type\":\"bar\"}],                        {\"template\":{\"data\":{\"histogram2dcontour\":[{\"type\":\"histogram2dcontour\",\"colorbar\":{\"outlinewidth\":0,\"ticks\":\"\"},\"colorscale\":[[0.0,\"#0d0887\"],[0.1111111111111111,\"#46039f\"],[0.2222222222222222,\"#7201a8\"],[0.3333333333333333,\"#9c179e\"],[0.4444444444444444,\"#bd3786\"],[0.5555555555555556,\"#d8576b\"],[0.6666666666666666,\"#ed7953\"],[0.7777777777777778,\"#fb9f3a\"],[0.8888888888888888,\"#fdca26\"],[1.0,\"#f0f921\"]]}],\"choropleth\":[{\"type\":\"choropleth\",\"colorbar\":{\"outlinewidth\":0,\"ticks\":\"\"}}],\"histogram2d\":[{\"type\":\"histogram2d\",\"colorbar\":{\"outlinewidth\":0,\"ticks\":\"\"},\"colorscale\":[[0.0,\"#0d0887\"],[0.1111111111111111,\"#46039f\"],[0.2222222222222222,\"#7201a8\"],[0.3333333333333333,\"#9c179e\"],[0.4444444444444444,\"#bd3786\"],[0.5555555555555556,\"#d8576b\"],[0.6666666666666666,\"#ed7953\"],[0.7777777777777778,\"#fb9f3a\"],[0.8888888888888888,\"#fdca26\"],[1.0,\"#f0f921\"]]}],\"heatmap\":[{\"type\":\"heatmap\",\"colorbar\":{\"outlinewidth\":0,\"ticks\":\"\"},\"colorscale\":[[0.0,\"#0d0887\"],[0.1111111111111111,\"#46039f\"],[0.2222222222222222,\"#7201a8\"],[0.3333333333333333,\"#9c179e\"],[0.4444444444444444,\"#bd3786\"],[0.5555555555555556,\"#d8576b\"],[0.6666666666666666,\"#ed7953\"],[0.7777777777777778,\"#fb9f3a\"],[0.8888888888888888,\"#fdca26\"],[1.0,\"#f0f921\"]]}],\"heatmapgl\":[{\"type\":\"heatmapgl\",\"colorbar\":{\"outlinewidth\":0,\"ticks\":\"\"},\"colorscale\":[[0.0,\"#0d0887\"],[0.1111111111111111,\"#46039f\"],[0.2222222222222222,\"#7201a8\"],[0.3333333333333333,\"#9c179e\"],[0.4444444444444444,\"#bd3786\"],[0.5555555555555556,\"#d8576b\"],[0.6666666666666666,\"#ed7953\"],[0.7777777777777778,\"#fb9f3a\"],[0.8888888888888888,\"#fdca26\"],[1.0,\"#f0f921\"]]}],\"contourcarpet\":[{\"type\":\"contourcarpet\",\"colorbar\":{\"outlinewidth\":0,\"ticks\":\"\"}}],\"contour\":[{\"type\":\"contour\",\"colorbar\":{\"outlinewidth\":0,\"ticks\":\"\"},\"colorscale\":[[0.0,\"#0d0887\"],[0.1111111111111111,\"#46039f\"],[0.2222222222222222,\"#7201a8\"],[0.3333333333333333,\"#9c179e\"],[0.4444444444444444,\"#bd3786\"],[0.5555555555555556,\"#d8576b\"],[0.6666666666666666,\"#ed7953\"],[0.7777777777777778,\"#fb9f3a\"],[0.8888888888888888,\"#fdca26\"],[1.0,\"#f0f921\"]]}],\"surface\":[{\"type\":\"surface\",\"colorbar\":{\"outlinewidth\":0,\"ticks\":\"\"},\"colorscale\":[[0.0,\"#0d0887\"],[0.1111111111111111,\"#46039f\"],[0.2222222222222222,\"#7201a8\"],[0.3333333333333333,\"#9c179e\"],[0.4444444444444444,\"#bd3786\"],[0.5555555555555556,\"#d8576b\"],[0.6666666666666666,\"#ed7953\"],[0.7777777777777778,\"#fb9f3a\"],[0.8888888888888888,\"#fdca26\"],[1.0,\"#f0f921\"]]}],\"mesh3d\":[{\"type\":\"mesh3d\",\"colorbar\":{\"outlinewidth\":0,\"ticks\":\"\"}}],\"scatter\":[{\"fillpattern\":{\"fillmode\":\"overlay\",\"size\":10,\"solidity\":0.2},\"type\":\"scatter\"}],\"parcoords\":[{\"type\":\"parcoords\",\"line\":{\"colorbar\":{\"outlinewidth\":0,\"ticks\":\"\"}}}],\"scatterpolargl\":[{\"type\":\"scatterpolargl\",\"marker\":{\"colorbar\":{\"outlinewidth\":0,\"ticks\":\"\"}}}],\"bar\":[{\"error_x\":{\"color\":\"#2a3f5f\"},\"error_y\":{\"color\":\"#2a3f5f\"},\"marker\":{\"line\":{\"color\":\"#E5ECF6\",\"width\":0.5},\"pattern\":{\"fillmode\":\"overlay\",\"size\":10,\"solidity\":0.2}},\"type\":\"bar\"}],\"scattergeo\":[{\"type\":\"scattergeo\",\"marker\":{\"colorbar\":{\"outlinewidth\":0,\"ticks\":\"\"}}}],\"scatterpolar\":[{\"type\":\"scatterpolar\",\"marker\":{\"colorbar\":{\"outlinewidth\":0,\"ticks\":\"\"}}}],\"histogram\":[{\"marker\":{\"pattern\":{\"fillmode\":\"overlay\",\"size\":10,\"solidity\":0.2}},\"type\":\"histogram\"}],\"scattergl\":[{\"type\":\"scattergl\",\"marker\":{\"colorbar\":{\"outlinewidth\":0,\"ticks\":\"\"}}}],\"scatter3d\":[{\"type\":\"scatter3d\",\"line\":{\"colorbar\":{\"outlinewidth\":0,\"ticks\":\"\"}},\"marker\":{\"colorbar\":{\"outlinewidth\":0,\"ticks\":\"\"}}}],\"scattermapbox\":[{\"type\":\"scattermapbox\",\"marker\":{\"colorbar\":{\"outlinewidth\":0,\"ticks\":\"\"}}}],\"scatterternary\":[{\"type\":\"scatterternary\",\"marker\":{\"colorbar\":{\"outlinewidth\":0,\"ticks\":\"\"}}}],\"scattercarpet\":[{\"type\":\"scattercarpet\",\"marker\":{\"colorbar\":{\"outlinewidth\":0,\"ticks\":\"\"}}}],\"carpet\":[{\"aaxis\":{\"endlinecolor\":\"#2a3f5f\",\"gridcolor\":\"white\",\"linecolor\":\"white\",\"minorgridcolor\":\"white\",\"startlinecolor\":\"#2a3f5f\"},\"baxis\":{\"endlinecolor\":\"#2a3f5f\",\"gridcolor\":\"white\",\"linecolor\":\"white\",\"minorgridcolor\":\"white\",\"startlinecolor\":\"#2a3f5f\"},\"type\":\"carpet\"}],\"table\":[{\"cells\":{\"fill\":{\"color\":\"#EBF0F8\"},\"line\":{\"color\":\"white\"}},\"header\":{\"fill\":{\"color\":\"#C8D4E3\"},\"line\":{\"color\":\"white\"}},\"type\":\"table\"}],\"barpolar\":[{\"marker\":{\"line\":{\"color\":\"#E5ECF6\",\"width\":0.5},\"pattern\":{\"fillmode\":\"overlay\",\"size\":10,\"solidity\":0.2}},\"type\":\"barpolar\"}],\"pie\":[{\"automargin\":true,\"type\":\"pie\"}]},\"layout\":{\"autotypenumbers\":\"strict\",\"colorway\":[\"#636efa\",\"#EF553B\",\"#00cc96\",\"#ab63fa\",\"#FFA15A\",\"#19d3f3\",\"#FF6692\",\"#B6E880\",\"#FF97FF\",\"#FECB52\"],\"font\":{\"color\":\"#2a3f5f\"},\"hovermode\":\"closest\",\"hoverlabel\":{\"align\":\"left\"},\"paper_bgcolor\":\"white\",\"plot_bgcolor\":\"#E5ECF6\",\"polar\":{\"bgcolor\":\"#E5ECF6\",\"angularaxis\":{\"gridcolor\":\"white\",\"linecolor\":\"white\",\"ticks\":\"\"},\"radialaxis\":{\"gridcolor\":\"white\",\"linecolor\":\"white\",\"ticks\":\"\"}},\"ternary\":{\"bgcolor\":\"#E5ECF6\",\"aaxis\":{\"gridcolor\":\"white\",\"linecolor\":\"white\",\"ticks\":\"\"},\"baxis\":{\"gridcolor\":\"white\",\"linecolor\":\"white\",\"ticks\":\"\"},\"caxis\":{\"gridcolor\":\"white\",\"linecolor\":\"white\",\"ticks\":\"\"}},\"coloraxis\":{\"colorbar\":{\"outlinewidth\":0,\"ticks\":\"\"}},\"colorscale\":{\"sequential\":[[0.0,\"#0d0887\"],[0.1111111111111111,\"#46039f\"],[0.2222222222222222,\"#7201a8\"],[0.3333333333333333,\"#9c179e\"],[0.4444444444444444,\"#bd3786\"],[0.5555555555555556,\"#d8576b\"],[0.6666666666666666,\"#ed7953\"],[0.7777777777777778,\"#fb9f3a\"],[0.8888888888888888,\"#fdca26\"],[1.0,\"#f0f921\"]],\"sequentialminus\":[[0.0,\"#0d0887\"],[0.1111111111111111,\"#46039f\"],[0.2222222222222222,\"#7201a8\"],[0.3333333333333333,\"#9c179e\"],[0.4444444444444444,\"#bd3786\"],[0.5555555555555556,\"#d8576b\"],[0.6666666666666666,\"#ed7953\"],[0.7777777777777778,\"#fb9f3a\"],[0.8888888888888888,\"#fdca26\"],[1.0,\"#f0f921\"]],\"diverging\":[[0,\"#8e0152\"],[0.1,\"#c51b7d\"],[0.2,\"#de77ae\"],[0.3,\"#f1b6da\"],[0.4,\"#fde0ef\"],[0.5,\"#f7f7f7\"],[0.6,\"#e6f5d0\"],[0.7,\"#b8e186\"],[0.8,\"#7fbc41\"],[0.9,\"#4d9221\"],[1,\"#276419\"]]},\"xaxis\":{\"gridcolor\":\"white\",\"linecolor\":\"white\",\"ticks\":\"\",\"title\":{\"standoff\":15},\"zerolinecolor\":\"white\",\"automargin\":true,\"zerolinewidth\":2},\"yaxis\":{\"gridcolor\":\"white\",\"linecolor\":\"white\",\"ticks\":\"\",\"title\":{\"standoff\":15},\"zerolinecolor\":\"white\",\"automargin\":true,\"zerolinewidth\":2},\"scene\":{\"xaxis\":{\"backgroundcolor\":\"#E5ECF6\",\"gridcolor\":\"white\",\"linecolor\":\"white\",\"showbackground\":true,\"ticks\":\"\",\"zerolinecolor\":\"white\",\"gridwidth\":2},\"yaxis\":{\"backgroundcolor\":\"#E5ECF6\",\"gridcolor\":\"white\",\"linecolor\":\"white\",\"showbackground\":true,\"ticks\":\"\",\"zerolinecolor\":\"white\",\"gridwidth\":2},\"zaxis\":{\"backgroundcolor\":\"#E5ECF6\",\"gridcolor\":\"white\",\"linecolor\":\"white\",\"showbackground\":true,\"ticks\":\"\",\"zerolinecolor\":\"white\",\"gridwidth\":2}},\"shapedefaults\":{\"line\":{\"color\":\"#2a3f5f\"}},\"annotationdefaults\":{\"arrowcolor\":\"#2a3f5f\",\"arrowhead\":0,\"arrowwidth\":1},\"geo\":{\"bgcolor\":\"white\",\"landcolor\":\"#E5ECF6\",\"subunitcolor\":\"white\",\"showland\":true,\"showlakes\":true,\"lakecolor\":\"white\"},\"title\":{\"x\":0.05},\"mapbox\":{\"style\":\"light\"}}}},                        {\"responsive\": true}                    ).then(function(){\n",
              "                            \n",
              "var gd = document.getElementById('0c7c5c6a-8835-4c8f-836e-9c4628fe7382');\n",
              "var x = new MutationObserver(function (mutations, observer) {{\n",
              "        var display = window.getComputedStyle(gd).display;\n",
              "        if (!display || display === 'none') {{\n",
              "            console.log([gd, 'removed!']);\n",
              "            Plotly.purge(gd);\n",
              "            observer.disconnect();\n",
              "        }}\n",
              "}});\n",
              "\n",
              "// Listen for the removal of the full notebook cells\n",
              "var notebookContainer = gd.closest('#notebook-container');\n",
              "if (notebookContainer) {{\n",
              "    x.observe(notebookContainer, {childList: true});\n",
              "}}\n",
              "\n",
              "// Listen for the clearing of the current output cell\n",
              "var outputEl = gd.closest('.output');\n",
              "if (outputEl) {{\n",
              "    x.observe(outputEl, {childList: true});\n",
              "}}\n",
              "\n",
              "                        })                };                            </script>        </div>\n",
              "</body>\n",
              "</html>"
            ]
          },
          "metadata": {}
        }
      ]
    },
    {
      "cell_type": "code",
      "source": [
        "df['Date']"
      ],
      "metadata": {
        "colab": {
          "base_uri": "https://localhost:8080/"
        },
        "id": "cBbv_dbyb_IP",
        "outputId": "4c30309c-4f13-4e7d-d014-06f5771b7a9f"
      },
      "execution_count": 196,
      "outputs": [
        {
          "output_type": "execute_result",
          "data": {
            "text/plain": [
              "0      2010-05-02\n",
              "1      2010-12-02\n",
              "2      2010-02-19\n",
              "3      2010-02-26\n",
              "4      2010-05-03\n",
              "          ...    \n",
              "6430   2012-09-28\n",
              "6431   2012-05-10\n",
              "6432   2012-12-10\n",
              "6433   2012-10-19\n",
              "6434   2012-10-26\n",
              "Name: Date, Length: 6435, dtype: datetime64[ns]"
            ]
          },
          "metadata": {},
          "execution_count": 196
        }
      ]
    },
    {
      "cell_type": "code",
      "source": [
        "df['Year'] = df['Date'].dt.strftime('%Y')\n",
        "df['Mounth'] = df['Date'].dt.strftime('%m')\n",
        "df['Day'] = df['Date'].dt.strftime('%d')"
      ],
      "metadata": {
        "id": "8yLAop-MYfcw"
      },
      "execution_count": 197,
      "outputs": []
    },
    {
      "cell_type": "code",
      "source": [
        "sns.boxplot(x='Year', y='Fuel_Price', data=df)\n"
      ],
      "metadata": {
        "id": "yzrVUwuxVfSM",
        "outputId": "691c952f-7357-4e33-d54c-8b527b2816e5",
        "colab": {
          "base_uri": "https://localhost:8080/",
          "height": 297
        }
      },
      "execution_count": 198,
      "outputs": [
        {
          "output_type": "execute_result",
          "data": {
            "text/plain": [
              "<Axes: xlabel='Year', ylabel='Fuel_Price'>"
            ]
          },
          "metadata": {},
          "execution_count": 198
        },
        {
          "output_type": "display_data",
          "data": {
            "text/plain": [
              "<Figure size 432x288 with 1 Axes>"
            ],
            "image/png": "[encoded data removed]"
          },
          "metadata": {
            "needs_background": "light"
          }
        }
      ]
    },
    {
      "cell_type": "code",
      "source": [
        "sns.boxplot(x='Year', y='Unemployment', data=df)"
      ],
      "metadata": {
        "id": "14QI-xJhd0AV",
        "outputId": "4bf5e2e9-9881-4e15-fa4b-789ed4bd29d3",
        "colab": {
          "base_uri": "https://localhost:8080/",
          "height": 297
        }
      },
      "execution_count": 199,
      "outputs": [
        {
          "output_type": "execute_result",
          "data": {
            "text/plain": [
              "<Axes: xlabel='Year', ylabel='Unemployment'>"
            ]
          },
          "metadata": {},
          "execution_count": 199
        },
        {
          "output_type": "display_data",
          "data": {
            "text/plain": [
              "<Figure size 432x288 with 1 Axes>"
            ],
            "image/png": "[encoded data removed]"
          },
          "metadata": {
            "needs_background": "light"
          }
        }
      ]
    },
    {
      "cell_type": "markdown",
      "source": [],
      "metadata": {
        "id": "dGH-7xD_r9ge"
      }
    },
    {
      "cell_type": "code",
      "source": [
        "sns.boxplot(x='Year', y='CPI', data=df)"
      ],
      "metadata": {
        "id": "Rw4yKnvPY2xg",
        "outputId": "a7c39fa9-e342-45bb-f7b1-dc9bb3e1f9fd",
        "colab": {
          "base_uri": "https://localhost:8080/",
          "height": 297
        }
      },
      "execution_count": 200,
      "outputs": [
        {
          "output_type": "execute_result",
          "data": {
            "text/plain": [
              "<Axes: xlabel='Year', ylabel='CPI'>"
            ]
          },
          "metadata": {},
          "execution_count": 200
        },
        {
          "output_type": "display_data",
          "data": {
            "text/plain": [
              "<Figure size 432x288 with 1 Axes>"
            ],
            "image/png": "[encoded data removed]"
          },
          "metadata": {
            "needs_background": "light"
          }
        }
      ]
    },
    {
      "cell_type": "code",
      "source": [
        "numeric_features = df.drop(df.columns[[1,8,9,10]],axis = 1)\n",
        "\n",
        "numeric_features = numeric_features.stack().reset_index().rename(\n",
        "    columns={\"level_1\": \"Features\", 0: \"Value\"})\n",
        "\n",
        "ax = sns.FacetGrid(data=numeric_features, col=\"Features\",\n",
        "                  col_wrap=3, sharex=False, sharey=False)\n",
        "ax = ax.map(sns.distplot, \"Value\")"
      ],
      "metadata": {
        "id": "CTUaof-3YOPh",
        "outputId": "a9f716b8-f831-44e8-9f87-7b9b07f36cea",
        "colab": {
          "base_uri": "https://localhost:8080/",
          "height": 1000
        }
      },
      "execution_count": 201,
      "outputs": [
        {
          "output_type": "stream",
          "name": "stderr",
          "text": [
            "/usr/local/lib/python3.9/dist-packages/seaborn/axisgrid.py:848: UserWarning:\n",
            "\n",
            "\n",
            "\n",
            "`distplot` is a deprecated function and will be removed in seaborn v0.14.0.\n",
            "\n",
            "Please adapt your code to use either `displot` (a figure-level function with\n",
            "similar flexibility) or `histplot` (an axes-level function for histograms).\n",
            "\n",
            "For a guide to updating your code to use the new functions, please see\n",
            "https://gist.github.com/mwaskom/de44147ed2974457ad6372750bbe5751\n",
            "\n",
            "\n",
            "/usr/local/lib/python3.9/dist-packages/seaborn/axisgrid.py:848: UserWarning:\n",
            "\n",
            "\n",
            "\n",
            "`distplot` is a deprecated function and will be removed in seaborn v0.14.0.\n",
            "\n",
            "Please adapt your code to use either `displot` (a figure-level function with\n",
            "similar flexibility) or `histplot` (an axes-level function for histograms).\n",
            "\n",
            "For a guide to updating your code to use the new functions, please see\n",
            "https://gist.github.com/mwaskom/de44147ed2974457ad6372750bbe5751\n",
            "\n",
            "\n",
            "/usr/local/lib/python3.9/dist-packages/seaborn/axisgrid.py:848: UserWarning:\n",
            "\n",
            "\n",
            "\n",
            "`distplot` is a deprecated function and will be removed in seaborn v0.14.0.\n",
            "\n",
            "Please adapt your code to use either `displot` (a figure-level function with\n",
            "similar flexibility) or `histplot` (an axes-level function for histograms).\n",
            "\n",
            "For a guide to updating your code to use the new functions, please see\n",
            "https://gist.github.com/mwaskom/de44147ed2974457ad6372750bbe5751\n",
            "\n",
            "\n",
            "/usr/local/lib/python3.9/dist-packages/seaborn/axisgrid.py:848: UserWarning:\n",
            "\n",
            "\n",
            "\n",
            "`distplot` is a deprecated function and will be removed in seaborn v0.14.0.\n",
            "\n",
            "Please adapt your code to use either `displot` (a figure-level function with\n",
            "similar flexibility) or `histplot` (an axes-level function for histograms).\n",
            "\n",
            "For a guide to updating your code to use the new functions, please see\n",
            "https://gist.github.com/mwaskom/de44147ed2974457ad6372750bbe5751\n",
            "\n",
            "\n",
            "/usr/local/lib/python3.9/dist-packages/seaborn/axisgrid.py:848: UserWarning:\n",
            "\n",
            "\n",
            "\n",
            "`distplot` is a deprecated function and will be removed in seaborn v0.14.0.\n",
            "\n",
            "Please adapt your code to use either `displot` (a figure-level function with\n",
            "similar flexibility) or `histplot` (an axes-level function for histograms).\n",
            "\n",
            "For a guide to updating your code to use the new functions, please see\n",
            "https://gist.github.com/mwaskom/de44147ed2974457ad6372750bbe5751\n",
            "\n",
            "\n",
            "/usr/local/lib/python3.9/dist-packages/seaborn/axisgrid.py:848: UserWarning:\n",
            "\n",
            "\n",
            "\n",
            "`distplot` is a deprecated function and will be removed in seaborn v0.14.0.\n",
            "\n",
            "Please adapt your code to use either `displot` (a figure-level function with\n",
            "similar flexibility) or `histplot` (an axes-level function for histograms).\n",
            "\n",
            "For a guide to updating your code to use the new functions, please see\n",
            "https://gist.github.com/mwaskom/de44147ed2974457ad6372750bbe5751\n",
            "\n",
            "\n",
            "/usr/local/lib/python3.9/dist-packages/seaborn/axisgrid.py:848: UserWarning:\n",
            "\n",
            "\n",
            "\n",
            "`distplot` is a deprecated function and will be removed in seaborn v0.14.0.\n",
            "\n",
            "Please adapt your code to use either `displot` (a figure-level function with\n",
            "similar flexibility) or `histplot` (an axes-level function for histograms).\n",
            "\n",
            "For a guide to updating your code to use the new functions, please see\n",
            "https://gist.github.com/mwaskom/de44147ed2974457ad6372750bbe5751\n",
            "\n",
            "\n"
          ]
        },
        {
          "output_type": "display_data",
          "data": {
            "text/plain": [
              "<Figure size 648x648 with 7 Axes>"
            ],
            "image/png": "[encoded data removed]"
          },
          "metadata": {
            "needs_background": "light"
          }
        }
      ]
    },
    {
      "cell_type": "code",
      "source": [
        "numeric_features"
      ],
      "metadata": {
        "id": "FJWPynrSkimq",
        "outputId": "aba81eb1-4793-496e-a73b-4fc45cc0dac9",
        "colab": {
          "base_uri": "https://localhost:8080/",
          "height": 424
        }
      },
      "execution_count": 202,
      "outputs": [
        {
          "output_type": "execute_result",
          "data": {
            "text/plain": [
              "       level_0      Features         Value\n",
              "0            0         Store  1.000000e+00\n",
              "1            0  Weekly_Sales  1.643691e+06\n",
              "2            0  Holiday_Flag  0.000000e+00\n",
              "3            0   Temperature  4.231000e+01\n",
              "4            0    Fuel_Price  2.572000e+00\n",
              "...        ...           ...           ...\n",
              "45040     6434  Holiday_Flag  0.000000e+00\n",
              "45041     6434   Temperature  5.885000e+01\n",
              "45042     6434    Fuel_Price  3.882000e+00\n",
              "45043     6434           CPI  1.923089e+02\n",
              "45044     6434  Unemployment  8.667000e+00\n",
              "\n",
              "[45045 rows x 3 columns]"
            ],
            "text/html": [
              "\n",
              "  <div id=\"df-bdd80201-c419-4ca9-9a73-71deec5cdeef\">\n",
              "    <div class=\"colab-df-container\">\n",
              "      <div>\n",
              "<style scoped>\n",
              "    .dataframe tbody tr th:only-of-type {\n",
              "        vertical-align: middle;\n",
              "    }\n",
              "\n",
              "    .dataframe tbody tr th {\n",
              "        vertical-align: top;\n",
              "    }\n",
              "\n",
              "    .dataframe thead th {\n",
              "        text-align: right;\n",
              "    }\n",
              "</style>\n",
              "<table border=\"1\" class=\"dataframe\">\n",
              "  <thead>\n",
              "    <tr style=\"text-align: right;\">\n",
              "      <th></th>\n",
              "      <th>level_0</th>\n",
              "      <th>Features</th>\n",
              "      <th>Value</th>\n",
              "    </tr>\n",
              "  </thead>\n",
              "  <tbody>\n",
              "    <tr>\n",
              "      <th>0</th>\n",
              "      <td>0</td>\n",
              "      <td>Store</td>\n",
              "      <td>1.000000e+00</td>\n",
              "    </tr>\n",
              "    <tr>\n",
              "      <th>1</th>\n",
              "      <td>0</td>\n",
              "      <td>Weekly_Sales</td>\n",
              "      <td>1.643691e+06</td>\n",
              "    </tr>\n",
              "    <tr>\n",
              "      <th>2</th>\n",
              "      <td>0</td>\n",
              "      <td>Holiday_Flag</td>\n",
              "      <td>0.000000e+00</td>\n",
              "    </tr>\n",
              "    <tr>\n",
              "      <th>3</th>\n",
              "      <td>0</td>\n",
              "      <td>Temperature</td>\n",
              "      <td>4.231000e+01</td>\n",
              "    </tr>\n",
              "    <tr>\n",
              "      <th>4</th>\n",
              "      <td>0</td>\n",
              "      <td>Fuel_Price</td>\n",
              "      <td>2.572000e+00</td>\n",
              "    </tr>\n",
              "    <tr>\n",
              "      <th>...</th>\n",
              "      <td>...</td>\n",
              "      <td>...</td>\n",
              "      <td>...</td>\n",
              "    </tr>\n",
              "    <tr>\n",
              "      <th>45040</th>\n",
              "      <td>6434</td>\n",
              "      <td>Holiday_Flag</td>\n",
              "      <td>0.000000e+00</td>\n",
              "    </tr>\n",
              "    <tr>\n",
              "      <th>45041</th>\n",
              "      <td>6434</td>\n",
              "      <td>Temperature</td>\n",
              "      <td>5.885000e+01</td>\n",
              "    </tr>\n",
              "    <tr>\n",
              "      <th>45042</th>\n",
              "      <td>6434</td>\n",
              "      <td>Fuel_Price</td>\n",
              "      <td>3.882000e+00</td>\n",
              "    </tr>\n",
              "    <tr>\n",
              "      <th>45043</th>\n",
              "      <td>6434</td>\n",
              "      <td>CPI</td>\n",
              "      <td>1.923089e+02</td>\n",
              "    </tr>\n",
              "    <tr>\n",
              "      <th>45044</th>\n",
              "      <td>6434</td>\n",
              "      <td>Unemployment</td>\n",
              "      <td>8.667000e+00</td>\n",
              "    </tr>\n",
              "  </tbody>\n",
              "</table>\n",
              "<p>45045 rows × 3 columns</p>\n",
              "</div>\n",
              "      <button class=\"colab-df-convert\" onclick=\"convertToInteractive('df-bdd80201-c419-4ca9-9a73-71deec5cdeef')\"\n",
              "              title=\"Convert this dataframe to an interactive table.\"\n",
              "              style=\"display:none;\">\n",
              "        \n",
              "  <svg xmlns=\"http://www.w3.org/2000/svg\" height=\"24px\"viewBox=\"0 0 24 24\"\n",
              "       width=\"24px\">\n",
              "    <path d=\"M0 0h24v24H0V0z\" fill=\"none\"/>\n",
              "    <path d=\"M18.56 5.44l.94 2.06.94-2.06 2.06-.94-2.06-.94-.94-2.06-.94 2.06-2.06.94zm-11 1L8.5 8.5l.94-2.06 2.06-.94-2.06-.94L8.5 2.5l-.94 2.06-2.06.94zm10 10l.94 2.06.94-2.06 2.06-.94-2.06-.94-.94-2.06-.94 2.06-2.06.94z\"/><path d=\"M17.41 7.96l-1.37-1.37c-.4-.4-.92-.59-1.43-.59-.52 0-1.04.2-1.43.59L10.3 9.45l-7.72 7.72c-.78.78-.78 2.05 0 2.83L4 21.41c.39.39.9.59 1.41.59.51 0 1.02-.2 1.41-.59l7.78-7.78 2.81-2.81c.8-.78.8-2.07 0-2.86zM5.41 20L4 18.59l7.72-7.72 1.47 1.35L5.41 20z\"/>\n",
              "  </svg>\n",
              "      </button>\n",
              "      \n",
              "  <style>\n",
              "    .colab-df-container {\n",
              "      display:flex;\n",
              "      flex-wrap:wrap;\n",
              "      gap: 12px;\n",
              "    }\n",
              "\n",
              "    .colab-df-convert {\n",
              "      background-color: #E8F0FE;\n",
              "      border: none;\n",
              "      border-radius: 50%;\n",
              "      cursor: pointer;\n",
              "      display: none;\n",
              "      fill: #1967D2;\n",
              "      height: 32px;\n",
              "      padding: 0 0 0 0;\n",
              "      width: 32px;\n",
              "    }\n",
              "\n",
              "    .colab-df-convert:hover {\n",
              "      background-color: #E2EBFA;\n",
              "      box-shadow: 0px 1px 2px rgba(60, 64, 67, 0.3), 0px 1px 3px 1px rgba(60, 64, 67, 0.15);\n",
              "      fill: #174EA6;\n",
              "    }\n",
              "\n",
              "    [theme=dark] .colab-df-convert {\n",
              "      background-color: #3B4455;\n",
              "      fill: #D2E3FC;\n",
              "    }\n",
              "\n",
              "    [theme=dark] .colab-df-convert:hover {\n",
              "      background-color: #434B5C;\n",
              "      box-shadow: 0px 1px 3px 1px rgba(0, 0, 0, 0.15);\n",
              "      filter: drop-shadow(0px 1px 2px rgba(0, 0, 0, 0.3));\n",
              "      fill: #FFFFFF;\n",
              "    }\n",
              "  </style>\n",
              "\n",
              "      <script>\n",
              "        const buttonEl =\n",
              "          document.querySelector('#df-bdd80201-c419-4ca9-9a73-71deec5cdeef button.colab-df-convert');\n",
              "        buttonEl.style.display =\n",
              "          google.colab.kernel.accessAllowed ? 'block' : 'none';\n",
              "\n",
              "        async function convertToInteractive(key) {\n",
              "          const element = document.querySelector('#df-bdd80201-c419-4ca9-9a73-71deec5cdeef');\n",
              "          const dataTable =\n",
              "            await google.colab.kernel.invokeFunction('convertToInteractive',\n",
              "                                                     [key], {});\n",
              "          if (!dataTable) return;\n",
              "\n",
              "          const docLinkHtml = 'Like what you see? Visit the ' +\n",
              "            '<a target=\"_blank\" href=https://colab.research.google.com/notebooks/data_table.ipynb>data table notebook</a>'\n",
              "            + ' to learn more about interactive tables.';\n",
              "          element.innerHTML = '';\n",
              "          dataTable['output_type'] = 'display_data';\n",
              "          await google.colab.output.renderOutput(dataTable, element);\n",
              "          const docLink = document.createElement('div');\n",
              "          docLink.innerHTML = docLinkHtml;\n",
              "          element.appendChild(docLink);\n",
              "        }\n",
              "      </script>\n",
              "    </div>\n",
              "  </div>\n",
              "  "
            ]
          },
          "metadata": {},
          "execution_count": 202
        }
      ]
    },
    {
      "cell_type": "code",
      "source": [
        "df=df.drop(['Date','Day','Year'],axis=1)"
      ],
      "metadata": {
        "id": "dEeZdf_3mnpI"
      },
      "execution_count": 203,
      "outputs": []
    },
    {
      "cell_type": "code",
      "source": [
        "# adding 3 more features\n",
        "mean_month_fuel_price = df.groupby('Mounth')['Fuel_Price'].median().to_dict()\n",
        "df['mean_month_fuel_price'] = df['Mounth'].map(mean_month_fuel_price)\n",
        "mean_month_CPI = df.groupby('Mounth')['CPI'].median().to_dict()\n",
        "df['mean_month_CPI'] = df['Mounth'].map(mean_month_CPI)\n",
        "mean_month_CPI = df.groupby('Mounth')['CPI'].median().to_dict()\n",
        "df['mean_month_CPI'] = df['Mounth'].map(mean_month_CPI)"
      ],
      "metadata": {
        "id": "LDpR9Se_dp-N"
      },
      "execution_count": 204,
      "outputs": []
    },
    {
      "cell_type": "code",
      "source": [
        "df"
      ],
      "metadata": {
        "colab": {
          "base_uri": "https://localhost:8080/",
          "height": 424
        },
        "id": "lWclefVStaKX",
        "outputId": "51c08136-c2fe-4301-cee3-6fabb3a28117"
      },
      "execution_count": 205,
      "outputs": [
        {
          "output_type": "execute_result",
          "data": {
            "text/plain": [
              "      Store  Weekly_Sales  Holiday_Flag  Temperature  Fuel_Price         CPI  \\\n",
              "0         1    1643690.90             0        42.31       2.572  211.096358   \n",
              "1         1    1641957.44             1        38.51       2.548  211.242170   \n",
              "2         1    1611968.17             0        39.93       2.514  211.289143   \n",
              "3         1    1409727.59             0        46.63       2.561  211.319643   \n",
              "4         1    1554806.68             0        46.50       2.625  211.350143   \n",
              "...     ...           ...           ...          ...         ...         ...   \n",
              "6430     45     713173.95             0        64.88       3.997  192.013558   \n",
              "6431     45     733455.07             0        64.89       3.985  192.170412   \n",
              "6432     45     734464.36             0        54.47       4.000  192.327265   \n",
              "6433     45     718125.53             0        56.47       3.969  192.330854   \n",
              "6434     45     760281.43             0        58.85       3.882  192.308899   \n",
              "\n",
              "      Unemployment Mounth  mean_month_fuel_price  mean_month_CPI  \n",
              "0            8.106     05                  3.595      182.046418  \n",
              "1            8.106     12                  3.130      182.517732  \n",
              "2            8.106     02                  3.172      182.077469  \n",
              "3            8.106     02                  3.172      182.077469  \n",
              "4            8.106     05                  3.595      182.046418  \n",
              "...            ...    ...                    ...             ...  \n",
              "6430         8.684     09                  3.554      182.669674  \n",
              "6431         8.667     05                  3.595      182.046418  \n",
              "6432         8.667     12                  3.130      182.517732  \n",
              "6433         8.667     10                  3.409      182.855869  \n",
              "6434         8.667     10                  3.409      182.855869  \n",
              "\n",
              "[6435 rows x 10 columns]"
            ],
            "text/html": [
              "\n",
              "  <div id=\"df-abb47e9b-c404-41b2-b753-1265f32adf80\">\n",
              "    <div class=\"colab-df-container\">\n",
              "      <div>\n",
              "<style scoped>\n",
              "    .dataframe tbody tr th:only-of-type {\n",
              "        vertical-align: middle;\n",
              "    }\n",
              "\n",
              "    .dataframe tbody tr th {\n",
              "        vertical-align: top;\n",
              "    }\n",
              "\n",
              "    .dataframe thead th {\n",
              "        text-align: right;\n",
              "    }\n",
              "</style>\n",
              "<table border=\"1\" class=\"dataframe\">\n",
              "  <thead>\n",
              "    <tr style=\"text-align: right;\">\n",
              "      <th></th>\n",
              "      <th>Store</th>\n",
              "      <th>Weekly_Sales</th>\n",
              "      <th>Holiday_Flag</th>\n",
              "      <th>Temperature</th>\n",
              "      <th>Fuel_Price</th>\n",
              "      <th>CPI</th>\n",
              "      <th>Unemployment</th>\n",
              "      <th>Mounth</th>\n",
              "      <th>mean_month_fuel_price</th>\n",
              "      <th>mean_month_CPI</th>\n",
              "    </tr>\n",
              "  </thead>\n",
              "  <tbody>\n",
              "    <tr>\n",
              "      <th>0</th>\n",
              "      <td>1</td>\n",
              "      <td>1643690.90</td>\n",
              "      <td>0</td>\n",
              "      <td>42.31</td>\n",
              "      <td>2.572</td>\n",
              "      <td>211.096358</td>\n",
              "      <td>8.106</td>\n",
              "      <td>05</td>\n",
              "      <td>3.595</td>\n",
              "      <td>182.046418</td>\n",
              "    </tr>\n",
              "    <tr>\n",
              "      <th>1</th>\n",
              "      <td>1</td>\n",
              "      <td>1641957.44</td>\n",
              "      <td>1</td>\n",
              "      <td>38.51</td>\n",
              "      <td>2.548</td>\n",
              "      <td>211.242170</td>\n",
              "      <td>8.106</td>\n",
              "      <td>12</td>\n",
              "      <td>3.130</td>\n",
              "      <td>182.517732</td>\n",
              "    </tr>\n",
              "    <tr>\n",
              "      <th>2</th>\n",
              "      <td>1</td>\n",
              "      <td>1611968.17</td>\n",
              "      <td>0</td>\n",
              "      <td>39.93</td>\n",
              "      <td>2.514</td>\n",
              "      <td>211.289143</td>\n",
              "      <td>8.106</td>\n",
              "      <td>02</td>\n",
              "      <td>3.172</td>\n",
              "      <td>182.077469</td>\n",
              "    </tr>\n",
              "    <tr>\n",
              "      <th>3</th>\n",
              "      <td>1</td>\n",
              "      <td>1409727.59</td>\n",
              "      <td>0</td>\n",
              "      <td>46.63</td>\n",
              "      <td>2.561</td>\n",
              "      <td>211.319643</td>\n",
              "      <td>8.106</td>\n",
              "      <td>02</td>\n",
              "      <td>3.172</td>\n",
              "      <td>182.077469</td>\n",
              "    </tr>\n",
              "    <tr>\n",
              "      <th>4</th>\n",
              "      <td>1</td>\n",
              "      <td>1554806.68</td>\n",
              "      <td>0</td>\n",
              "      <td>46.50</td>\n",
              "      <td>2.625</td>\n",
              "      <td>211.350143</td>\n",
              "      <td>8.106</td>\n",
              "      <td>05</td>\n",
              "      <td>3.595</td>\n",
              "      <td>182.046418</td>\n",
              "    </tr>\n",
              "    <tr>\n",
              "      <th>...</th>\n",
              "      <td>...</td>\n",
              "      <td>...</td>\n",
              "      <td>...</td>\n",
              "      <td>...</td>\n",
              "      <td>...</td>\n",
              "      <td>...</td>\n",
              "      <td>...</td>\n",
              "      <td>...</td>\n",
              "      <td>...</td>\n",
              "      <td>...</td>\n",
              "    </tr>\n",
              "    <tr>\n",
              "      <th>6430</th>\n",
              "      <td>45</td>\n",
              "      <td>713173.95</td>\n",
              "      <td>0</td>\n",
              "      <td>64.88</td>\n",
              "      <td>3.997</td>\n",
              "      <td>192.013558</td>\n",
              "      <td>8.684</td>\n",
              "      <td>09</td>\n",
              "      <td>3.554</td>\n",
              "      <td>182.669674</td>\n",
              "    </tr>\n",
              "    <tr>\n",
              "      <th>6431</th>\n",
              "      <td>45</td>\n",
              "      <td>733455.07</td>\n",
              "      <td>0</td>\n",
              "      <td>64.89</td>\n",
              "      <td>3.985</td>\n",
              "      <td>192.170412</td>\n",
              "      <td>8.667</td>\n",
              "      <td>05</td>\n",
              "      <td>3.595</td>\n",
              "      <td>182.046418</td>\n",
              "    </tr>\n",
              "    <tr>\n",
              "      <th>6432</th>\n",
              "      <td>45</td>\n",
              "      <td>734464.36</td>\n",
              "      <td>0</td>\n",
              "      <td>54.47</td>\n",
              "      <td>4.000</td>\n",
              "      <td>192.327265</td>\n",
              "      <td>8.667</td>\n",
              "      <td>12</td>\n",
              "      <td>3.130</td>\n",
              "      <td>182.517732</td>\n",
              "    </tr>\n",
              "    <tr>\n",
              "      <th>6433</th>\n",
              "      <td>45</td>\n",
              "      <td>718125.53</td>\n",
              "      <td>0</td>\n",
              "      <td>56.47</td>\n",
              "      <td>3.969</td>\n",
              "      <td>192.330854</td>\n",
              "      <td>8.667</td>\n",
              "      <td>10</td>\n",
              "      <td>3.409</td>\n",
              "      <td>182.855869</td>\n",
              "    </tr>\n",
              "    <tr>\n",
              "      <th>6434</th>\n",
              "      <td>45</td>\n",
              "      <td>760281.43</td>\n",
              "      <td>0</td>\n",
              "      <td>58.85</td>\n",
              "      <td>3.882</td>\n",
              "      <td>192.308899</td>\n",
              "      <td>8.667</td>\n",
              "      <td>10</td>\n",
              "      <td>3.409</td>\n",
              "      <td>182.855869</td>\n",
              "    </tr>\n",
              "  </tbody>\n",
              "</table>\n",
              "<p>6435 rows × 10 columns</p>\n",
              "</div>\n",
              "      <button class=\"colab-df-convert\" onclick=\"convertToInteractive('df-abb47e9b-c404-41b2-b753-1265f32adf80')\"\n",
              "              title=\"Convert this dataframe to an interactive table.\"\n",
              "              style=\"display:none;\">\n",
              "        \n",
              "  <svg xmlns=\"http://www.w3.org/2000/svg\" height=\"24px\"viewBox=\"0 0 24 24\"\n",
              "       width=\"24px\">\n",
              "    <path d=\"M0 0h24v24H0V0z\" fill=\"none\"/>\n",
              "    <path d=\"M18.56 5.44l.94 2.06.94-2.06 2.06-.94-2.06-.94-.94-2.06-.94 2.06-2.06.94zm-11 1L8.5 8.5l.94-2.06 2.06-.94-2.06-.94L8.5 2.5l-.94 2.06-2.06.94zm10 10l.94 2.06.94-2.06 2.06-.94-2.06-.94-.94-2.06-.94 2.06-2.06.94z\"/><path d=\"M17.41 7.96l-1.37-1.37c-.4-.4-.92-.59-1.43-.59-.52 0-1.04.2-1.43.59L10.3 9.45l-7.72 7.72c-.78.78-.78 2.05 0 2.83L4 21.41c.39.39.9.59 1.41.59.51 0 1.02-.2 1.41-.59l7.78-7.78 2.81-2.81c.8-.78.8-2.07 0-2.86zM5.41 20L4 18.59l7.72-7.72 1.47 1.35L5.41 20z\"/>\n",
              "  </svg>\n",
              "      </button>\n",
              "      \n",
              "  <style>\n",
              "    .colab-df-container {\n",
              "      display:flex;\n",
              "      flex-wrap:wrap;\n",
              "      gap: 12px;\n",
              "    }\n",
              "\n",
              "    .colab-df-convert {\n",
              "      background-color: #E8F0FE;\n",
              "      border: none;\n",
              "      border-radius: 50%;\n",
              "      cursor: pointer;\n",
              "      display: none;\n",
              "      fill: #1967D2;\n",
              "      height: 32px;\n",
              "      padding: 0 0 0 0;\n",
              "      width: 32px;\n",
              "    }\n",
              "\n",
              "    .colab-df-convert:hover {\n",
              "      background-color: #E2EBFA;\n",
              "      box-shadow: 0px 1px 2px rgba(60, 64, 67, 0.3), 0px 1px 3px 1px rgba(60, 64, 67, 0.15);\n",
              "      fill: #174EA6;\n",
              "    }\n",
              "\n",
              "    [theme=dark] .colab-df-convert {\n",
              "      background-color: #3B4455;\n",
              "      fill: #D2E3FC;\n",
              "    }\n",
              "\n",
              "    [theme=dark] .colab-df-convert:hover {\n",
              "      background-color: #434B5C;\n",
              "      box-shadow: 0px 1px 3px 1px rgba(0, 0, 0, 0.15);\n",
              "      filter: drop-shadow(0px 1px 2px rgba(0, 0, 0, 0.3));\n",
              "      fill: #FFFFFF;\n",
              "    }\n",
              "  </style>\n",
              "\n",
              "      <script>\n",
              "        const buttonEl =\n",
              "          document.querySelector('#df-abb47e9b-c404-41b2-b753-1265f32adf80 button.colab-df-convert');\n",
              "        buttonEl.style.display =\n",
              "          google.colab.kernel.accessAllowed ? 'block' : 'none';\n",
              "\n",
              "        async function convertToInteractive(key) {\n",
              "          const element = document.querySelector('#df-abb47e9b-c404-41b2-b753-1265f32adf80');\n",
              "          const dataTable =\n",
              "            await google.colab.kernel.invokeFunction('convertToInteractive',\n",
              "                                                     [key], {});\n",
              "          if (!dataTable) return;\n",
              "\n",
              "          const docLinkHtml = 'Like what you see? Visit the ' +\n",
              "            '<a target=\"_blank\" href=https://colab.research.google.com/notebooks/data_table.ipynb>data table notebook</a>'\n",
              "            + ' to learn more about interactive tables.';\n",
              "          element.innerHTML = '';\n",
              "          dataTable['output_type'] = 'display_data';\n",
              "          await google.colab.output.renderOutput(dataTable, element);\n",
              "          const docLink = document.createElement('div');\n",
              "          docLink.innerHTML = docLinkHtml;\n",
              "          element.appendChild(docLink);\n",
              "        }\n",
              "      </script>\n",
              "    </div>\n",
              "  </div>\n",
              "  "
            ]
          },
          "metadata": {},
          "execution_count": 205
        }
      ]
    },
    {
      "cell_type": "code",
      "source": [
        "\n",
        "df['Store'].astype('float64')\n",
        "df['Mounth'].astype('float64')"
      ],
      "metadata": {
        "id": "iEt_6V4K4uWE",
        "outputId": "bc742dc0-f10c-4f35-b93c-71d9a3e3d988",
        "colab": {
          "base_uri": "https://localhost:8080/"
        }
      },
      "execution_count": 206,
      "outputs": [
        {
          "output_type": "execute_result",
          "data": {
            "text/plain": [
              "0        5.0\n",
              "1       12.0\n",
              "2        2.0\n",
              "3        2.0\n",
              "4        5.0\n",
              "        ... \n",
              "6430     9.0\n",
              "6431     5.0\n",
              "6432    12.0\n",
              "6433    10.0\n",
              "6434    10.0\n",
              "Name: Mounth, Length: 6435, dtype: float64"
            ]
          },
          "metadata": {},
          "execution_count": 206
        }
      ]
    },
    {
      "cell_type": "code",
      "source": [
        "X = df.drop('Weekly_Sales', axis=1)\n",
        "y = df['Weekly_Sales']"
      ],
      "metadata": {
        "id": "u4twlhMWjd2m"
      },
      "execution_count": 207,
      "outputs": []
    },
    {
      "cell_type": "code",
      "source": [
        "X['Store'].astype('object')\n",
        "X['Mounth'].astype('int64')"
      ],
      "metadata": {
        "id": "oigp4LJs3wBR",
        "outputId": "5c4b6234-e8d2-4205-f80c-8307ea300a74",
        "colab": {
          "base_uri": "https://localhost:8080/"
        }
      },
      "execution_count": 208,
      "outputs": [
        {
          "output_type": "execute_result",
          "data": {
            "text/plain": [
              "0        5\n",
              "1       12\n",
              "2        2\n",
              "3        2\n",
              "4        5\n",
              "        ..\n",
              "6430     9\n",
              "6431     5\n",
              "6432    12\n",
              "6433    10\n",
              "6434    10\n",
              "Name: Mounth, Length: 6435, dtype: int64"
            ]
          },
          "metadata": {},
          "execution_count": 208
        }
      ]
    },
    {
      "cell_type": "code",
      "source": [
        "X['Store'] =  X['Store'].astype('object')\n",
        "X['Holiday_Flag'] = X['Holiday_Flag'].astype('object')"
      ],
      "metadata": {
        "id": "DnVB25J0-bfS"
      },
      "execution_count": 209,
      "outputs": []
    },
    {
      "cell_type": "code",
      "source": [
        "X.dtypes"
      ],
      "metadata": {
        "id": "LTOv4Sgk_ST4",
        "outputId": "5446a0da-1e07-4397-e220-dbb630eaf4e7",
        "colab": {
          "base_uri": "https://localhost:8080/"
        }
      },
      "execution_count": 210,
      "outputs": [
        {
          "output_type": "execute_result",
          "data": {
            "text/plain": [
              "Store                     object\n",
              "Holiday_Flag              object\n",
              "Temperature              float64\n",
              "Fuel_Price               float64\n",
              "CPI                      float64\n",
              "Unemployment             float64\n",
              "Mounth                    object\n",
              "mean_month_fuel_price    float64\n",
              "mean_month_CPI           float64\n",
              "dtype: object"
            ]
          },
          "metadata": {},
          "execution_count": 210
        }
      ]
    },
    {
      "cell_type": "code",
      "source": [
        "numeric =list(X.dtypes[X.dtypes == float].index)\n",
        "categoric = list(X.dtypes[X.dtypes == object].index)"
      ],
      "metadata": {
        "id": "4FagBLeymb6Q"
      },
      "execution_count": 211,
      "outputs": []
    },
    {
      "cell_type": "markdown",
      "source": [
        "# Modeling"
      ],
      "metadata": {
        "id": "oXFHM2erjbDL"
      }
    },
    {
      "cell_type": "code",
      "source": [
        "X_train, X_test, y_train, y_test = train_test_split(\n",
        "    X, y, test_size=0.25)"
      ],
      "metadata": {
        "id": "fwRMNQQbzAld"
      },
      "execution_count": 236,
      "outputs": []
    },
    {
      "cell_type": "markdown",
      "source": [
        "Numeric and Categoric features standartization "
      ],
      "metadata": {
        "id": "BenaDFoJxoXT"
      }
    },
    {
      "cell_type": "markdown",
      "source": [
        "Normalizing  features via logarithm "
      ],
      "metadata": {
        "id": "A3BfZmRidqU_"
      }
    },
    {
      "cell_type": "code",
      "source": [
        "for i in X_train[numeric]:\n",
        "    X_train[i] = np.log(X_train[i]+1)"
      ],
      "metadata": {
        "id": "QqG6Nfd0jafm"
      },
      "execution_count": 237,
      "outputs": []
    },
    {
      "cell_type": "code",
      "source": [
        "for i in X_test[numeric]:\n",
        "    X_test[i] = np.log(X_test[i]+1)"
      ],
      "metadata": {
        "id": "POpspnb23T5A",
        "outputId": "451980a1-b380-4f17-f436-dace1f04d609",
        "colab": {
          "base_uri": "https://localhost:8080/"
        }
      },
      "execution_count": 238,
      "outputs": [
        {
          "output_type": "stream",
          "name": "stderr",
          "text": [
            "/usr/local/lib/python3.9/dist-packages/pandas/core/arraylike.py:397: RuntimeWarning:\n",
            "\n",
            "invalid value encountered in log\n",
            "\n"
          ]
        }
      ]
    },
    {
      "cell_type": "code",
      "source": [
        "X_train[categoric].dtypes, X_train[numeric].dtypes "
      ],
      "metadata": {
        "id": "ElzC0PqU4dM1",
        "outputId": "8b813213-b5c0-4b2d-c199-c746301e61e1",
        "colab": {
          "base_uri": "https://localhost:8080/"
        }
      },
      "execution_count": 239,
      "outputs": [
        {
          "output_type": "execute_result",
          "data": {
            "text/plain": [
              "(Store           object\n",
              " Holiday_Flag    object\n",
              " Mounth          object\n",
              " dtype: object, Temperature              float64\n",
              " Fuel_Price               float64\n",
              " CPI                      float64\n",
              " Unemployment             float64\n",
              " mean_month_fuel_price    float64\n",
              " mean_month_CPI           float64\n",
              " dtype: object)"
            ]
          },
          "metadata": {},
          "execution_count": 239
        }
      ]
    },
    {
      "cell_type": "code",
      "source": [
        "X_train = pd.get_dummies(X_train, columns=categoric)"
      ],
      "metadata": {
        "id": "IZ0AXiNm3-I2",
        "outputId": "9dd1a857-7da7-44a9-e151-b4fa1549cddb",
        "colab": {
          "base_uri": "https://localhost:8080/"
        }
      },
      "execution_count": 240,
      "outputs": [
        {
          "output_type": "stream",
          "name": "stderr",
          "text": [
            "/usr/local/lib/python3.9/dist-packages/pandas/core/algorithms.py:798: FutureWarning:\n",
            "\n",
            "In a future version, the Index constructor will not infer numeric dtypes when passed object-dtype sequences (matching Series behavior)\n",
            "\n"
          ]
        }
      ]
    },
    {
      "cell_type": "code",
      "source": [
        "X_test = pd.get_dummies(X_test, columns=categoric)"
      ],
      "metadata": {
        "id": "wg5hshYQBiwJ",
        "outputId": "7d549450-9c93-4631-81f1-213a4b459c4d",
        "colab": {
          "base_uri": "https://localhost:8080/"
        }
      },
      "execution_count": 241,
      "outputs": [
        {
          "output_type": "stream",
          "name": "stderr",
          "text": [
            "/usr/local/lib/python3.9/dist-packages/pandas/core/algorithms.py:798: FutureWarning:\n",
            "\n",
            "In a future version, the Index constructor will not infer numeric dtypes when passed object-dtype sequences (matching Series behavior)\n",
            "\n"
          ]
        }
      ]
    },
    {
      "cell_type": "code",
      "source": [
        "X_train.columns, X_test.columns"
      ],
      "metadata": {
        "id": "bSHtLL9LBB30",
        "outputId": "7e7ca311-99fa-4359-ab19-46b3d9ecb060",
        "colab": {
          "base_uri": "https://localhost:8080/"
        }
      },
      "execution_count": 242,
      "outputs": [
        {
          "output_type": "execute_result",
          "data": {
            "text/plain": [
              "(Index(['Temperature', 'Fuel_Price', 'CPI', 'Unemployment',\n",
              "        'mean_month_fuel_price', 'mean_month_CPI', 'Store_1', 'Store_2',\n",
              "        'Store_3', 'Store_4', 'Store_5', 'Store_6', 'Store_7', 'Store_8',\n",
              "        'Store_9', 'Store_10', 'Store_11', 'Store_12', 'Store_13', 'Store_14',\n",
              "        'Store_15', 'Store_16', 'Store_17', 'Store_18', 'Store_19', 'Store_20',\n",
              "        'Store_21', 'Store_22', 'Store_23', 'Store_24', 'Store_25', 'Store_26',\n",
              "        'Store_27', 'Store_28', 'Store_29', 'Store_30', 'Store_31', 'Store_32',\n",
              "        'Store_33', 'Store_34', 'Store_35', 'Store_36', 'Store_37', 'Store_38',\n",
              "        'Store_39', 'Store_40', 'Store_41', 'Store_42', 'Store_43', 'Store_44',\n",
              "        'Store_45', 'Holiday_Flag_0', 'Holiday_Flag_1', 'Mounth_01',\n",
              "        'Mounth_02', 'Mounth_03', 'Mounth_04', 'Mounth_05', 'Mounth_06',\n",
              "        'Mounth_07', 'Mounth_08', 'Mounth_09', 'Mounth_10', 'Mounth_11',\n",
              "        'Mounth_12'],\n",
              "       dtype='object'),\n",
              " Index(['Temperature', 'Fuel_Price', 'CPI', 'Unemployment',\n",
              "        'mean_month_fuel_price', 'mean_month_CPI', 'Store_1', 'Store_2',\n",
              "        'Store_3', 'Store_4', 'Store_5', 'Store_6', 'Store_7', 'Store_8',\n",
              "        'Store_9', 'Store_10', 'Store_11', 'Store_12', 'Store_13', 'Store_14',\n",
              "        'Store_15', 'Store_16', 'Store_17', 'Store_18', 'Store_19', 'Store_20',\n",
              "        'Store_21', 'Store_22', 'Store_23', 'Store_24', 'Store_25', 'Store_26',\n",
              "        'Store_27', 'Store_28', 'Store_29', 'Store_30', 'Store_31', 'Store_32',\n",
              "        'Store_33', 'Store_34', 'Store_35', 'Store_36', 'Store_37', 'Store_38',\n",
              "        'Store_39', 'Store_40', 'Store_41', 'Store_42', 'Store_43', 'Store_44',\n",
              "        'Store_45', 'Holiday_Flag_0', 'Holiday_Flag_1', 'Mounth_01',\n",
              "        'Mounth_02', 'Mounth_03', 'Mounth_04', 'Mounth_05', 'Mounth_06',\n",
              "        'Mounth_07', 'Mounth_08', 'Mounth_09', 'Mounth_10', 'Mounth_11',\n",
              "        'Mounth_12'],\n",
              "       dtype='object'))"
            ]
          },
          "metadata": {},
          "execution_count": 242
        }
      ]
    },
    {
      "cell_type": "code",
      "source": [
        "import xgboost as xgb\n",
        "XG = xgb.XGBRegressor(objective = 'reg:squarederror' , learning_rate = 0.1,max_depth = 10, n_estimators = 100).fit(X_train, y_train)"
      ],
      "metadata": {
        "id": "90duf_iQ5c8J"
      },
      "execution_count": 243,
      "outputs": []
    },
    {
      "cell_type": "code",
      "source": [
        "XG.score(X_train,y_train) #0.9924816576910022"
      ],
      "metadata": {
        "id": "2fFpUUpaCDtJ",
        "outputId": "b80309da-0191-46bf-bdec-e5d6b3ed68b3",
        "colab": {
          "base_uri": "https://localhost:8080/"
        }
      },
      "execution_count": 244,
      "outputs": [
        {
          "output_type": "execute_result",
          "data": {
            "text/plain": [
              "0.9927868495483698"
            ]
          },
          "metadata": {},
          "execution_count": 244
        }
      ]
    },
    {
      "cell_type": "code",
      "source": [
        "y_pred_XG = XG.predict(X_test)"
      ],
      "metadata": {
        "id": "JNrkd-0vCNgo"
      },
      "execution_count": 227,
      "outputs": []
    },
    {
      "cell_type": "code",
      "source": [
        "print (y_pred_XG)"
      ],
      "metadata": {
        "id": "tHqOqNKNCW7G",
        "outputId": "4f851cf7-df58-47fc-8618-b35188266f2a",
        "colab": {
          "base_uri": "https://localhost:8080/"
        }
      },
      "execution_count": 245,
      "outputs": [
        {
          "output_type": "stream",
          "name": "stdout",
          "text": [
            "[1721455.6  1120287.6  1254101.4  ... 2074312.9  1022289.56 1401011.9 ]\n"
          ]
        }
      ]
    },
    {
      "cell_type": "code",
      "source": [
        "print('Training Accuracy :',XG.score(X_train,y_train))\n",
        "print('Testing Accuracy :',XG.score(X_test,y_test))"
      ],
      "metadata": {
        "id": "5Fr8FT8pChmO",
        "outputId": "0c081a7c-450e-4eab-c736-8d2937e68b52",
        "colab": {
          "base_uri": "https://localhost:8080/"
        }
      },
      "execution_count": 246,
      "outputs": [
        {
          "output_type": "stream",
          "name": "stdout",
          "text": [
            "Training Accuracy : 0.9927868495483698\n",
            "Testing Accuracy : 0.9555159239866323\n"
          ]
        }
      ]
    },
    {
      "cell_type": "code",
      "source": [
        "y_test.dtypes"
      ],
      "metadata": {
        "id": "ZRWIWZhZJX_w",
        "outputId": "3299548f-caaf-42ce-c6fa-419b03dbd32e",
        "colab": {
          "base_uri": "https://localhost:8080/"
        }
      },
      "execution_count": 282,
      "outputs": [
        {
          "output_type": "execute_result",
          "data": {
            "text/plain": [
              "dtype('float64')"
            ]
          },
          "metadata": {},
          "execution_count": 282
        }
      ]
    },
    {
      "cell_type": "code",
      "source": [
        "pred = pd.DataFrame({'pred':y_pred_XG})\n",
        "pred['pred']=pred['pred'].astype('float64')\n",
        "pred.reset_index(drop=True)"
      ],
      "metadata": {
        "id": "H7_PidzsDD6s",
        "outputId": "bb96695a-5489-4143-d01e-239c29f7275f",
        "colab": {
          "base_uri": "https://localhost:8080/",
          "height": 424
        }
      },
      "execution_count": 286,
      "outputs": [
        {
          "output_type": "execute_result",
          "data": {
            "text/plain": [
              "              pred\n",
              "0     1.721456e+06\n",
              "1     1.120288e+06\n",
              "2     1.254101e+06\n",
              "3     4.458967e+05\n",
              "4     1.024996e+06\n",
              "...            ...\n",
              "1604  1.997884e+06\n",
              "1605  5.270345e+05\n",
              "1606  2.074313e+06\n",
              "1607  1.022290e+06\n",
              "1608  1.401012e+06\n",
              "\n",
              "[1609 rows x 1 columns]"
            ],
            "text/html": [
              "\n",
              "  <div id=\"df-a17606de-4a96-4a9a-819c-0fdac74194fb\">\n",
              "    <div class=\"colab-df-container\">\n",
              "      <div>\n",
              "<style scoped>\n",
              "    .dataframe tbody tr th:only-of-type {\n",
              "        vertical-align: middle;\n",
              "    }\n",
              "\n",
              "    .dataframe tbody tr th {\n",
              "        vertical-align: top;\n",
              "    }\n",
              "\n",
              "    .dataframe thead th {\n",
              "        text-align: right;\n",
              "    }\n",
              "</style>\n",
              "<table border=\"1\" class=\"dataframe\">\n",
              "  <thead>\n",
              "    <tr style=\"text-align: right;\">\n",
              "      <th></th>\n",
              "      <th>pred</th>\n",
              "    </tr>\n",
              "  </thead>\n",
              "  <tbody>\n",
              "    <tr>\n",
              "      <th>0</th>\n",
              "      <td>1.721456e+06</td>\n",
              "    </tr>\n",
              "    <tr>\n",
              "      <th>1</th>\n",
              "      <td>1.120288e+06</td>\n",
              "    </tr>\n",
              "    <tr>\n",
              "      <th>2</th>\n",
              "      <td>1.254101e+06</td>\n",
              "    </tr>\n",
              "    <tr>\n",
              "      <th>3</th>\n",
              "      <td>4.458967e+05</td>\n",
              "    </tr>\n",
              "    <tr>\n",
              "      <th>4</th>\n",
              "      <td>1.024996e+06</td>\n",
              "    </tr>\n",
              "    <tr>\n",
              "      <th>...</th>\n",
              "      <td>...</td>\n",
              "    </tr>\n",
              "    <tr>\n",
              "      <th>1604</th>\n",
              "      <td>1.997884e+06</td>\n",
              "    </tr>\n",
              "    <tr>\n",
              "      <th>1605</th>\n",
              "      <td>5.270345e+05</td>\n",
              "    </tr>\n",
              "    <tr>\n",
              "      <th>1606</th>\n",
              "      <td>2.074313e+06</td>\n",
              "    </tr>\n",
              "    <tr>\n",
              "      <th>1607</th>\n",
              "      <td>1.022290e+06</td>\n",
              "    </tr>\n",
              "    <tr>\n",
              "      <th>1608</th>\n",
              "      <td>1.401012e+06</td>\n",
              "    </tr>\n",
              "  </tbody>\n",
              "</table>\n",
              "<p>1609 rows × 1 columns</p>\n",
              "</div>\n",
              "      <button class=\"colab-df-convert\" onclick=\"convertToInteractive('df-a17606de-4a96-4a9a-819c-0fdac74194fb')\"\n",
              "              title=\"Convert this dataframe to an interactive table.\"\n",
              "              style=\"display:none;\">\n",
              "        \n",
              "  <svg xmlns=\"http://www.w3.org/2000/svg\" height=\"24px\"viewBox=\"0 0 24 24\"\n",
              "       width=\"24px\">\n",
              "    <path d=\"M0 0h24v24H0V0z\" fill=\"none\"/>\n",
              "    <path d=\"M18.56 5.44l.94 2.06.94-2.06 2.06-.94-2.06-.94-.94-2.06-.94 2.06-2.06.94zm-11 1L8.5 8.5l.94-2.06 2.06-.94-2.06-.94L8.5 2.5l-.94 2.06-2.06.94zm10 10l.94 2.06.94-2.06 2.06-.94-2.06-.94-.94-2.06-.94 2.06-2.06.94z\"/><path d=\"M17.41 7.96l-1.37-1.37c-.4-.4-.92-.59-1.43-.59-.52 0-1.04.2-1.43.59L10.3 9.45l-7.72 7.72c-.78.78-.78 2.05 0 2.83L4 21.41c.39.39.9.59 1.41.59.51 0 1.02-.2 1.41-.59l7.78-7.78 2.81-2.81c.8-.78.8-2.07 0-2.86zM5.41 20L4 18.59l7.72-7.72 1.47 1.35L5.41 20z\"/>\n",
              "  </svg>\n",
              "      </button>\n",
              "      \n",
              "  <style>\n",
              "    .colab-df-container {\n",
              "      display:flex;\n",
              "      flex-wrap:wrap;\n",
              "      gap: 12px;\n",
              "    }\n",
              "\n",
              "    .colab-df-convert {\n",
              "      background-color: #E8F0FE;\n",
              "      border: none;\n",
              "      border-radius: 50%;\n",
              "      cursor: pointer;\n",
              "      display: none;\n",
              "      fill: #1967D2;\n",
              "      height: 32px;\n",
              "      padding: 0 0 0 0;\n",
              "      width: 32px;\n",
              "    }\n",
              "\n",
              "    .colab-df-convert:hover {\n",
              "      background-color: #E2EBFA;\n",
              "      box-shadow: 0px 1px 2px rgba(60, 64, 67, 0.3), 0px 1px 3px 1px rgba(60, 64, 67, 0.15);\n",
              "      fill: #174EA6;\n",
              "    }\n",
              "\n",
              "    [theme=dark] .colab-df-convert {\n",
              "      background-color: #3B4455;\n",
              "      fill: #D2E3FC;\n",
              "    }\n",
              "\n",
              "    [theme=dark] .colab-df-convert:hover {\n",
              "      background-color: #434B5C;\n",
              "      box-shadow: 0px 1px 3px 1px rgba(0, 0, 0, 0.15);\n",
              "      filter: drop-shadow(0px 1px 2px rgba(0, 0, 0, 0.3));\n",
              "      fill: #FFFFFF;\n",
              "    }\n",
              "  </style>\n",
              "\n",
              "      <script>\n",
              "        const buttonEl =\n",
              "          document.querySelector('#df-a17606de-4a96-4a9a-819c-0fdac74194fb button.colab-df-convert');\n",
              "        buttonEl.style.display =\n",
              "          google.colab.kernel.accessAllowed ? 'block' : 'none';\n",
              "\n",
              "        async function convertToInteractive(key) {\n",
              "          const element = document.querySelector('#df-a17606de-4a96-4a9a-819c-0fdac74194fb');\n",
              "          const dataTable =\n",
              "            await google.colab.kernel.invokeFunction('convertToInteractive',\n",
              "                                                     [key], {});\n",
              "          if (!dataTable) return;\n",
              "\n",
              "          const docLinkHtml = 'Like what you see? Visit the ' +\n",
              "            '<a target=\"_blank\" href=https://colab.research.google.com/notebooks/data_table.ipynb>data table notebook</a>'\n",
              "            + ' to learn more about interactive tables.';\n",
              "          element.innerHTML = '';\n",
              "          dataTable['output_type'] = 'display_data';\n",
              "          await google.colab.output.renderOutput(dataTable, element);\n",
              "          const docLink = document.createElement('div');\n",
              "          docLink.innerHTML = docLinkHtml;\n",
              "          element.appendChild(docLink);\n",
              "        }\n",
              "      </script>\n",
              "    </div>\n",
              "  </div>\n",
              "  "
            ]
          },
          "metadata": {},
          "execution_count": 286
        }
      ]
    },
    {
      "cell_type": "code",
      "source": [
        "compare = pd.concat([y_test,pred],axis=1)\n"
      ],
      "metadata": {
        "id": "ZTYOac74Du3t"
      },
      "execution_count": 287,
      "outputs": []
    },
    {
      "cell_type": "code",
      "source": [
        "compare.head(20)"
      ],
      "metadata": {
        "id": "TAEpBX4PKhlc",
        "outputId": "fe84fbe8-08c7-46ac-b35e-d6bdbcb6dd12",
        "colab": {
          "base_uri": "https://localhost:8080/",
          "height": 676
        }
      },
      "execution_count": 288,
      "outputs": [
        {
          "output_type": "execute_result",
          "data": {
            "text/plain": [
              "      Weekly_Sales          pred\n",
              "433     1971057.44  1.141710e+06\n",
              "1770    2003480.59           NaN\n",
              "1896    1936621.09           NaN\n",
              "5012     404438.51           NaN\n",
              "2133     590453.63           NaN\n",
              "6159     280048.74           NaN\n",
              "260     1923957.09  3.128573e+05\n",
              "4624     243948.82           NaN\n",
              "1184     520846.68  3.131974e+05\n",
              "3117     939118.24           NaN\n",
              "5806    1160619.61           NaN\n",
              "2556    1097006.30           NaN\n",
              "1224     540819.44  1.993931e+06\n",
              "2632    1257972.37           NaN\n",
              "5676     908853.15           NaN\n",
              "5013     435972.82           NaN\n",
              "6175     296804.49           NaN\n",
              "5744    1192213.87           NaN\n",
              "3528     916446.02           NaN\n",
              "4874    1096930.65           NaN"
            ],
            "text/html": [
              "\n",
              "  <div id=\"df-3006f753-b18a-4481-9548-e60d4c0d5d8c\">\n",
              "    <div class=\"colab-df-container\">\n",
              "      <div>\n",
              "<style scoped>\n",
              "    .dataframe tbody tr th:only-of-type {\n",
              "        vertical-align: middle;\n",
              "    }\n",
              "\n",
              "    .dataframe tbody tr th {\n",
              "        vertical-align: top;\n",
              "    }\n",
              "\n",
              "    .dataframe thead th {\n",
              "        text-align: right;\n",
              "    }\n",
              "</style>\n",
              "<table border=\"1\" class=\"dataframe\">\n",
              "  <thead>\n",
              "    <tr style=\"text-align: right;\">\n",
              "      <th></th>\n",
              "      <th>Weekly_Sales</th>\n",
              "      <th>pred</th>\n",
              "    </tr>\n",
              "  </thead>\n",
              "  <tbody>\n",
              "    <tr>\n",
              "      <th>433</th>\n",
              "      <td>1971057.44</td>\n",
              "      <td>1.141710e+06</td>\n",
              "    </tr>\n",
              "    <tr>\n",
              "      <th>1770</th>\n",
              "      <td>2003480.59</td>\n",
              "      <td>NaN</td>\n",
              "    </tr>\n",
              "    <tr>\n",
              "      <th>1896</th>\n",
              "      <td>1936621.09</td>\n",
              "      <td>NaN</td>\n",
              "    </tr>\n",
              "    <tr>\n",
              "      <th>5012</th>\n",
              "      <td>404438.51</td>\n",
              "      <td>NaN</td>\n",
              "    </tr>\n",
              "    <tr>\n",
              "      <th>2133</th>\n",
              "      <td>590453.63</td>\n",
              "      <td>NaN</td>\n",
              "    </tr>\n",
              "    <tr>\n",
              "      <th>6159</th>\n",
              "      <td>280048.74</td>\n",
              "      <td>NaN</td>\n",
              "    </tr>\n",
              "    <tr>\n",
              "      <th>260</th>\n",
              "      <td>1923957.09</td>\n",
              "      <td>3.128573e+05</td>\n",
              "    </tr>\n",
              "    <tr>\n",
              "      <th>4624</th>\n",
              "      <td>243948.82</td>\n",
              "      <td>NaN</td>\n",
              "    </tr>\n",
              "    <tr>\n",
              "      <th>1184</th>\n",
              "      <td>520846.68</td>\n",
              "      <td>3.131974e+05</td>\n",
              "    </tr>\n",
              "    <tr>\n",
              "      <th>3117</th>\n",
              "      <td>939118.24</td>\n",
              "      <td>NaN</td>\n",
              "    </tr>\n",
              "    <tr>\n",
              "      <th>5806</th>\n",
              "      <td>1160619.61</td>\n",
              "      <td>NaN</td>\n",
              "    </tr>\n",
              "    <tr>\n",
              "      <th>2556</th>\n",
              "      <td>1097006.30</td>\n",
              "      <td>NaN</td>\n",
              "    </tr>\n",
              "    <tr>\n",
              "      <th>1224</th>\n",
              "      <td>540819.44</td>\n",
              "      <td>1.993931e+06</td>\n",
              "    </tr>\n",
              "    <tr>\n",
              "      <th>2632</th>\n",
              "      <td>1257972.37</td>\n",
              "      <td>NaN</td>\n",
              "    </tr>\n",
              "    <tr>\n",
              "      <th>5676</th>\n",
              "      <td>908853.15</td>\n",
              "      <td>NaN</td>\n",
              "    </tr>\n",
              "    <tr>\n",
              "      <th>5013</th>\n",
              "      <td>435972.82</td>\n",
              "      <td>NaN</td>\n",
              "    </tr>\n",
              "    <tr>\n",
              "      <th>6175</th>\n",
              "      <td>296804.49</td>\n",
              "      <td>NaN</td>\n",
              "    </tr>\n",
              "    <tr>\n",
              "      <th>5744</th>\n",
              "      <td>1192213.87</td>\n",
              "      <td>NaN</td>\n",
              "    </tr>\n",
              "    <tr>\n",
              "      <th>3528</th>\n",
              "      <td>916446.02</td>\n",
              "      <td>NaN</td>\n",
              "    </tr>\n",
              "    <tr>\n",
              "      <th>4874</th>\n",
              "      <td>1096930.65</td>\n",
              "      <td>NaN</td>\n",
              "    </tr>\n",
              "  </tbody>\n",
              "</table>\n",
              "</div>\n",
              "      <button class=\"colab-df-convert\" onclick=\"convertToInteractive('df-3006f753-b18a-4481-9548-e60d4c0d5d8c')\"\n",
              "              title=\"Convert this dataframe to an interactive table.\"\n",
              "              style=\"display:none;\">\n",
              "        \n",
              "  <svg xmlns=\"http://www.w3.org/2000/svg\" height=\"24px\"viewBox=\"0 0 24 24\"\n",
              "       width=\"24px\">\n",
              "    <path d=\"M0 0h24v24H0V0z\" fill=\"none\"/>\n",
              "    <path d=\"M18.56 5.44l.94 2.06.94-2.06 2.06-.94-2.06-.94-.94-2.06-.94 2.06-2.06.94zm-11 1L8.5 8.5l.94-2.06 2.06-.94-2.06-.94L8.5 2.5l-.94 2.06-2.06.94zm10 10l.94 2.06.94-2.06 2.06-.94-2.06-.94-.94-2.06-.94 2.06-2.06.94z\"/><path d=\"M17.41 7.96l-1.37-1.37c-.4-.4-.92-.59-1.43-.59-.52 0-1.04.2-1.43.59L10.3 9.45l-7.72 7.72c-.78.78-.78 2.05 0 2.83L4 21.41c.39.39.9.59 1.41.59.51 0 1.02-.2 1.41-.59l7.78-7.78 2.81-2.81c.8-.78.8-2.07 0-2.86zM5.41 20L4 18.59l7.72-7.72 1.47 1.35L5.41 20z\"/>\n",
              "  </svg>\n",
              "      </button>\n",
              "      \n",
              "  <style>\n",
              "    .colab-df-container {\n",
              "      display:flex;\n",
              "      flex-wrap:wrap;\n",
              "      gap: 12px;\n",
              "    }\n",
              "\n",
              "    .colab-df-convert {\n",
              "      background-color: #E8F0FE;\n",
              "      border: none;\n",
              "      border-radius: 50%;\n",
              "      cursor: pointer;\n",
              "      display: none;\n",
              "      fill: #1967D2;\n",
              "      height: 32px;\n",
              "      padding: 0 0 0 0;\n",
              "      width: 32px;\n",
              "    }\n",
              "\n",
              "    .colab-df-convert:hover {\n",
              "      background-color: #E2EBFA;\n",
              "      box-shadow: 0px 1px 2px rgba(60, 64, 67, 0.3), 0px 1px 3px 1px rgba(60, 64, 67, 0.15);\n",
              "      fill: #174EA6;\n",
              "    }\n",
              "\n",
              "    [theme=dark] .colab-df-convert {\n",
              "      background-color: #3B4455;\n",
              "      fill: #D2E3FC;\n",
              "    }\n",
              "\n",
              "    [theme=dark] .colab-df-convert:hover {\n",
              "      background-color: #434B5C;\n",
              "      box-shadow: 0px 1px 3px 1px rgba(0, 0, 0, 0.15);\n",
              "      filter: drop-shadow(0px 1px 2px rgba(0, 0, 0, 0.3));\n",
              "      fill: #FFFFFF;\n",
              "    }\n",
              "  </style>\n",
              "\n",
              "      <script>\n",
              "        const buttonEl =\n",
              "          document.querySelector('#df-3006f753-b18a-4481-9548-e60d4c0d5d8c button.colab-df-convert');\n",
              "        buttonEl.style.display =\n",
              "          google.colab.kernel.accessAllowed ? 'block' : 'none';\n",
              "\n",
              "        async function convertToInteractive(key) {\n",
              "          const element = document.querySelector('#df-3006f753-b18a-4481-9548-e60d4c0d5d8c');\n",
              "          const dataTable =\n",
              "            await google.colab.kernel.invokeFunction('convertToInteractive',\n",
              "                                                     [key], {});\n",
              "          if (!dataTable) return;\n",
              "\n",
              "          const docLinkHtml = 'Like what you see? Visit the ' +\n",
              "            '<a target=\"_blank\" href=https://colab.research.google.com/notebooks/data_table.ipynb>data table notebook</a>'\n",
              "            + ' to learn more about interactive tables.';\n",
              "          element.innerHTML = '';\n",
              "          dataTable['output_type'] = 'display_data';\n",
              "          await google.colab.output.renderOutput(dataTable, element);\n",
              "          const docLink = document.createElement('div');\n",
              "          docLink.innerHTML = docLinkHtml;\n",
              "          element.appendChild(docLink);\n",
              "        }\n",
              "      </script>\n",
              "    </div>\n",
              "  </div>\n",
              "  "
            ]
          },
          "metadata": {},
          "execution_count": 288
        }
      ]
    },
    {
      "cell_type": "code",
      "source": [
        "fig = px.scatter(compare, x=\"Weekly_Sales\", y=\"pred\",color=\"Weekly_Sales\",trendline=\"ols\") #color='pred'\n",
        "fig.show()"
      ],
      "metadata": {
        "id": "fa_1Rd4vKoVJ",
        "outputId": "cfec4ad9-5d6f-4a78-90dd-a0f3d721ca6d",
        "colab": {
          "base_uri": "https://localhost:8080/",
          "height": 542
        }
      },
      "execution_count": 270,
      "outputs": [
        {
          "output_type": "display_data",
          "data": {
            "text/html": [
              "<html>\n",
              "<head><meta charset=\"utf-8\" /></head>\n",
              "<body>\n",
              "    <div>            <script src=\"https://cdnjs.cloudflare.com/ajax/libs/mathjax/2.7.5/MathJax.js?config=TeX-AMS-MML_SVG\"></script><script type=\"text/javascript\">if (window.MathJax && window.MathJax.Hub && window.MathJax.Hub.Config) {window.MathJax.Hub.Config({SVG: {font: \"STIX-Web\"}});}</script>                <script type=\"text/javascript\">window.PlotlyConfig = {MathJaxConfig: 'local'};</script>\n",
              "        <script src=\"https://cdn.plot.ly/plotly-2.18.2.min.js\"></script>                <div id=\"65f458df-a1cf-4d43-a8f5-c6c0965fb127\" class=\"plotly-graph-div\" style=\"height:525px; width:100%;\"></div>            <script type=\"text/javascript\">                                    window.PLOTLYENV=window.PLOTLYENV || {};                                    if (document.getElementById(\"65f458df-a1cf-4d43-a8f5-c6c0965fb127\")) {                    Plotly.newPlot(                        \"65f458df-a1cf-4d43-a8f5-c6c0965fb127\",                        [{\"hovertemplate\":\"Weekly_Sales=%{marker.color}<br>pred=%{y}<extra></extra>\",\"legendgroup\":\"\",\"marker\":{\"color\":[1971057.44,2003480.59,1936621.09,404438.51,590453.63,280048.74,1923957.09,243948.82,520846.68,939118.24,1160619.61,1097006.3,540819.44,1257972.37,908853.15,435972.82,296804.49,1192213.87,916446.02,1096930.65,1621031.7,559606.91,1316385.43,639160.24,480353.64,410804.39,2086433.49,1178039.0,638280.67,504856.97,1769854.16,791637.53,289886.16,2587953.32,773367.71,1902557.66,1232376.49,1930690.37,1053247.1,1198670.19,1064617.62,2047949.98,2209835.43,991969.37,1557776.1,977683.06,1430192.37,2010216.49,2074721.74,756527.64,817653.25,836049.89,474389.75,2187765.28,642671.48,411775.8,1099714.93,1688955.49,969387.48,280681.2,922341.82,704344.21,1245624.27,554879.67,1788227.6,389813.02,1796949.59,943047.78,365248.94,505405.85,621099.95,295841.84,865137.6,1670785.97,1418697.05,1576654.67,850936.26,307913.58,385520.71,959339.51,1287288.59,1636339.65,2144245.39,641763.53,873347.55,565812.29,1315023.08,1315118.4,770652.79,1314626.75,1005003.12,606210.77,996937.95,2090340.98,1500863.54,287033.64,1331453.41,916289.2,811328.4,1096232.89,471281.68,2238573.48,402579.84,341381.08,771298.98,551221.21,262407.57,643854.17,618877.13,1327424.28,1616394.45,1102857.37,2191767.76,904503.85,598495.02,1123282.85,318674.93,1231752.54,1411835.57,1261693.16,498580.87,1215676.31,930269.79,806979.15,2129771.13,1413302.7,838751.5,505907.41,1048101.39,658468.27,468428.3,575676.13,1311986.87,1488538.09,443891.64,1075656.34,312220.47,1308179.02,270677.98,2113432.58,871404.6,1118163.94,1010711.08,1061943.49,930745.69,1428218.27,496010.17,1033017.37,1465187.71,1338716.37,903119.03,1475685.1,1394561.83,1814240.85,278253.28,272803.94,1840686.94,1671857.57,446751.45,1328468.89,2316495.56,1714667.0,475776.45,401615.8,2035244.54,900387.29,648652.01,949825.83,1605491.78,1063960.11,428784.7,874615.32,992621.93,1002364.34,1382359.21,2269975.85,1682316.31,1107170.39,529707.87,903366.55,2141210.62,786459.23,1470792.41,547586.07,2111592.09,297384.81,491290.37,628494.63,251732.92,753711.32,1318905.53,557543.62,292315.38,634637.03,490970.95,1196880.11,1124357.2,2771397.17,1987089.36,1711813.13,1277150.6,1845893.87,922898.38,294732.5,776838.56,1049625.9,1501095.49,458086.69,977628.78,607218.6,342023.92,364866.24,1549113.18,1453185.65,292498.61,1970170.29,688958.75,564538.07,316203.64,1369971.57,924174.4,471115.38,744836.56,711461.95,1344723.97,809272.65,389427.9,900309.75,607294.56,475615.26,540922.94,1750197.81,630522.67,463977.54,391860.04,1388118.53,1316899.31,880576.33,366367.55,1458059.42,1640476.77,799369.15,1429143.06,721212.45,1853657.6,482451.21,1323487.91,1802477.43,1871021.01,951588.37,759407.87,310531.04,913548.25,347726.67,1539230.32,677231.63,230519.49,291530.43,366250.69,1564502.26,1653759.36,1231688.48,1401113.42,508520.09,1289156.9,2138651.97,1266229.07,460945.14,1386789.31,1829415.67,1375458.21,1212938.67,1764756.31,1088943.98,505068.22,917883.17,423805.22,459631.74,301827.36,793589.18,1911470.84,317872.51,499081.79,1816489.53,899479.43,341400.72,493503.89,1377485.12,416881.66,850708.6,614940.07,597855.07,431798.64,605960.2,676615.53,795301.17,544612.28,1981607.78,1143819.35,224806.96,275749.56,1322117.96,353652.23,1395710.09,693780.42,333870.52,1434709.63,375988.69,685243.2,1289151.84,1914430.53,2179360.94,1916812.74,1727175.61,291024.98,1168582.02,563449.43,273690.37,479424.2,1740063.1,453308.15,2054843.28,674829.58,1190515.83,1338572.29,332901.94,1829521.83,586781.78,409686.63,603618.89,1245628.61,1817887.23,892056.64,592355.24,1532893.22,277417.53,980642.1,1158722.74,253731.13,1800171.36,338277.71,301615.49,1465283.29,343048.29,1107432.71,516087.65,600448.69,1345631.96,255996.47,1323243.35,276157.8,1542131.05,1187988.64,794397.89,1933756.21,1864637.89,1126685.95,680510.23,1257928.35,871945.64,2049485.49,478021.68,963516.28,419990.29,376225.61,874453.88,634634.66,1955624.11,879448.25,1000342.87,1450733.29,2027056.39,1033552.18,292539.73,1565498.84,935266.43,1548661.45,1973544.27,591335.5,1990932.77,1611196.61,1378340.18,816138.33,987435.35,1421307.2,286515.92,653845.45,1573982.47,1358444.07,1295391.19,1344167.13,2049860.26,506274.94,1004730.69,587685.38,394645.25,1048212.62,1211136.63,517408.48,1133807.03,1061134.37,870415.49,1686010.02,593128.13,491449.94,2141765.98,716388.81,1820723.17,294659.5,1156377.47,276279.49,1170103.25,2387950.2,1431426.34,325262.46,696421.72,716341.39,303447.57,860255.58,272834.88,244856.44,515777.97,328336.85,882180.91,1515890.38,929976.55,286497.49,820288.35,1259877.19,1069061.63,342076.99,542556.05,938334.62,512260.59,825763.48,597406.39,545109.3,1335433.72,979730.78,1371405.33,1741308.56,1330757.22,466322.76,435300.51,436970.1,2074953.46,984336.04,1046816.59,631181.25,1120619.32,1150204.71,1522512.2,298080.45,1425100.71,1959967.8,1545418.53,472591.07,541406.98,530492.84,794698.77,986612.02,1344243.17,469868.7,542399.07,981210.57,1930617.64,293031.78,1175003.67,2075577.33,730254.19,1371986.6,418925.47,312361.88,558027.77,249246.8,1897429.36,1244381.98,494069.49,837548.62,1384243.75,1101458.21,2005341.43,976415.56,586936.45,714093.95,961993.34,1365098.46,408891.49,1514259.78,272487.33,1111215.72,2066541.86,575997.78,932240.96,507168.8,442457.35,686365.4,979977.89,1193199.39,1765571.91,498159.39,911210.81,1282378.71,475201.64,718056.73,432687.97,1522042.57,1867403.01,1704785.74,1396150.15,273079.07,780444.94,836419.14,433565.77,1304584.4,1451782.16,1439034.86,419764.37,912542.82,942475.24,535537.03,583835.18,819196.68,1541102.38,1179788.38,422093.59,2202450.81,1187051.07,443334.71,802105.5,2125104.72,1433391.04,1827521.71,1084243.91,382098.13,1360969.45,411116.95,1121476.51,605990.41,1968462.58,1205307.5,780607.52,1214183.97,1494497.39,348591.74,300236.85,1376732.18,769319.04,304989.97,527041.46,542663.53,1564246.02,248561.86,975479.83,765648.93,1264575.18,1470520.83,551799.63,507900.07,1394841.03,2082083.34,321299.99,890661.79,1344558.92,1273670.32,2134680.12,415870.28,1226997.7,519787.93,380683.67,285031.81,467827.75,1418027.08,2094515.71,712425.76,521959.28,1001558.74,279427.93,919878.34,549502.11,641965.2,2727575.18,1187776.19,896295.41,1270816.01,339976.65,926934.57,1405065.57,1927610.06,827738.06,1879451.23,1430851.11,1359770.73,642963.75,474653.06,1591816.88,1984768.34,643711.53,529852.7,1814740.09,1307339.14,420789.74,1045124.88,1491300.42,1903385.14,1761506.68,1660228.88,1297237.7,513107.2,1956739.17,802583.89,522105.93,522554.04,1498080.16,535764.58,1540687.63,866401.45,1092616.49,778436.81,1811455.15,1376520.1,1632894.58,948660.79,659446.55,1545370.16,1745841.33,1163803.3,716859.27,1456957.38,1332759.13,904261.65,312161.0,1099351.68,2009163.08,1974960.86,1043962.36,890689.51,768718.11,750182.71,463513.26,241937.11,424513.08,620885.93,1759777.25,1845879.79,987990.24,957356.84,1338862.58,1071598.36,507297.88,588448.21,1808056.41,1366053.69,1723736.91,778672.64,770157.29,519255.68,603024.75,1149234.96,516556.94,2097809.4,1535857.49,2060588.69,877996.27,671708.09,843864.43,359867.8,282647.48,1319054.57,1068157.45,249134.32,1438383.44,931278.97,1896937.1,1711562.73,438523.24,733455.07,238172.66,481119.6,1613718.38,1037861.11,517869.97,911538.98,2130287.27,1181815.31,2248645.59,306336.07,1534594.0,321110.22,2313861.81,1001943.8,625196.94,870349.86,498925.86,485095.41,639928.85,299757.75,1591835.02,981567.22,715311.6,1158247.31,911106.22,474129.35,333025.47,444756.37,315645.53,428631.91,958667.23,404751.25,1230591.97,1270577.01,1876704.26,2243946.59,2119163.01,510494.7,1962625.01,817741.17,1009502.01,431294.45,1817934.76,659109.53,1507708.93,325345.41,1365678.22,1639358.93,918049.28,1932162.63,550791.32,1582083.4,466806.89,1229257.7,1091822.72,588592.61,531640.19,519585.67,2196968.33,1380522.64,368282.57,882917.12,522673.62,985152.94,1873812.93,2097266.85,514709.76,360266.09,1015196.46,851762.28,512157.25,1220984.94,1442873.22,570069.48,851461.9,1409705.03,872817.62,1401232.52,407012.47,428851.99,3487986.89,1317672.92,635650.98,416913.1,1384339.1,672062.08,1115504.26,1082559.06,1875708.88,970328.68,1805999.79,1379651.87,1200815.3,994610.43,922231.92,558671.14,306533.08,1513635.64,1142499.25,327383.64,638144.98,767338.32,339597.38,1409989.67,1537139.56,485764.32,922048.41,1245576.65,2470206.13,1335647.1,1867345.09,252734.31,1043240.27,582552.26,1396926.82,1677556.18,1469593.37,1493525.93,1267619.06,541071.29,295974.22,1524059.4,613531.11,1808250.71,1555444.55,812190.76,549528.16,1894742.95,2035189.66,514651.74,893995.44,1625883.71,734858.91,561137.06,316687.22,2950198.64,1847430.96,651521.77,981978.02,1402654.95,460331.7,1080357.89,1708283.28,831425.2,470281.03,1799070.98,358461.58,1061196.47,536871.58,952609.17,755098.41,275313.34,728525.6,765687.42,1645097.75,817485.14,437320.66,1937033.5,286082.76,1986445.65,572887.78,1727565.42,628720.46,1227535.97,643125.29,2363601.47,1292830.93,881190.46,1210602.91,432451.91,1385362.49,1453047.02,238433.53,422715.74,1369634.92,1025766.27,805642.61,505069.21,1568048.54,2013115.79,314014.18,813756.09,514993.0,527495.09,696314.53,471086.22,323798.0,509647.25,2057637.86,1274463.02,694150.89,355307.94,559061.58,1772192.42,563460.77,508432.17,1973135.87,1357036.1,1321741.35,1484708.38,971557.62,958619.8,633520.34,581473.55,960312.75,500552.16,996628.8,465993.51,1425299.37,1620839.34,653525.84,313270.45,663452.46,1580732.73,1179036.3,921247.88,1350673.98,1187880.7,1053881.78,1758587.35,1242909.53,421642.19,771315.62,1417875.42,1115240.61,303974.28,1060906.75,1305950.22,857939.41,336253.19,1116439.02,519498.32,642450.4,971932.87,714014.73,1584083.95,1886339.6,1312905.8,1392093.04,1100046.37,1480289.64,1338299.02,348593.99,972405.38,2044148.23,2114989.0,407589.16,969046.69,855130.21,500945.63,1543461.12,581010.52,1390122.11,535769.32,2059458.25,616324.24,1124537.97,810150.64,1587257.78,534738.43,1246322.44,436741.02,493653.43,312698.67,1009797.06,1276031.84,2168097.11,954220.22,972716.24,1311965.09,391638.75,667151.46,1240126.07,1819666.46,1955689.12,1201694.14,2811634.04,1979247.12,766456.0,380188.69,771065.21,242047.03,567673.87,2143424.61,446905.02,1161190.29,526434.37,414245.96,284740.5,1881788.19,953252.14,736335.69,791495.25,530318.39,905984.49,697317.41,1348995.17,1246062.17,873337.84,452021.2,917693.06,2051315.66,327093.89,1920725.15,336227.69,1230514.58,685700.08,641368.14,337985.74,976393.43,1341240.62,2306265.36,821498.18,1858856.06,739866.16,1969360.72,425296.65,1133657.58,928537.54,436221.26,310338.17,1809989.29,293953.08,522715.68,612987.64,507335.75,563578.79,2025582.62,1417616.81,1954849.68,1159438.53,623097.93,1344580.92,570879.04,1203119.96,783371.02,1048866.3,505329.66,348655.2,990263.7,1564897.32,1158698.44,848289.41,977062.44,1297028.6,1511717.53,744969.42,587259.82,1090915.09,1439901.05,871692.74,1720221.91,505196.08,608737.56,873119.06,1597002.71,917883.79,1273295.46,586583.69,1781905.24,1694862.41,778178.53,655157.32,2020332.07,1279666.47,345381.29,649945.54,804362.36,506743.78,932679.79,724499.81,1060446.16,404283.84,1764847.94,2734277.1,991127.01,1203080.41,1624170.99,941550.34,695396.19,506973.17,927084.65,682124.34,897032.19,648541.81,319550.77,2041069.37,1151258.74,841889.08,1761235.67,1881046.12,825283.43,1161900.18,329183.92,1270036.53,1214944.29,1144254.26,1514288.82,438760.62,1649614.93,325201.05,664348.2,1483574.38,359206.21,572447.52,1128237.3,1230011.95,428554.63,1375307.54,600952.06,1871924.07,537035.28,1160043.98,270110.3,2103455.75,243477.03,1824711.21,536537.64,571463.93,2015781.27,800714.0,290909.69,492262.96,955211.7,836915.92,1758971.38,533414.62,299614.33,613042.97,691200.33,1517075.67,488417.61,406228.19,1927780.74,1255087.26,267495.76,1208825.6,855922.64,2405395.22,577511.02,307291.56,1623442.24,1189887.86,423707.69,1794868.74,893399.77,1757041.96,642678.53,465279.68,895535.31,693785.85,537138.58,1165870.54,1314994.32,1259278.36,1876788.15,613899.15,1356938.95,427175.03,1468350.36,1235121.33,763961.82,1547729.24,1919053.21,1781805.66,599629.25,562173.12,484829.07,1886503.93,614378.94,402635.76,1519846.36,641905.37,1441473.82,761956.58,670993.01,413907.25,848358.09,411866.46,608200.81,2133026.07,1060868.49,1476144.34,1025813.8,637964.2,555925.6,412449.67,281313.78,815130.5,1731935.43,1261306.37,1336838.41,434879.87,1363365.05,555279.02,453210.24,1660433.3,472511.32,753860.89,2416051.17,1755889.53,1601348.82,1899013.34,898289.14,1710923.94,549788.36,712869.09,844928.17,2685351.81,312467.52,1369317.63,953693.23,323233.8,1508933.26,822167.17,367181.71,558239.32,373655.61,325041.68,326316.73,305993.27,374556.08,365730.76,525132.36,1401944.8,1852179.15,1611096.05,764014.75,914835.86,2290549.32,945018.83,1466046.07,445134.15,1946104.64,491755.69,967187.37,918295.79,944698.7,583364.02,1479249.9,2554482.84,501268.78,1540421.49,1699708.38,1095932.51,888368.8,769522.33,1936878.46,1307182.29,1192982.07,307409.13,1494122.38,527389.28,2102530.17,480239.88,1273279.79,576332.05,534372.53,1350646.16,467546.74,1491039.14,1400160.95,672831.78,2036231.39,1107366.06,1792210.89,2014954.79,1365824.97,1800728.07,1450766.12,668098.49,338273.38,973004.91,513372.17,2037663.71,397631.02,596554.05,485694.72,2030869.61,1328740.71,325310.3,1014218.8,844443.35,1283885.55,509640.77,943891.64,507403.77,443889.5,1049357.36,752034.52,2107285.85,1939458.84,1323999.36,1648829.18,668132.36,237129.81,2139733.68,542529.21,922440.64,2193048.75,279088.39,447139.8,972292.31,298947.51,784490.67,287346.29,598553.43,1205884.98,628115.61,1177539.71,712647.97,380870.09,1553250.16,2427640.17,819911.89,1006597.69,758069.78,491510.58,2043245.0,462080.47,1900246.47,1769793.37,1428436.33,422810.12,1557888.16,1536176.54,598502.83,1245772.7,988764.84,551969.1,426959.62,404634.36,1067432.1,391837.56,2302504.86,1176588.25,525559.17,1003202.66,777951.22,696687.6,2037798.88,612337.35,491998.12,548542.47,1399456.99,653043.44,334441.15,1720530.23,942868.38,453016.91,656988.64,357557.16,839911.0,1197489.66,1553629.59,447727.52,2219813.5,312577.36,1360517.52,2256461.39,1407191.96,1065427.37,395195.65,437084.51,542009.46,2052984.81,948977.5,261851.74,336479.49,1874226.52,1527845.81,800819.79,725043.04,1285897.24,1406124.14,1005983.31,474698.01,1310087.0,499267.66,1059781.78,843361.1,1522978.54,455952.18,1316849.36,1950676.39,1408082.96,1295605.35,1201059.72,603318.89,792442.54,763867.59,1187384.53,394976.36,2203523.2,894493.7,898610.33,543754.17,1763545.32,550076.32,328633.34,1670579.82,1179315.72,565297.54,713834.74,660632.05,321205.12,267956.3,592369.22,340497.08,1617025.41,453943.89,484263.25,1427023.45,723559.88,438640.61,473773.27,382914.66,876583.98,608294.98,610641.42,1442988.44,307126.34,479855.0,1887733.21,709724.6,782796.01,1339972.83,1929738.27,1286833.62,611464.21,2762816.65,1650285.54,330927.21,837390.79,978027.95,1831933.95,1179420.5,1962924.3,1051518.45,415202.04,767256.53,573084.71,285100.0,442894.2,1713769.06,857883.46,948964.99,549731.49,813954.82,723708.99,1311950.16,789036.02,1189646.45,1000285.1,899044.34,545251.1,514756.08,398445.15,1495844.57,1939061.41,1083521.24,1894960.68,552338.76,284988.27,2249570.04,942970.63,1045722.37,1858440.92,1720908.01,2124316.34,872450.37,484946.56,309129.01,1543365.9,2188307.39,1508239.93,517546.69,1161615.51,461548.98,1087644.5,974866.65,2083379.89,1343637.0,2093139.01,1904608.09,936751.68,1343773.94,300152.45,690851.59,368600.0,655318.26,751167.12,1687592.16,1057295.87,434593.26,1639585.61,711571.88,293984.54,590739.62,1496305.78,783614.89,2180999.26,1414713.5,422186.65,454412.28,1019555.51,442734.55,729759.97,1434908.13,1481739.2,797523.04,1539063.91,1357672.24,936508.43,535983.13,1026439.93,786561.61,423441.76,1385323.7,366819.84,746129.56,1821364.42,578209.63,1478321.26,889670.29,1705810.84,916967.92,912403.67,633203.69,677971.33,2789469.45,1032076.06,397771.68,765823.48,604173.59,246970.97,920719.98,1347175.93,929222.16,493506.47,1346783.35,513672.36,542464.02,1356689.88,1712995.44,1588142.26,2263722.68,1608435.45,1280958.97,320691.21,1471816.52,459443.22,1884343.67,1272395.02,744389.81,515119.64,494145.8,525616.9,586467.16,440491.33,900646.94,2151659.59,1368090.08,1268766.76,1550385.65,578539.86,506502.09,234793.12,935481.32,332811.55,1890273.44,412050.73,972373.81,1846651.95,342214.9,554972.42,916918.7,304144.9,274742.63,1221723.94,301893.63,1837636.24,1895583.12,1815760.42,513073.87,1627904.68,1100418.69,1234759.54,1094422.69,1179125.48,1630564.48,1724669.75,910899.05,2055952.61,1352219.79,1194449.78,489372.02,914500.91,1354188.43,1412721.18,737014.09,958063.87,592947.75,607961.21,1314557.31,1298775.8,1891816.0,666942.02,1352547.7,702238.27,809833.21,593462.34,1410181.7,351541.62,372239.89,522784.33,572387.47,409411.61,446336.8,625196.14,2066187.72,618767.26,2144336.89,307646.5,834663.52,1385860.38,2071022.45,501780.66,1682652.51,562633.67,1577541.24,1953539.85,null,null,null,null,null,null,null,null,null,null,null,null,null,null,null,null,null,null,null,null,null,null,null,null,null,null,null,null,null,null,null,null,null,null,null,null,null,null,null,null,null,null,null,null,null,null,null,null,null,null,null,null,null,null,null,null,null,null,null,null,null,null,null,null,null,null,null,null,null,null,null,null,null,null,null,null,null,null,null,null,null,null,null,null,null,null,null,null,null,null,null,null,null,null,null,null,null,null,null,null,null,null,null,null,null,null,null,null,null,null,null,null,null,null,null,null,null,null,null,null,null,null,null,null,null,null,null,null,null,null,null,null,null,null,null,null,null,null,null,null,null,null,null,null,null,null,null,null,null,null,null,null,null,null,null,null,null,null,null,null,null,null,null,null,null,null,null,null,null,null,null,null,null,null,null,null,null,null,null,null,null,null,null,null,null,null,null,null,null,null,null,null,null,null,null,null,null,null,null,null,null,null,null,null,null,null,null,null,null,null,null,null,null,null,null,null,null,null,null,null,null,null,null,null,null,null,null,null,null,null,null,null,null,null,null,null,null,null,null,null,null,null,null,null,null,null,null,null,null,null,null,null,null,null,null,null,null,null,null,null,null,null,null,null,null,null,null,null,null,null,null,null,null,null,null,null,null,null,null,null,null,null,null,null,null,null,null,null,null,null,null,null,null,null,null,null,null,null,null,null,null,null,null,null,null,null,null,null,null,null,null,null,null,null,null,null,null,null,null,null,null,null,null,null,null,null,null,null,null,null,null,null,null,null,null,null,null,null,null,null,null,null,null,null,null,null,null,null,null,null,null,null,null,null,null,null,null,null,null,null,null,null,null,null,null,null,null,null,null,null,null,null,null,null,null,null,null,null,null,null,null,null,null,null,null,null,null,null,null,null,null,null,null,null,null,null,null,null,null,null,null,null,null,null,null,null,null,null,null,null,null,null,null,null,null,null,null,null,null,null,null,null,null,null,null,null,null,null,null,null,null,null,null,null,null,null,null,null,null,null,null,null,null,null,null,null,null,null,null,null,null,null,null,null,null,null,null,null,null,null,null,null,null,null,null,null,null,null,null,null,null,null,null,null,null,null,null,null,null,null,null,null,null,null,null,null,null,null,null,null,null,null,null,null,null,null,null,null,null,null,null,null,null,null,null,null,null,null,null,null,null,null,null,null,null,null,null,null,null,null,null,null,null,null,null,null,null,null,null,null,null,null,null,null,null,null,null,null,null,null,null,null,null,null,null,null,null,null,null,null,null,null,null,null,null,null,null,null,null,null,null,null,null,null,null,null,null,null,null,null,null,null,null,null,null,null,null,null,null,null,null,null,null,null,null,null,null,null,null,null,null,null,null,null,null,null,null,null,null,null,null,null,null,null,null,null,null,null,null,null,null,null,null,null,null,null,null,null,null,null,null,null,null,null,null,null,null,null,null,null,null,null,null,null,null,null,null,null,null,null,null,null,null,null,null,null,null,null,null,null,null,null,null,null,null,null,null,null,null,null,null,null,null,null,null,null,null,null,null,null,null,null,null,null,null,null,null,null,null,null,null,null,null,null,null,null,null,null,null,null,null,null,null,null,null,null,null,null,null,null,null,null,null,null,null,null,null,null,null,null,null,null,null,null,null,null,null,null,null,null,null,null,null,null,null,null,null,null,null,null,null,null,null,null,null,null,null,null,null,null,null,null,null,null,null,null,null,null,null,null,null,null,null,null,null,null,null,null,null,null,null,null,null,null,null,null,null,null,null,null,null,null,null,null,null,null,null,null,null,null,null,null,null,null,null,null,null,null,null,null,null,null,null,null,null,null,null,null,null,null,null,null,null,null,null,null,null,null,null,null,null,null,null,null,null,null,null,null,null,null,null,null,null,null,null,null,null,null,null,null,null,null,null,null,null,null,null,null,null,null,null,null,null,null,null,null,null,null,null,null,null,null,null,null,null,null,null,null,null,null,null,null,null,null,null,null,null,null,null,null,null,null,null,null,null,null,null,null,null,null,null,null,null,null,null,null,null,null,null,null,null,null,null,null,null,null,null,null,null,null,null,null,null,null,null,null,null,null,null,null,null,null,null,null,null,null,null,null,null,null,null,null,null,null,null,null,null,null,null,null,null,null,null,null,null,null,null,null,null,null,null,null,null,null,null,null,null,null,null,null,null,null,null,null,null,null,null,null,null,null,null,null,null,null,null,null,null,null,null,null,null,null,null,null,null,null,null,null,null,null,null,null,null,null,null,null,null,null,null,null,null,null,null,null,null,null,null,null,null,null,null,null,null,null,null,null,null,null,null,null,null,null,null,null,null,null,null,null,null,null,null,null,null,null,null,null,null,null,null,null,null,null,null,null,null,null,null,null,null,null,null,null,null,null,null,null,null,null,null,null,null,null,null,null,null,null,null,null,null,null,null,null,null,null,null,null,null,null,null,null,null,null,null,null,null,null,null,null,null,null,null,null,null,null,null,null,null,null,null,null,null,null,null,null,null,null,null,null,null,null,null,null,null,null,null,null,null,null,null,null,null,null,null,null,null,null,null,null,null,null,null,null,null,null,null,null,null,null,null,null,null,null,null,null,null,null,null,null,null,null,null,null,null,null,null,null,null,null,null,null,null,null,null,null,null,null,null,null,null,null,null,null,null,null,null,null,null,null,null,null,null,null,null,null,null,null,null,null,null,null,null,null,null,null,null,null,null,null,null,null,null,null,null,null,null,null,null,null,null,null,null,null,null],\"coloraxis\":\"coloraxis\",\"symbol\":\"circle\"},\"mode\":\"markers\",\"name\":\"\",\"showlegend\":false,\"x\":[1971057.44,2003480.59,1936621.09,404438.51,590453.63,280048.74,1923957.09,243948.82,520846.68,939118.24,1160619.61,1097006.3,540819.44,1257972.37,908853.15,435972.82,296804.49,1192213.87,916446.02,1096930.65,1621031.7,559606.91,1316385.43,639160.24,480353.64,410804.39,2086433.49,1178039.0,638280.67,504856.97,1769854.16,791637.53,289886.16,2587953.32,773367.71,1902557.66,1232376.49,1930690.37,1053247.1,1198670.19,1064617.62,2047949.98,2209835.43,991969.37,1557776.1,977683.06,1430192.37,2010216.49,2074721.74,756527.64,817653.25,836049.89,474389.75,2187765.28,642671.48,411775.8,1099714.93,1688955.49,969387.48,280681.2,922341.82,704344.21,1245624.27,554879.67,1788227.6,389813.02,1796949.59,943047.78,365248.94,505405.85,621099.95,295841.84,865137.6,1670785.97,1418697.05,1576654.67,850936.26,307913.58,385520.71,959339.51,1287288.59,1636339.65,2144245.39,641763.53,873347.55,565812.29,1315023.08,1315118.4,770652.79,1314626.75,1005003.12,606210.77,996937.95,2090340.98,1500863.54,287033.64,1331453.41,916289.2,811328.4,1096232.89,471281.68,2238573.48,402579.84,341381.08,771298.98,551221.21,262407.57,643854.17,618877.13,1327424.28,1616394.45,1102857.37,2191767.76,904503.85,598495.02,1123282.85,318674.93,1231752.54,1411835.57,1261693.16,498580.87,1215676.31,930269.79,806979.15,2129771.13,1413302.7,838751.5,505907.41,1048101.39,658468.27,468428.3,575676.13,1311986.87,1488538.09,443891.64,1075656.34,312220.47,1308179.02,270677.98,2113432.58,871404.6,1118163.94,1010711.08,1061943.49,930745.69,1428218.27,496010.17,1033017.37,1465187.71,1338716.37,903119.03,1475685.1,1394561.83,1814240.85,278253.28,272803.94,1840686.94,1671857.57,446751.45,1328468.89,2316495.56,1714667.0,475776.45,401615.8,2035244.54,900387.29,648652.01,949825.83,1605491.78,1063960.11,428784.7,874615.32,992621.93,1002364.34,1382359.21,2269975.85,1682316.31,1107170.39,529707.87,903366.55,2141210.62,786459.23,1470792.41,547586.07,2111592.09,297384.81,491290.37,628494.63,251732.92,753711.32,1318905.53,557543.62,292315.38,634637.03,490970.95,1196880.11,1124357.2,2771397.17,1987089.36,1711813.13,1277150.6,1845893.87,922898.38,294732.5,776838.56,1049625.9,1501095.49,458086.69,977628.78,607218.6,342023.92,364866.24,1549113.18,1453185.65,292498.61,1970170.29,688958.75,564538.07,316203.64,1369971.57,924174.4,471115.38,744836.56,711461.95,1344723.97,809272.65,389427.9,900309.75,607294.56,475615.26,540922.94,1750197.81,630522.67,463977.54,391860.04,1388118.53,1316899.31,880576.33,366367.55,1458059.42,1640476.77,799369.15,1429143.06,721212.45,1853657.6,482451.21,1323487.91,1802477.43,1871021.01,951588.37,759407.87,310531.04,913548.25,347726.67,1539230.32,677231.63,230519.49,291530.43,366250.69,1564502.26,1653759.36,1231688.48,1401113.42,508520.09,1289156.9,2138651.97,1266229.07,460945.14,1386789.31,1829415.67,1375458.21,1212938.67,1764756.31,1088943.98,505068.22,917883.17,423805.22,459631.74,301827.36,793589.18,1911470.84,317872.51,499081.79,1816489.53,899479.43,341400.72,493503.89,1377485.12,416881.66,850708.6,614940.07,597855.07,431798.64,605960.2,676615.53,795301.17,544612.28,1981607.78,1143819.35,224806.96,275749.56,1322117.96,353652.23,1395710.09,693780.42,333870.52,1434709.63,375988.69,685243.2,1289151.84,1914430.53,2179360.94,1916812.74,1727175.61,291024.98,1168582.02,563449.43,273690.37,479424.2,1740063.1,453308.15,2054843.28,674829.58,1190515.83,1338572.29,332901.94,1829521.83,586781.78,409686.63,603618.89,1245628.61,1817887.23,892056.64,592355.24,1532893.22,277417.53,980642.1,1158722.74,253731.13,1800171.36,338277.71,301615.49,1465283.29,343048.29,1107432.71,516087.65,600448.69,1345631.96,255996.47,1323243.35,276157.8,1542131.05,1187988.64,794397.89,1933756.21,1864637.89,1126685.95,680510.23,1257928.35,871945.64,2049485.49,478021.68,963516.28,419990.29,376225.61,874453.88,634634.66,1955624.11,879448.25,1000342.87,1450733.29,2027056.39,1033552.18,292539.73,1565498.84,935266.43,1548661.45,1973544.27,591335.5,1990932.77,1611196.61,1378340.18,816138.33,987435.35,1421307.2,286515.92,653845.45,1573982.47,1358444.07,1295391.19,1344167.13,2049860.26,506274.94,1004730.69,587685.38,394645.25,1048212.62,1211136.63,517408.48,1133807.03,1061134.37,870415.49,1686010.02,593128.13,491449.94,2141765.98,716388.81,1820723.17,294659.5,1156377.47,276279.49,1170103.25,2387950.2,1431426.34,325262.46,696421.72,716341.39,303447.57,860255.58,272834.88,244856.44,515777.97,328336.85,882180.91,1515890.38,929976.55,286497.49,820288.35,1259877.19,1069061.63,342076.99,542556.05,938334.62,512260.59,825763.48,597406.39,545109.3,1335433.72,979730.78,1371405.33,1741308.56,1330757.22,466322.76,435300.51,436970.1,2074953.46,984336.04,1046816.59,631181.25,1120619.32,1150204.71,1522512.2,298080.45,1425100.71,1959967.8,1545418.53,472591.07,541406.98,530492.84,794698.77,986612.02,1344243.17,469868.7,542399.07,981210.57,1930617.64,293031.78,1175003.67,2075577.33,730254.19,1371986.6,418925.47,312361.88,558027.77,249246.8,1897429.36,1244381.98,494069.49,837548.62,1384243.75,1101458.21,2005341.43,976415.56,586936.45,714093.95,961993.34,1365098.46,408891.49,1514259.78,272487.33,1111215.72,2066541.86,575997.78,932240.96,507168.8,442457.35,686365.4,979977.89,1193199.39,1765571.91,498159.39,911210.81,1282378.71,475201.64,718056.73,432687.97,1522042.57,1867403.01,1704785.74,1396150.15,273079.07,780444.94,836419.14,433565.77,1304584.4,1451782.16,1439034.86,419764.37,912542.82,942475.24,535537.03,583835.18,819196.68,1541102.38,1179788.38,422093.59,2202450.81,1187051.07,443334.71,802105.5,2125104.72,1433391.04,1827521.71,1084243.91,382098.13,1360969.45,411116.95,1121476.51,605990.41,1968462.58,1205307.5,780607.52,1214183.97,1494497.39,348591.74,300236.85,1376732.18,769319.04,304989.97,527041.46,542663.53,1564246.02,248561.86,975479.83,765648.93,1264575.18,1470520.83,551799.63,507900.07,1394841.03,2082083.34,321299.99,890661.79,1344558.92,1273670.32,2134680.12,415870.28,1226997.7,519787.93,380683.67,285031.81,467827.75,1418027.08,2094515.71,712425.76,521959.28,1001558.74,279427.93,919878.34,549502.11,641965.2,2727575.18,1187776.19,896295.41,1270816.01,339976.65,926934.57,1405065.57,1927610.06,827738.06,1879451.23,1430851.11,1359770.73,642963.75,474653.06,1591816.88,1984768.34,643711.53,529852.7,1814740.09,1307339.14,420789.74,1045124.88,1491300.42,1903385.14,1761506.68,1660228.88,1297237.7,513107.2,1956739.17,802583.89,522105.93,522554.04,1498080.16,535764.58,1540687.63,866401.45,1092616.49,778436.81,1811455.15,1376520.1,1632894.58,948660.79,659446.55,1545370.16,1745841.33,1163803.3,716859.27,1456957.38,1332759.13,904261.65,312161.0,1099351.68,2009163.08,1974960.86,1043962.36,890689.51,768718.11,750182.71,463513.26,241937.11,424513.08,620885.93,1759777.25,1845879.79,987990.24,957356.84,1338862.58,1071598.36,507297.88,588448.21,1808056.41,1366053.69,1723736.91,778672.64,770157.29,519255.68,603024.75,1149234.96,516556.94,2097809.4,1535857.49,2060588.69,877996.27,671708.09,843864.43,359867.8,282647.48,1319054.57,1068157.45,249134.32,1438383.44,931278.97,1896937.1,1711562.73,438523.24,733455.07,238172.66,481119.6,1613718.38,1037861.11,517869.97,911538.98,2130287.27,1181815.31,2248645.59,306336.07,1534594.0,321110.22,2313861.81,1001943.8,625196.94,870349.86,498925.86,485095.41,639928.85,299757.75,1591835.02,981567.22,715311.6,1158247.31,911106.22,474129.35,333025.47,444756.37,315645.53,428631.91,958667.23,404751.25,1230591.97,1270577.01,1876704.26,2243946.59,2119163.01,510494.7,1962625.01,817741.17,1009502.01,431294.45,1817934.76,659109.53,1507708.93,325345.41,1365678.22,1639358.93,918049.28,1932162.63,550791.32,1582083.4,466806.89,1229257.7,1091822.72,588592.61,531640.19,519585.67,2196968.33,1380522.64,368282.57,882917.12,522673.62,985152.94,1873812.93,2097266.85,514709.76,360266.09,1015196.46,851762.28,512157.25,1220984.94,1442873.22,570069.48,851461.9,1409705.03,872817.62,1401232.52,407012.47,428851.99,3487986.89,1317672.92,635650.98,416913.1,1384339.1,672062.08,1115504.26,1082559.06,1875708.88,970328.68,1805999.79,1379651.87,1200815.3,994610.43,922231.92,558671.14,306533.08,1513635.64,1142499.25,327383.64,638144.98,767338.32,339597.38,1409989.67,1537139.56,485764.32,922048.41,1245576.65,2470206.13,1335647.1,1867345.09,252734.31,1043240.27,582552.26,1396926.82,1677556.18,1469593.37,1493525.93,1267619.06,541071.29,295974.22,1524059.4,613531.11,1808250.71,1555444.55,812190.76,549528.16,1894742.95,2035189.66,514651.74,893995.44,1625883.71,734858.91,561137.06,316687.22,2950198.64,1847430.96,651521.77,981978.02,1402654.95,460331.7,1080357.89,1708283.28,831425.2,470281.03,1799070.98,358461.58,1061196.47,536871.58,952609.17,755098.41,275313.34,728525.6,765687.42,1645097.75,817485.14,437320.66,1937033.5,286082.76,1986445.65,572887.78,1727565.42,628720.46,1227535.97,643125.29,2363601.47,1292830.93,881190.46,1210602.91,432451.91,1385362.49,1453047.02,238433.53,422715.74,1369634.92,1025766.27,805642.61,505069.21,1568048.54,2013115.79,314014.18,813756.09,514993.0,527495.09,696314.53,471086.22,323798.0,509647.25,2057637.86,1274463.02,694150.89,355307.94,559061.58,1772192.42,563460.77,508432.17,1973135.87,1357036.1,1321741.35,1484708.38,971557.62,958619.8,633520.34,581473.55,960312.75,500552.16,996628.8,465993.51,1425299.37,1620839.34,653525.84,313270.45,663452.46,1580732.73,1179036.3,921247.88,1350673.98,1187880.7,1053881.78,1758587.35,1242909.53,421642.19,771315.62,1417875.42,1115240.61,303974.28,1060906.75,1305950.22,857939.41,336253.19,1116439.02,519498.32,642450.4,971932.87,714014.73,1584083.95,1886339.6,1312905.8,1392093.04,1100046.37,1480289.64,1338299.02,348593.99,972405.38,2044148.23,2114989.0,407589.16,969046.69,855130.21,500945.63,1543461.12,581010.52,1390122.11,535769.32,2059458.25,616324.24,1124537.97,810150.64,1587257.78,534738.43,1246322.44,436741.02,493653.43,312698.67,1009797.06,1276031.84,2168097.11,954220.22,972716.24,1311965.09,391638.75,667151.46,1240126.07,1819666.46,1955689.12,1201694.14,2811634.04,1979247.12,766456.0,380188.69,771065.21,242047.03,567673.87,2143424.61,446905.02,1161190.29,526434.37,414245.96,284740.5,1881788.19,953252.14,736335.69,791495.25,530318.39,905984.49,697317.41,1348995.17,1246062.17,873337.84,452021.2,917693.06,2051315.66,327093.89,1920725.15,336227.69,1230514.58,685700.08,641368.14,337985.74,976393.43,1341240.62,2306265.36,821498.18,1858856.06,739866.16,1969360.72,425296.65,1133657.58,928537.54,436221.26,310338.17,1809989.29,293953.08,522715.68,612987.64,507335.75,563578.79,2025582.62,1417616.81,1954849.68,1159438.53,623097.93,1344580.92,570879.04,1203119.96,783371.02,1048866.3,505329.66,348655.2,990263.7,1564897.32,1158698.44,848289.41,977062.44,1297028.6,1511717.53,744969.42,587259.82,1090915.09,1439901.05,871692.74,1720221.91,505196.08,608737.56,873119.06,1597002.71,917883.79,1273295.46,586583.69,1781905.24,1694862.41,778178.53,655157.32,2020332.07,1279666.47,345381.29,649945.54,804362.36,506743.78,932679.79,724499.81,1060446.16,404283.84,1764847.94,2734277.1,991127.01,1203080.41,1624170.99,941550.34,695396.19,506973.17,927084.65,682124.34,897032.19,648541.81,319550.77,2041069.37,1151258.74,841889.08,1761235.67,1881046.12,825283.43,1161900.18,329183.92,1270036.53,1214944.29,1144254.26,1514288.82,438760.62,1649614.93,325201.05,664348.2,1483574.38,359206.21,572447.52,1128237.3,1230011.95,428554.63,1375307.54,600952.06,1871924.07,537035.28,1160043.98,270110.3,2103455.75,243477.03,1824711.21,536537.64,571463.93,2015781.27,800714.0,290909.69,492262.96,955211.7,836915.92,1758971.38,533414.62,299614.33,613042.97,691200.33,1517075.67,488417.61,406228.19,1927780.74,1255087.26,267495.76,1208825.6,855922.64,2405395.22,577511.02,307291.56,1623442.24,1189887.86,423707.69,1794868.74,893399.77,1757041.96,642678.53,465279.68,895535.31,693785.85,537138.58,1165870.54,1314994.32,1259278.36,1876788.15,613899.15,1356938.95,427175.03,1468350.36,1235121.33,763961.82,1547729.24,1919053.21,1781805.66,599629.25,562173.12,484829.07,1886503.93,614378.94,402635.76,1519846.36,641905.37,1441473.82,761956.58,670993.01,413907.25,848358.09,411866.46,608200.81,2133026.07,1060868.49,1476144.34,1025813.8,637964.2,555925.6,412449.67,281313.78,815130.5,1731935.43,1261306.37,1336838.41,434879.87,1363365.05,555279.02,453210.24,1660433.3,472511.32,753860.89,2416051.17,1755889.53,1601348.82,1899013.34,898289.14,1710923.94,549788.36,712869.09,844928.17,2685351.81,312467.52,1369317.63,953693.23,323233.8,1508933.26,822167.17,367181.71,558239.32,373655.61,325041.68,326316.73,305993.27,374556.08,365730.76,525132.36,1401944.8,1852179.15,1611096.05,764014.75,914835.86,2290549.32,945018.83,1466046.07,445134.15,1946104.64,491755.69,967187.37,918295.79,944698.7,583364.02,1479249.9,2554482.84,501268.78,1540421.49,1699708.38,1095932.51,888368.8,769522.33,1936878.46,1307182.29,1192982.07,307409.13,1494122.38,527389.28,2102530.17,480239.88,1273279.79,576332.05,534372.53,1350646.16,467546.74,1491039.14,1400160.95,672831.78,2036231.39,1107366.06,1792210.89,2014954.79,1365824.97,1800728.07,1450766.12,668098.49,338273.38,973004.91,513372.17,2037663.71,397631.02,596554.05,485694.72,2030869.61,1328740.71,325310.3,1014218.8,844443.35,1283885.55,509640.77,943891.64,507403.77,443889.5,1049357.36,752034.52,2107285.85,1939458.84,1323999.36,1648829.18,668132.36,237129.81,2139733.68,542529.21,922440.64,2193048.75,279088.39,447139.8,972292.31,298947.51,784490.67,287346.29,598553.43,1205884.98,628115.61,1177539.71,712647.97,380870.09,1553250.16,2427640.17,819911.89,1006597.69,758069.78,491510.58,2043245.0,462080.47,1900246.47,1769793.37,1428436.33,422810.12,1557888.16,1536176.54,598502.83,1245772.7,988764.84,551969.1,426959.62,404634.36,1067432.1,391837.56,2302504.86,1176588.25,525559.17,1003202.66,777951.22,696687.6,2037798.88,612337.35,491998.12,548542.47,1399456.99,653043.44,334441.15,1720530.23,942868.38,453016.91,656988.64,357557.16,839911.0,1197489.66,1553629.59,447727.52,2219813.5,312577.36,1360517.52,2256461.39,1407191.96,1065427.37,395195.65,437084.51,542009.46,2052984.81,948977.5,261851.74,336479.49,1874226.52,1527845.81,800819.79,725043.04,1285897.24,1406124.14,1005983.31,474698.01,1310087.0,499267.66,1059781.78,843361.1,1522978.54,455952.18,1316849.36,1950676.39,1408082.96,1295605.35,1201059.72,603318.89,792442.54,763867.59,1187384.53,394976.36,2203523.2,894493.7,898610.33,543754.17,1763545.32,550076.32,328633.34,1670579.82,1179315.72,565297.54,713834.74,660632.05,321205.12,267956.3,592369.22,340497.08,1617025.41,453943.89,484263.25,1427023.45,723559.88,438640.61,473773.27,382914.66,876583.98,608294.98,610641.42,1442988.44,307126.34,479855.0,1887733.21,709724.6,782796.01,1339972.83,1929738.27,1286833.62,611464.21,2762816.65,1650285.54,330927.21,837390.79,978027.95,1831933.95,1179420.5,1962924.3,1051518.45,415202.04,767256.53,573084.71,285100.0,442894.2,1713769.06,857883.46,948964.99,549731.49,813954.82,723708.99,1311950.16,789036.02,1189646.45,1000285.1,899044.34,545251.1,514756.08,398445.15,1495844.57,1939061.41,1083521.24,1894960.68,552338.76,284988.27,2249570.04,942970.63,1045722.37,1858440.92,1720908.01,2124316.34,872450.37,484946.56,309129.01,1543365.9,2188307.39,1508239.93,517546.69,1161615.51,461548.98,1087644.5,974866.65,2083379.89,1343637.0,2093139.01,1904608.09,936751.68,1343773.94,300152.45,690851.59,368600.0,655318.26,751167.12,1687592.16,1057295.87,434593.26,1639585.61,711571.88,293984.54,590739.62,1496305.78,783614.89,2180999.26,1414713.5,422186.65,454412.28,1019555.51,442734.55,729759.97,1434908.13,1481739.2,797523.04,1539063.91,1357672.24,936508.43,535983.13,1026439.93,786561.61,423441.76,1385323.7,366819.84,746129.56,1821364.42,578209.63,1478321.26,889670.29,1705810.84,916967.92,912403.67,633203.69,677971.33,2789469.45,1032076.06,397771.68,765823.48,604173.59,246970.97,920719.98,1347175.93,929222.16,493506.47,1346783.35,513672.36,542464.02,1356689.88,1712995.44,1588142.26,2263722.68,1608435.45,1280958.97,320691.21,1471816.52,459443.22,1884343.67,1272395.02,744389.81,515119.64,494145.8,525616.9,586467.16,440491.33,900646.94,2151659.59,1368090.08,1268766.76,1550385.65,578539.86,506502.09,234793.12,935481.32,332811.55,1890273.44,412050.73,972373.81,1846651.95,342214.9,554972.42,916918.7,304144.9,274742.63,1221723.94,301893.63,1837636.24,1895583.12,1815760.42,513073.87,1627904.68,1100418.69,1234759.54,1094422.69,1179125.48,1630564.48,1724669.75,910899.05,2055952.61,1352219.79,1194449.78,489372.02,914500.91,1354188.43,1412721.18,737014.09,958063.87,592947.75,607961.21,1314557.31,1298775.8,1891816.0,666942.02,1352547.7,702238.27,809833.21,593462.34,1410181.7,351541.62,372239.89,522784.33,572387.47,409411.61,446336.8,625196.14,2066187.72,618767.26,2144336.89,307646.5,834663.52,1385860.38,2071022.45,501780.66,1682652.51,562633.67,1577541.24,1953539.85,null,null,null,null,null,null,null,null,null,null,null,null,null,null,null,null,null,null,null,null,null,null,null,null,null,null,null,null,null,null,null,null,null,null,null,null,null,null,null,null,null,null,null,null,null,null,null,null,null,null,null,null,null,null,null,null,null,null,null,null,null,null,null,null,null,null,null,null,null,null,null,null,null,null,null,null,null,null,null,null,null,null,null,null,null,null,null,null,null,null,null,null,null,null,null,null,null,null,null,null,null,null,null,null,null,null,null,null,null,null,null,null,null,null,null,null,null,null,null,null,null,null,null,null,null,null,null,null,null,null,null,null,null,null,null,null,null,null,null,null,null,null,null,null,null,null,null,null,null,null,null,null,null,null,null,null,null,null,null,null,null,null,null,null,null,null,null,null,null,null,null,null,null,null,null,null,null,null,null,null,null,null,null,null,null,null,null,null,null,null,null,null,null,null,null,null,null,null,null,null,null,null,null,null,null,null,null,null,null,null,null,null,null,null,null,null,null,null,null,null,null,null,null,null,null,null,null,null,null,null,null,null,null,null,null,null,null,null,null,null,null,null,null,null,null,null,null,null,null,null,null,null,null,null,null,null,null,null,null,null,null,null,null,null,null,null,null,null,null,null,null,null,null,null,null,null,null,null,null,null,null,null,null,null,null,null,null,null,null,null,null,null,null,null,null,null,null,null,null,null,null,null,null,null,null,null,null,null,null,null,null,null,null,null,null,null,null,null,null,null,null,null,null,null,null,null,null,null,null,null,null,null,null,null,null,null,null,null,null,null,null,null,null,null,null,null,null,null,null,null,null,null,null,null,null,null,null,null,null,null,null,null,null,null,null,null,null,null,null,null,null,null,null,null,null,null,null,null,null,null,null,null,null,null,null,null,null,null,null,null,null,null,null,null,null,null,null,null,null,null,null,null,null,null,null,null,null,null,null,null,null,null,null,null,null,null,null,null,null,null,null,null,null,null,null,null,null,null,null,null,null,null,null,null,null,null,null,null,null,null,null,null,null,null,null,null,null,null,null,null,null,null,null,null,null,null,null,null,null,null,null,null,null,null,null,null,null,null,null,null,null,null,null,null,null,null,null,null,null,null,null,null,null,null,null,null,null,null,null,null,null,null,null,null,null,null,null,null,null,null,null,null,null,null,null,null,null,null,null,null,null,null,null,null,null,null,null,null,null,null,null,null,null,null,null,null,null,null,null,null,null,null,null,null,null,null,null,null,null,null,null,null,null,null,null,null,null,null,null,null,null,null,null,null,null,null,null,null,null,null,null,null,null,null,null,null,null,null,null,null,null,null,null,null,null,null,null,null,null,null,null,null,null,null,null,null,null,null,null,null,null,null,null,null,null,null,null,null,null,null,null,null,null,null,null,null,null,null,null,null,null,null,null,null,null,null,null,null,null,null,null,null,null,null,null,null,null,null,null,null,null,null,null,null,null,null,null,null,null,null,null,null,null,null,null,null,null,null,null,null,null,null,null,null,null,null,null,null,null,null,null,null,null,null,null,null,null,null,null,null,null,null,null,null,null,null,null,null,null,null,null,null,null,null,null,null,null,null,null,null,null,null,null,null,null,null,null,null,null,null,null,null,null,null,null,null,null,null,null,null,null,null,null,null,null,null,null,null,null,null,null,null,null,null,null,null,null,null,null,null,null,null,null,null,null,null,null,null,null,null,null,null,null,null,null,null,null,null,null,null,null,null,null,null,null,null,null,null,null,null,null,null,null,null,null,null,null,null,null,null,null,null,null,null,null,null,null,null,null,null,null,null,null,null,null,null,null,null,null,null,null,null,null,null,null,null,null,null,null,null,null,null,null,null,null,null,null,null,null,null,null,null,null,null,null,null,null,null,null,null,null,null,null,null,null,null,null,null,null,null,null,null,null,null,null,null,null,null,null,null,null,null,null,null,null,null,null,null,null,null,null,null,null,null,null,null,null,null,null,null,null,null,null,null,null,null,null,null,null,null,null,null,null,null,null,null,null,null,null,null,null,null,null,null,null,null,null,null,null,null,null,null,null,null,null,null,null,null,null,null,null,null,null,null,null,null,null,null,null,null,null,null,null,null,null,null,null,null,null,null,null,null,null,null,null,null,null,null,null,null,null,null,null,null,null,null,null,null,null,null,null,null,null,null,null,null,null,null,null,null,null,null,null,null,null,null,null,null,null,null,null,null,null,null,null,null,null,null,null,null,null,null,null,null,null,null,null,null,null,null,null,null,null,null,null,null,null,null,null,null,null,null,null,null,null,null,null,null,null,null,null,null,null,null,null,null,null,null,null,null,null,null,null,null,null,null,null,null,null,null,null,null,null,null,null,null,null,null,null,null,null,null,null,null,null,null,null,null,null,null,null,null,null,null,null,null,null,null,null,null,null,null,null,null,null,null,null,null,null,null,null,null,null,null,null,null,null,null,null,null,null,null,null,null,null,null,null,null,null,null,null,null,null,null,null,null,null,null,null,null,null,null,null,null,null,null,null,null,null,null,null,null,null,null,null,null,null,null,null,null,null,null,null,null,null,null,null,null,null,null,null,null,null,null,null,null,null,null,null,null,null,null,null,null,null,null,null,null,null,null,null,null,null,null,null,null,null,null,null,null,null,null,null,null,null,null,null,null,null,null,null,null,null,null,null,null,null,null,null,null,null,null,null,null,null,null,null,null,null,null,null,null,null,null,null,null,null,null,null,null,null,null,null,null,null,null,null,null,null,null,null,null,null],\"xaxis\":\"x\",\"y\":[1141709.875,null,null,null,null,null,312857.28125,null,313197.4375,null,null,null,1993930.625,null,null,null,null,null,null,null,1314801.875,null,null,null,null,257303.65625,null,null,null,null,581258.75,null,601575.0625,null,null,525167.6875,null,1698173.875,null,null,null,null,530939.3125,null,null,null,254571.515625,331192.96875,null,null,null,638570.8125,null,null,null,1769292.375,null,null,null,943128.25,null,561658.0,830254.3125,994167.5,997486.3125,975717.8125,null,null,984761.5,null,309797.4375,null,null,1212834.125,null,null,1022289.5625,441376.53125,517691.03125,null,null,1533809.5,null,null,1589171.5,424004.4375,null,null,null,1838242.25,null,null,null,null,null,null,1864399.25,null,null,993922.5625,null,null,null,null,null,1386738.75,null,1983581.125,null,null,1010868.5,null,null,null,418109.71875,null,null,null,null,632729.0,1005410.375,1345948.75,null,null,null,null,null,null,null,null,1411141.5,null,null,1193347.375,null,null,848886.5,null,null,854617.4375,null,1552895.875,null,null,443058.75,1364241.75,null,null,538963.0625,null,1997884.0,null,971421.5625,536379.5625,null,null,null,395498.40625,null,1887996.0,1448221.625,null,null,null,null,1441886.625,null,543891.125,1195866.875,null,null,null,null,null,null,null,null,null,null,null,520560.21875,null,null,null,null,1094362.75,null,null,null,null,null,null,595129.3125,null,null,null,null,1435043.5,null,1022448.4375,null,510134.25,null,250840.125,null,null,583735.3125,1479224.25,null,null,null,878231.5625,null,2000422.125,null,null,null,null,1823686.25,null,null,null,null,null,null,null,1433121.0,1499558.25,null,null,null,568697.375,null,null,1444560.875,1762954.0,1407745.75,null,575657.8125,null,null,null,null,null,null,727856.625,null,398486.84375,null,null,null,null,1171783.125,null,null,null,null,null,890129.625,null,null,null,null,null,null,1000271.5,null,null,null,2164866.25,null,468911.375,null,null,null,null,null,null,2020439.25,null,null,null,null,null,null,null,null,null,null,null,null,1494410.375,null,null,null,null,710545.125,939069.5625,null,null,null,null,271885.90625,null,null,701300.125,null,1315812.0,1001066.3125,null,null,728249.1875,692899.1875,null,344541.625,null,null,null,null,698652.75,null,null,null,2081079.375,null,null,1242046.0,null,null,null,null,null,null,608033.4375,null,null,null,null,null,1016133.125,null,869774.125,null,1949178.25,null,null,null,null,null,2359383.0,null,null,null,null,1420053.75,null,null,null,null,null,null,null,null,1282152.875,301227.625,null,null,1908465.125,680172.375,null,null,null,null,445906.0,null,1738816.75,null,null,null,null,null,null,null,null,1308622.5,null,1024951.875,null,null,null,null,352802.3125,850762.9375,null,null,null,null,null,null,null,null,null,null,null,550585.1875,null,391885.71875,null,1762101.5,null,null,642839.9375,1456765.5,511044.03125,null,null,null,947256.5,null,null,null,null,null,null,null,986828.375,null,null,null,515148.53125,null,null,null,null,null,null,null,null,null,null,1798242.375,null,1380658.0,null,null,555066.1875,null,1074328.5,null,null,null,null,null,1401332.625,null,1081138.625,null,null,null,null,null,289670.5625,null,null,null,null,null,884200.0,514994.5,null,1283765.0,551926.4375,null,753583.3125,null,900435.5625,null,null,null,null,null,null,null,null,null,null,null,null,318677.9375,null,null,1243786.375,null,null,null,null,540071.625,null,null,730460.8125,532703.375,null,null,null,null,null,null,2167672.5,null,null,null,null,548185.625,null,390208.8125,null,null,null,360919.6875,null,null,null,null,2034119.25,null,null,713050.3125,null,null,null,539964.125,null,284548.25,null,null,null,null,null,472649.15625,null,null,null,null,970166.0,1323335.625,null,1355789.875,null,null,null,1318437.0,null,null,null,null,null,null,null,549080.8125,null,null,1165075.0,null,null,null,null,1351213.625,null,null,888599.1875,null,1545952.625,null,null,null,null,null,null,null,1353434.375,null,341138.09375,991706.625,null,282114.75,1463340.5,null,null,277426.03125,null,null,null,null,1967307.0,null,null,null,null,null,null,null,647024.8125,1636483.75,null,1337102.0,null,null,null,1313422.375,556784.625,null,null,null,856011.5,null,null,null,null,null,null,null,null,null,null,null,362077.09375,null,null,null,751903.375,null,null,null,null,null,null,null,null,null,null,null,1629933.25,null,635932.3125,1465431.875,null,null,null,null,540452.1875,null,737661.6875,989458.875,null,563560.125,null,null,null,null,null,1360297.25,null,null,null,null,null,1012302.75,null,null,null,null,296827.5625,null,867957.5,1433206.5,null,null,null,null,null,null,1775009.25,256706.671875,null,null,null,null,997742.1875,1299561.875,null,null,null,1812551.125,null,null,null,null,null,null,null,null,null,null,null,null,453382.375,null,null,1017020.0625,null,null,2189764.5,675284.9375,null,null,null,null,null,null,513127.53125,null,null,1970632.875,null,1397921.5,null,null,2024441.125,1322433.875,null,null,null,null,null,581867.5625,607104.3125,716039.375,949021.75,1576557.625,null,null,null,873984.4375,null,null,null,null,null,null,null,null,null,null,null,null,548852.75,null,1333578.25,null,null,865848.3125,1650204.125,null,null,null,null,null,483209.3125,null,null,null,null,1345292.375,998953.75,1371431.875,null,755585.625,null,null,657970.0625,null,null,905669.1875,889611.8125,null,1372252.875,null,1815127.25,null,1871799.875,null,428689.3125,771160.9375,null,708545.25,null,null,558503.0,425070.09375,null,null,346780.125,null,null,null,null,null,null,null,null,null,null,417969.84375,null,null,null,null,null,null,574918.1875,501561.875,null,null,null,null,null,null,null,1311730.5,null,null,null,null,null,null,null,null,550489.9375,958654.5,null,null,null,null,null,null,null,null,null,null,null,null,405309.34375,null,456282.9375,1951910.75,null,1522833.875,385827.5625,null,null,null,null,null,326749.53125,null,null,null,1360666.125,null,543868.4375,968109.125,363598.53125,null,null,null,null,null,null,null,null,null,null,529163.3125,null,null,null,null,null,null,null,null,null,null,null,null,null,1663877.0,null,1049338.5,null,1836101.0,null,null,null,null,1891717.5,null,null,null,1391261.75,null,null,1466487.125,379894.625,839378.5,null,726798.0,null,null,null,null,null,null,524118.96875,null,null,null,716793.75,null,null,545274.1875,null,null,null,null,null,null,null,null,null,null,null,null,null,1909199.0,null,1056415.875,302850.1875,null,null,1890234.25,null,null,null,1159837.0,null,null,null,null,null,null,null,null,null,null,null,null,null,null,null,null,598199.125,null,null,null,809116.25,null,null,null,312857.28125,988161.75,null,null,null,null,null,null,null,1916093.375,null,null,null,null,null,null,1184585.625,null,1116563.25,null,null,995508.375,null,null,1287482.25,null,null,1261853.625,null,null,2012337.625,null,null,null,null,null,null,null,null,null,null,null,1099324.625,null,null,null,null,null,null,null,null,null,null,null,null,null,null,null,1312478.375,352249.90625,null,null,null,2031747.125,null,null,1661289.25,null,null,null,null,null,null,null,null,null,null,null,null,null,null,449706.28125,null,437698.21875,946731.875,null,null,null,1731737.0,null,null,1547709.125,null,null,null,null,null,2125929.0,null,null,418653.90625,1013393.0625,null,null,null,null,null,null,null,null,null,null,796556.875,null,null,1476148.625,638810.1875,1395599.0,null,null,null,null,null,832018.4375,null,1665082.5,null,null,548803.8125,null,553482.25,null,null,null,null,null,null,null,2118229.25,null,null,null,845769.8125,419181.53125,null,null,null,null,null,null,null,null,null,2131023.25,null,null,null,null,null,null,null,null,null,null,669186.5,null,null,null,1929857.75,1471197.125,null,null,null,null,1269044.125,586388.1875,null,null,1017370.5625,null,null,null,null,null,566560.5,null,null,null,null,null,null,null,549018.0625,null,null,1181314.625,null,null,null,1894198.5,null,254911.484375,null,600373.4375,null,null,null,null,null,null,null,538266.875,null,null,null,753583.3125,1103857.0,null,564594.8125,527818.125,null,null,null,null,580501.3125,null,589732.0625,341556.25,null,null,null,612649.6875,null,null,null,null,null,1798036.375,null,null,1270988.125,1750473.75,null,null,null,null,null,null,null,455172.3125,null,938618.3125,319584.8125,null,null,null,null,null,null,null,null,444509.59375,null,895449.25,null,null,null,316242.4375,null,null,null,1312307.875,null,null,null,null,null,null,415836.125,null,null,1825657.625,null,null,null,null,1251188.5,null,null,null,330525.96875,null,null,null,null,null,null,363766.3125,728846.875,null,null,null,null,null,null,null,null,null,null,null,null,1499432.875,null,null,null,null,null,null,453864.34375,428818.21875,null,null,null,1423878.375,null,null,null,null,null,null,null,null,679318.75,null,null,null,null,null,null,null,null,null,1323798.875,null,null,1278077.625,null,null,null,null,2003612.375,null,null,null,null,null,null,null,null,null,1264382.875,998755.75,2010238.125,null,null,null,null,606105.5625,396997.125,null,null,null,null,null,null,null,null,null,null,null,null,null,null,null,null,null,null,null,null,null,1819334.25,null,null,null,null,null,654886.5625,null,987943.125,null,null,null,null,576615.5625,null,null,null,null,null,673876.25,null,null,null,2129381.0,null,null,null,null,null,null,null,1034257.0625,null,null,null,null,null,null,null,1211156.5,null,null,null,null,null,419274.53125,null,1353576.5,null,null,null,null,null,null,null,1510006.625,530755.3125,null,null,null,null,null,null,2039541.375,null,null,null,1347528.875,null,null,null,382179.28125,null,null,null,null,1279298.0,null,null,537927.4375,null,1285423.25,2181006.75,526748.9375,null,null,null,null,null,null,794527.625,2014802.625,1361689.625,null,null,null,null,null,null,null,null,null,null,null,null,null,null,752164.375,null,511747.59375,null,null,null,null,1008396.75,null,null,604517.3125,null,null,null,null,1449643.125,null,null,null,273580.4375,null,null,468176.5,null,null,null,null,null,955316.9375,null,null,1981404.75,null,null,null,null,null,null,null,1083002.0,null,null,null,null,null,988828.25,948603.75,null,null,null,null,null,503464.6875,null,607005.4375,null,null,2140222.25,null,773658.6875,null,null,1196487.25,null,null,1947449.375,558842.5,null,null,null,null,null,null,null,1187031.125,null,null,701146.0,null,959663.4375,null,null,1302233.625,null,1291578.5,1139398.25,null,1140288.5,null,null,null,null,null,null,null,1683144.25,991393.3125,null,769633.875,282114.75,null,null,null,null,null,717245.0,null,null,1525318.125,null,null,null,2430098.5,null,null,null,null,1303190.375,null,285653.875,null,1313151.5,null,1901073.75,null,null,null,null,null,null,null,null,null,1721455.625,1120287.625,1254101.375,445896.6875,1024995.5625,1074644.375,950180.9375,652075.625,440018.59375,1163290.625,1364801.625,976986.75,1780391.25,975471.0,1012992.375,1407001.625,438299.375,408964.3125,2059441.0,311954.65625,318677.9375,534683.875,528606.9375,386473.8125,633399.25,414155.40625,1308440.75,585307.9375,869596.8125,993772.5625,1371817.5,556661.4375,1491509.375,256194.125,1384500.0,1440481.875,1288637.75,967157.25,675966.5,1383782.0,1549827.75,950985.1875,364921.4375,1462832.75,637294.4375,2195817.0,580991.0625,976986.75,1804441.625,623522.0,503261.5625,1068826.625,511708.5,1208663.5,322559.90625,704651.25,879603.75,1198317.0,1491576.875,1870055.25,854442.9375,1576723.75,428763.34375,387268.84375,848735.0,1189643.625,1167984.5,1669868.5,1685628.75,1005469.4375,765408.8125,752797.5625,981216.5625,1473257.75,521156.21875,563053.0,2132214.0,1270212.25,272223.65625,534451.5,624614.9375,1236945.0,339357.71875,1503470.75,1338454.375,537633.4375,1436943.125,1213314.375,1369507.25,751419.6875,752138.5,1368155.0,2189282.25,1302816.125,1178085.5,702057.75,385065.5,1293493.375,1084349.625,523378.09375,950340.0,1024995.5625,826110.5625,2027796.375,1666484.125,641878.625,635369.0,1326643.125,949348.9375,594696.3125,1250276.875,651768.375,569400.8125,1745611.75,1586886.875,975011.625,1377940.125,571694.625,1717984.375,461808.5,277996.1875,348637.375,995002.6875,321215.375,650877.5,862070.4375,2097137.375,960882.6875,629504.0,1913504.875,880548.25,866417.8125,958070.5625,1280444.0,709091.125,540490.8125,1412460.875,1129682.75,1532121.75,1304720.375,539198.875,1957701.0,275639.3125,1333268.875,563447.4375,885268.3125,320015.1875,2116112.5,993328.8125,680172.375,1758191.875,541206.25,1339723.125,953863.25,259320.375,1239405.0,431171.96875,785532.5625,2327680.75,1036107.125,801040.25,603110.9375,1953045.25,961110.6875,384722.40625,1815443.375,3179358.25,385185.8125,2077025.75,1731856.125,1216384.5,887028.8125,585249.6875,1467661.5,268196.1875,842808.5625,478846.625,959570.8125,947579.1875,424270.3125,1390699.5,445234.59375,1271743.75,1379343.0,579027.875,1312973.625,1501826.0,522497.21875,779211.0625,661866.5625,932654.5,1368349.125,425192.96875,1809485.75,1893432.875,1240996.125,570081.5,284541.53125,1214495.25,751758.1875,1036070.3125,757904.5625,1453742.5,374259.625,552482.3125,1035559.4375,1547246.0,2379578.0,564333.5625,1485967.625,1051402.625,2294295.0,1298582.0,364338.28125,1142711.0,681890.4375,742443.125,1771494.0,851998.4375,1420896.375,2040441.5,1261434.375,826390.0625,2841779.75,2001720.75,1173967.5,1394375.5,573691.9375,527330.625,541832.25,2034031.75,1371807.5,1808771.75,609121.3125,1045127.3125,1511372.75,945715.4375,348621.46875,922979.0,1856446.5,1490189.875,1980122.75,1683144.25,358458.8125,1702288.625,2231768.75,580003.8125,2160680.25,1246947.75,1816621.0,561422.3125,1006173.3125,888887.6875,339783.40625,1001219.25,512449.75,793704.3125,1471646.0,336472.5,2047381.75,1390835.125,1201833.5,427791.09375,1370741.75,1358514.0,2133925.75,1060592.875,313008.625,562766.0625,417250.875,1945558.625,298282.9375,1126784.625,547965.0,2163076.75,1448489.125,1927594.125,867224.5625,1019259.125,511708.5,1274368.875,1339216.25,1291654.875,1560954.625,839378.5,1390270.875,1054837.5,467857.0625,1419245.625,1147594.25,639223.5,1468879.0,956876.125,434582.875,381256.40625,862320.625,1253649.125,1607637.625,712303.8125,2112999.5,981559.6875,992037.1875,1095799.625,1138891.875,1467194.0,1092629.625,948623.75,1981443.5,538358.9375,512559.71875,985300.875,502478.0625,944473.25,1994556.25,1479771.875,1428078.875,1047617.0625,354757.28125,1543639.25,426998.5,976430.0,2043249.0,466937.21875,1248002.25,978103.125,1635546.375,376327.8125,362993.78125,1213776.75,563811.6875,747325.75,1533871.5,1092512.0,1437522.25,264462.8125,1646552.25,2854530.5,540619.125,958882.1875,947584.3125,438597.125,543868.4375,877568.875,779998.3125,337011.25,955698.6875,706893.5625,255059.953125,1861638.0,305626.28125,1180739.5,751758.1875,980887.9375,853518.625,2204983.25,882321.875,1695874.25,1335729.0,455684.78125,496545.125,1489369.875,452960.59375,1149177.5,1267511.375,2012180.25,850672.625,799146.5,1006576.0625,502736.34375,1914840.625,549811.0,560727.6875,1017428.5625,1970682.25,636394.5,1499519.875,1654191.125,2715903.5,1308483.25,892760.25,1346325.875,576428.625,358458.8125,1381176.375,765875.125,1302460.125,521287.875,512508.1875,290089.0,1070063.625,1152063.375,1540409.625,1807784.75,754110.6875,1499219.75,1994868.75,715414.3125,1774373.25,873105.125,1545280.125,845716.75,561290.4375,582140.0,1604747.75,502235.0625,1810568.0,575330.6875,1032214.625,492024.21875,864381.125,1368371.875,340613.125,579868.75,414756.5625,1399875.875,1894470.125,991706.625,901739.25,1542965.375,1519115.875,1320253.875,263545.46875,885739.9375,829228.875,1547273.25,1378406.875,543814.75,1378311.0,1463340.5,1415268.0,1264355.375,1036026.375,1003758.875,1909452.75,1334688.375,853590.5,861900.6875,979804.6875,1828841.25,979650.375,1019185.5,2160247.25,733018.25,1359143.625,1378765.125,566581.9375,353130.5,1492087.25,556784.625,1051504.125,855147.6875,524158.21875,1123973.875,423882.5625,1148046.0,923225.875,1823833.625,884250.6875,789355.1875,1996128.75,542931.75,970049.625,1023952.625,944473.25,942650.25,649721.8125,808212.3125,940169.3125,437167.5,574802.6875,2442309.5,1667985.625,901292.5,557705.5625,1126784.625,950985.1875,536670.1875,2132672.25,387745.34375,867803.9375,1904766.25,437716.28125,1446157.75,1024638.1875,347214.625,1657602.875,1287945.875,553077.75,1023633.25,1014345.0625,942234.0625,600329.875,386955.46875,1677693.0,1393229.375,1290997.125,941160.875,907533.875,296683.125,658675.8125,305704.4375,1887700.0,693513.6875,587784.625,1805442.75,1513773.5,631820.5625,380420.5,1336942.0,750453.3125,1100112.25,902319.8125,546330.5625,950340.0,1740902.875,992422.625,536693.875,1297242.625,254911.484375,516766.75,879732.9375,415602.34375,640040.4375,2014529.5,1760694.875,301371.75,1293326.25,388792.375,636392.875,490549.0,736530.5,579516.125,1285934.125,468235.9375,590130.75,2080902.625,425585.8125,1369099.125,863976.875,303461.9375,2241261.75,1999976.625,1866430.75,985300.875,1116300.5,856011.5,2228496.5,2276000.0,818934.0,494301.90625,826060.625,1891542.25,706033.5625,1290957.375,1708347.25,1903768.5,1281212.25,1854922.375,2034338.875,1693798.0,1590653.875,503611.09375,542207.875,1432033.25,1636281.25,962833.875,992736.0,1918731.125,366177.09375,813101.25,1061776.5,547221.375,407115.78125,774969.625,358374.3125,1036839.5625,321749.59375,2043955.5,1785495.5,613801.125,1240388.125,579872.625,1367527.375,771160.9375,410586.5,1525921.0,1912473.5,698652.75,1301204.375,539168.625,2013000.25,993450.75,1531715.0,468911.375,1227356.125,449090.84375,538290.4375,1962134.5,441486.21875,990666.4375,1869626.0,2040785.5,779930.5625,1412560.75,992597.0,2051008.25,962921.875,371602.28125,1930568.375,1106519.875,536600.1875,937258.5,1300575.625,1782322.875,1355407.125,1259809.125,771995.875,800735.875,386202.21875,1787585.0,1888879.0,1096879.875,1452975.75,1383435.125,868410.4375,1647363.375,439593.65625,1479335.125,961008.9375,1533966.0,1399841.75,1881681.375,1300575.625,1563912.625,754750.9375,1173801.25,1688693.0,627853.75,1106126.625,1305419.75,1113980.625,1602104.75,1981819.625,1267546.125,704846.125,973614.4375,1355829.5,979833.375,2337148.75,1491663.0,727908.125,1006902.4375,536895.9375,618718.625,948612.75,435248.0,857288.875,875251.8125,607104.3125,551536.0625,562883.375,1003066.625,955929.9375,772324.5625,1726552.625,763431.5,1490395.5,1245623.375,1552980.125,1394130.875,2023788.0,898866.125,945715.4375,257277.46875,611976.4375,1418202.5,322563.40625,340447.875,990675.125,1636533.875,459425.4375,475791.25,1379792.25,902664.0,1360078.0,1312234.625,932493.1875,542760.625,949418.375,501950.96875,2045807.5,515569.96875,1444645.25,2152485.5,1552492.375,1220171.0,576062.5625,995990.0,985002.8125,785585.4375,386381.3125,544155.5,627004.75,1023783.9375,592616.8125,579319.3125,1482126.125,342977.46875,608963.8125,1130864.75,526917.25,1114826.0,851141.75,1873892.25,227850.3125,1146339.0,2205101.5,919627.9375,1518443.75,531271.25,1007108.0,1238759.75,1355052.375,372323.6875,531279.9375,586527.4375,973614.4375,1017481.75,997523.6875,1444709.75,873105.125,1240388.125,1436692.875,1017068.1875,1010383.125,747512.8125,610873.75,271617.375,2146410.25,388567.625,502501.71875,857288.875,357576.03125,865457.625,1375216.0,322556.53125,3073250.75,1373680.75,1505763.75,2041942.875,302210.78125,1371306.625,347005.34375,1467439.25,564433.0,1963342.125,550012.8125,1033244.75,947256.5,970960.0,2165527.0,1340702.125,976515.9375,965309.125,744007.75,868141.75,1299089.0,973189.9375,1257515.0,1979829.125,579060.8125,777807.125,540360.125,356048.65625,430368.5,747655.875,967708.75,1310633.375,1118348.125,1006902.4375,1060492.0,560755.125,1031192.9375,1373916.125,1749364.875,697535.125,1394443.625,553799.0625,316731.65625,1791901.75,377830.5,633959.75,701510.0,1145467.375,1182961.0,320135.84375,1901061.25,1128027.5,1882269.75,691836.6875,325686.21875,652632.625,1063401.75,435467.9375,1315083.75,297382.59375,1046372.0625,398189.625,885645.6875,1264782.625,1343181.25,991901.5,352249.90625,299001.71875,277329.46875,2014053.375,1384474.125,1270757.875,896286.9375,1448153.25,1294701.375,1284083.0,1376478.25,949237.4375,343743.125,724220.6875,1377711.375,465698.53125,673833.9375,406136.625,1805043.625,737060.875,1036530.5,352778.5,1299173.375,993328.8125,1688693.0,380957.40625,1499704.75,889517.125,1378703.125,1406434.75,1258121.25,339850.0,698081.9375,1343059.875,972290.0625,1686038.25,2137953.25,936264.125,445816.40625,1872672.25,1068826.625,1330027.375,1583930.25,391527.96875,1309433.125,631839.6875,939870.6875,565740.0625,1961956.25,1423486.625,1418248.25,327485.90625,574679.875,1444162.25,2183617.25,812768.8125,948603.75,1964415.5,256194.125,724832.4375,982255.1875,523785.25,420187.4375,862009.75,1070793.875,1327952.875,964957.5625,770715.5625,2129839.0,900322.3125,1767279.5,537216.8125,1353917.875,1997440.25,1008232.0,1020581.6875,677412.3125,1119162.0,1314008.875,1263079.375,644906.375,270119.25,1017412.625,1103266.625,1403976.5,2038806.75,313559.15625,1183910.0,382940.75,1993679.25,2096407.625,1619156.0,1174992.625,1016144.625,772712.6875,571462.375,1074644.375,1036530.5,388792.375,1708538.625,299571.09375,1684047.125,1347105.25,2581456.75,513570.4375,547583.5,696032.875,437878.9375,548635.4375,1384619.875,297696.65625,631388.5,523400.40625,289802.6875,587999.875,1484234.375,793832.0,851524.1875,423367.375,536693.875,1353257.375,344610.3125,1218138.375,1493669.625,729386.75,310529.3125,1991082.0,993530.1875,1017546.3125,601008.5,892224.0,1319700.125,2020618.375,865563.5,822883.5,454503.8125,1074916.75,545396.5625,522176.53125,533337.0625,2100299.75,635518.375,436239.65625,1362550.25,994067.75,468211.25,909966.8125,1356739.5,1814814.0,316140.34375,981961.625,314595.3125,1285255.125,983214.875,470621.34375,354319.1875,496545.125,1485228.375,1997436.875,349820.25,1677693.0,551065.3125,1001114.375,515867.59375,1363092.375,568069.125,265328.90625,1646178.75,1277529.875,1063320.125,690684.25,344610.3125,628967.8125,700855.5,446084.9375,980598.6875,698652.75,460951.15625,991380.125,1633586.375,566519.875,1453097.375,1056230.875,1367736.375,1866042.125,537216.8125,926315.5625,314624.6875,356048.65625,1594405.375,1334265.125,997742.1875,326216.8125,1949935.625,761006.8125,1200702.375,310166.0625,709091.125,1264071.625,938618.3125,288403.9375,627004.75,943025.375,636398.8125,1327170.0,1873943.625,1880917.5,1346576.0,920891.6875,748207.3125,2042589.125,1369938.375,888764.75,474923.40625,1973936.0,992484.125,1912295.875,995350.75,835710.1875,1490791.5,392444.21875,698576.25,777442.9375,929773.375,2142371.0,653777.1875,550691.25,1548682.125,1504454.875,985748.25,1757446.375,267747.125,304291.15625,1013002.3125,621663.25,1537359.625,784795.5625,1791951.5,1257763.25,902073.4375,536198.8125,999192.1875,1398752.375,746680.0625,1202832.625,770247.1875,629676.75,1108875.0,464515.34375,994458.6875,693513.6875,1302865.75,993922.5625,1141962.75,682386.75,254014.921875,383020.90625,611185.75,2018839.0,931201.0,1669868.5,805568.4375,1320077.5,454011.625,457391.71875,1010148.625,254131.8125,594113.1875,554856.0,1971231.875,321202.09375,961285.125,539142.5625,1419245.625,797605.875,1094428.0,1507456.625,650877.5,253909.875,593938.125,1556342.75,569560.1875,939069.5625,1034703.875,865457.625,995728.125,584082.875,1342735.75,571215.8125,888764.75,1318508.625,526156.4375,975291.3125,515640.1875,1355707.125,1925818.0,2165586.25,1014345.0625,1261597.625,1108249.5,2004441.375,753583.3125,582456.8125,1920582.25,265046.71875,501811.5,579027.875,446561.53125,1076225.75,1948757.875,975011.625,1852443.5,1331366.125,550335.625,634311.375,435637.03125,427341.4375,1379132.0,626566.5,1416340.5,1541751.0,760050.4375,1004337.5,2167672.5,410408.4375,1441216.375,1118937.25,1019185.5,549579.6875,1759073.0,1300627.625,1776137.875,493336.9375,284705.625,850734.4375,1001114.375,1089009.25,341261.8125,1311939.875,2162615.25,905794.75,1872604.25,417426.1875,438299.375,1836936.125,763686.5,322705.0,1780391.25,1035940.25,1014345.0625,1025129.3125,1162751.625,1023145.0625,326485.9375,1088855.375,1437134.5,822883.5,670937.8125,510567.5,1448685.25,998761.25,1354362.75,439752.15625,2037291.875,523063.875,988434.3125,583162.0625,1317521.0,1685676.625,632094.625,1436235.375,679729.5625,1418491.125,523641.5,1302233.625,637984.375,1385137.5,945605.5,919965.4375,601514.125,1833279.5,993222.375,1470150.25,552912.375,449234.78125,1959222.625,542082.0,1327054.75,527034.5,2074312.875,1401011.875],\"yaxis\":\"y\",\"type\":\"scattergl\"},{\"hovertemplate\":\"<b>OLS trendline</b><br>pred = 0.0236024 * Weekly_Sales + 991036<br>R<sup>2</sup>=0.000862<br><br>Weekly_Sales=%{x}<br>pred=%{y} <b>(trend)</b><extra></extra>\",\"legendgroup\":\"\",\"marker\":{\"symbol\":\"circle\"},\"mode\":\"lines\",\"name\":\"\",\"showlegend\":false,\"x\":[274742.63,275313.34,279088.39,280681.2,284988.27,289886.16,291024.98,292315.38,292539.73,294659.5,294732.5,295974.22,297384.81,299614.33,301615.49,301827.36,303447.57,305993.27,306533.08,307291.56,307913.58,310338.17,312220.47,314014.18,315645.53,316203.64,319550.77,321110.22,321205.12,321299.99,323798.0,325041.68,325310.3,325345.41,327093.89,327383.64,329183.92,333870.52,339597.38,339976.65,343048.29,345381.29,348591.74,353652.23,359206.21,359867.8,364866.24,365248.94,366250.69,366367.55,368282.57,373655.61,374556.08,375988.69,376225.61,380683.67,385520.71,389427.9,389813.02,391638.75,391860.04,394976.36,395195.65,402635.76,404751.25,406228.19,407012.47,407589.16,410804.39,411775.8,412449.67,413907.25,415202.04,415870.28,416913.1,418925.47,419990.29,420789.74,421642.19,424513.08,437084.51,442734.55,446336.8,458086.69,459443.22,466322.76,467827.75,468428.3,472511.32,473773.27,480239.88,482451.21,484263.25,484946.56,485764.32,491449.94,494145.8,498159.39,498580.87,500552.16,505069.21,506274.94,506743.78,507297.88,507900.07,513073.87,513107.2,513372.17,517869.97,519585.67,520846.68,522715.68,535769.32,535983.13,536537.64,540819.44,542009.46,542663.53,544612.28,545251.1,549502.11,549731.49,549788.36,550076.32,550791.32,551221.21,554879.67,555279.02,558027.77,558671.14,559061.58,562173.12,563460.77,563578.79,565812.29,571463.93,572387.47,572887.78,578539.86,586467.16,592355.24,593462.34,597855.07,598495.02,605990.41,621099.95,642450.4,642963.75,643854.17,653845.45,666942.02,685243.2,686365.4,694150.89,704344.21,716388.81,778178.53,778672.64,805642.61,813954.82,831425.2,836049.89,836419.14,839911.0,848358.09,850936.26,857939.41,870349.86,873337.84,873347.55,879448.25,882917.12,893399.77,897032.19,898289.14,900309.75,900387.29,903119.03,905984.49,911538.98,912403.67,912542.82,913548.25,914500.91,914835.86,916918.7,922048.41,928537.54,929222.16,929976.55,930745.69,935266.43,949825.83,954220.22,1043240.27,1045124.88,1046816.59,1049357.36,1069061.63,1096232.89,1100046.37,1100418.69,1118163.94,1170103.25,1175003.67,1187776.19,1190515.83,1194449.78,1212938.67,1215676.31,1245624.27,1261693.16,1270816.01,1272395.02,1283885.55,1297028.6,1304584.4,1311965.09,1312905.8,1314557.31,1314626.75,1316899.31,1323243.35,1323999.36,1328468.89,1331453.41,1332759.13,1343637.0,1344243.17,1344580.92,1352219.79,1354188.43,1366053.69,1369634.92,1371986.6,1376732.18,1380522.64,1384339.1,1385323.7,1388118.53,1394561.83,1396926.82,1399456.99,1417875.42,1421307.2,1425100.71,1428218.27,1430192.37,1431426.34,1438383.44,1450766.12,1453185.65,1465187.71,1479249.9,1481739.2,1483574.38,1488538.09,1493525.93,1494122.38,1494497.39,1496305.78,1498080.16,1501095.49,1508239.93,1508933.26,1513635.64,1514259.78,1517075.67,1519846.36,1524059.4,1527845.81,1534594.0,1536176.54,1540421.49,1541102.38,1543365.9,1543461.12,1545418.53,1550385.65,1555444.55,1582083.4,1584083.95,1588142.26,1601348.82,1605491.78,1611096.05,1616394.45,1621031.7,1636339.65,1639358.93,1649614.93,1650285.54,1670579.82,1670785.97,1671857.57,1677556.18,1694862.41,1699708.38,1708283.28,1711562.73,1711813.13,1712995.44,1720530.23,1720908.01,1727565.42,1740063.1,1741308.56,1745841.33,1750197.81,1758587.35,1758971.38,1759777.25,1765571.91,1769793.37,1769854.16,1772192.42,1788227.6,1792210.89,1794868.74,1800171.36,1802477.43,1805999.79,1808056.41,1814240.85,1815760.42,1817934.76,1819666.46,1821364.42,1827521.71,1829415.67,1829521.83,1837636.24,1845879.79,1845893.87,1846651.95,1867345.09,1867403.01,1874226.52,1876704.26,1876788.15,1881046.12,1886339.6,1887733.21,1896937.1,1897429.36,1900246.47,1902557.66,1903385.14,1904608.09,1916812.74,1920725.15,1923957.09,1927610.06,1930690.37,1933756.21,1939061.41,1946104.64,1954849.68,1955624.11,1956739.17,1962924.3,1971057.44,1979247.12,1981607.78,2010216.49,2013115.79,2015781.27,2036231.39,2041069.37,2049860.26,2066187.72,2066541.86,2074953.46,2075577.33,2093139.01,2097266.85,2097809.4,2102530.17,2103455.75,2113432.58,2125104.72,2133026.07,2138651.97,2141210.62,2144336.89,2151659.59,2179360.94,2180999.26,2188307.39,2193048.75,2196968.33,2202450.81,2209835.43,2243946.59,2290549.32,2302504.86,2306265.36,2316495.56,2387950.2,2427640.17,2470206.13,2727575.18,2771397.17,2789469.45,2950198.64,3487986.89],\"xaxis\":\"x\",\"y\":[997520.940007498,997534.410145792,997623.5104691898,997661.1046430714,997762.7619270537,997878.3639940376,997905.242904328,997935.6994697545,997940.9946731436,997991.026379354,997992.7493561644,998022.0569556848,998055.3502962185,998107.9723682499,998155.2045911797,998160.2052363416,998198.4461165875,998258.5308024259,998271.2716258782,998289.1735909623,998303.8547695321,998361.0809660348,998405.5078050785,998447.8437055519,998486.3475167797,998499.5202645556,998578.5206395056,998615.3274365872,998617.5673064407,998619.8064682216,998678.7655545519,998708.1194148195,998714.4594974334,998715.2881784718,998756.5565413955,998763.3953431874,998805.8863115738,998916.5014228006,999051.6691895996,999060.6208802144,999133.119023911,999188.1834745771,999263.95787048,999383.3976912908,999514.4850713642,999530.1001977749,999648.0754882969,999657.1081352193,999680.751861518,999683.5100405599,999728.7091508535,999855.5259086792,999876.7791816717,999910.5922475392,999916.1841333737,1000021.4051470628,1000135.5710066644,1000227.7901541133,1000236.8799188972,1000279.971568925,1000285.1945489026,1000358.7472488169,1000363.9230239504,1000539.527640344,1000589.4583281878,1000624.3176894253,1000642.8285969986,1000656.4398777764,1000732.3270932566,1000755.2547220701,1000771.1596862237,1000805.56210457,1000836.1222846293,1000851.8943671467,1000876.5074449193,1000924.0042510005,1000949.1365820584,1000968.0055383744,1000988.1254230596,1001055.8853805276,1001352.6015772865,1001485.9562060229,1001570.9780308888,1001848.3038938284,1001880.3212874256,1002042.695094085,1002078.2165032611,1002092.3909378293,1002188.7600991491,1002218.5451756679,1002371.1728341859,1002423.3655781599,1002466.1341110297,1002482.2618820476,1002501.5629987115,1002635.7574016248,1002699.3862271596,1002794.1166723159,1002804.0646211657,1002850.5918397486,1002957.205160315,1002985.6633086656,1002996.7290682242,1003009.8071702877,1003024.0203128281,1003146.1345240826,1003146.9211928098,1003153.1751265831,1003259.334100525,1003299.8287760535,1003329.5916662955,1003373.7045931258,1003681.8021138263,1003686.8485476869,1003699.9363267435,1003800.9971775204,1003829.0845318204,1003844.5221680172,1003890.5173880068,1003905.5950872672,1004005.9292194688,1004011.343143041,1004012.6854127835,1004019.48196624,1004036.357698013,1004046.5041432324,1004132.8526602424,1004142.278287492,1004207.1554451297,1004222.3405354104,1004231.5558650796,1004304.9957454165,1004335.3874041821,1004338.1729620337,1004390.8889717049,1004524.2813643166,1004546.079145186,1004557.8876729668,1004691.2904506442,1004878.3939310412,1005017.3668803248,1005043.4971217875,1005147.1761892436,1005162.2805592408,1005339.1899175259,1005695.8116577397,1006199.7339898126,1006211.8502931771,1006232.8663618278,1006468.6847693083,1006777.7955419879,1007209.7477165455,1007236.2343545813,1007419.990775506,1007660.5778163396,1007944.8595490844,1009403.2465994993,1009414.9087922634,1010051.4654071514,1010247.6536958235,1010659.9969781336,1010769.1508634107,1010777.8660577564,1010860.2824112511,1011059.6541946107,1011120.5052510933,1011285.7965531435,1011578.7132319991,1011649.2367970662,1011649.4659765845,1011793.4572728465,1011875.331006658,1012122.7469362662,1012208.4808462057,1012238.1479106141,1012285.839200653,1012287.6693324596,1012352.1450128979,1012419.7768092143,1012550.8762265228,1012571.285004854,1012574.5692818837,1012598.2998650955,1012620.7849484952,1012628.6905797643,1012677.850648528,1012798.9242289938,1012952.0834140566,1012968.2421042473,1012986.0475354253,1013004.2011023286,1013110.9015158325,1013454.5386195742,1013558.2568670508,1015659.3456589611,1015703.8270195998,1015743.755473023,1015803.7237989207,1016268.7922958466,1016910.0998422711,1017000.1072067488,1017008.8948605303,1017427.725740592,1018653.6192567219,1018769.2810378337,1019070.7434456445,1019135.4055852173,1019228.2563334806,1019664.6389186832,1019729.2538534118,1020436.0982451704,1020815.3629689876,1021030.6843250785,1021067.9527855356,1021339.1571242897,1021649.3649375465,1021827.7001181482,1022001.9022786228,1022024.105313079,1022063.0849491354,1022064.7239013233,1022118.3618216002,1022268.0965312463,1022285.9401983479,1022391.4319318181,1022461.873832505,1022492.6919870373,1022749.4360658921,1022763.7431460723,1022771.714864123,1022952.0106979252,1022998.4753700895,1023278.5242444623,1023363.0499464165,1023418.5552903268,1023530.5624724067,1023620.0265091286,1023710.1042088241,1023733.3431535844,1023799.3079108306,1023951.3853968903,1024007.2048890383,1024066.9230292621,1024501.6425878063,1024582.6409077836,1024672.1769318929,1024745.7588988105,1024792.3524401993,1024821.4771209488,1024985.681531463,1025277.9427710581,1025335.0495393052,1025618.3272250156,1025950.2289684848,1026008.9824777191,1026052.2971706353,1026169.4527490392,1026287.1778538873,1026301.2555185251,1026310.1066628218,1026352.7890468511,1026394.6687125061,1026465.8378038165,1026634.4638920795,1026650.8281593665,1026761.8157168133,1026776.5469325179,1026843.0087567727,1026908.4037515505,1027007.8416997865,1027097.210146699,1027256.4837752207,1027293.8355522277,1027394.0266537516,1027410.0973069081,1027463.5218612896,1027465.7692839182,1027511.9689008828,1027629.2049635459,1027748.6072565056,1028377.3486374011,1028424.5664628535,1028520.3524083241,1028832.059211406,1028929.8431019041,1029062.1174477828,1029187.172520826,1029296.6228525242,1029657.9275492989,1029729.1898701765,1029971.2563108248,1029987.0843310824,1030466.0784930481,1030470.9441323559,1030496.2364878354,1030630.7374862112,1031039.2064309402,1031153.5830601708,1031355.9714690938,1031433.3744321188,1031439.2844786027,1031467.1898582286,1031645.0291519427,1031653.9456749485,1031811.0766755956,1032106.0521937276,1032135.4480663065,1032242.4324169478,1032345.2558966042,1032543.2693605742,1032552.3333987179,1032571.3538825834,1032708.1218935982,1032807.7585742279,1032809.193365465,1032864.3819648712,1033242.8510510407,1033336.8663428085,1033399.5980402809,1033524.7527155451,1033579.1815529852,1033662.3177803529,1033710.85899361,1033856.8267566954,1033892.6922891852,1033944.0119795674,1033984.8842938489,1034024.96026241,1034170.2872197364,1034214.9892630213,1034217.4948961472,1034409.0146257358,1034603.5823721093,1034603.9146942119,1034621.8072183272,1035110.2154423557,1035111.5824946414,1035272.6338575927,1035331.1145228278,1035333.0945300144,1035433.5929350737,1035558.5318842003,1035591.4244556074,1035808.6585519821,1035820.2770802655,1035886.767699475,1035941.3173813161,1035960.8479135224,1035989.7124955808,1036277.7717959766,1036370.1141480686,1036446.3957600215,1036532.6146997344,1036605.3174764303,1036677.678726079,1036802.8942955922,1036969.1315827185,1037175.5357077308,1037193.8141314469,1037220.1322481892,1037366.1162969457,1037558.0780998995,1037751.3743837966,1037807.091677457,1038482.3265254716,1038550.7570277505,1038613.6688117032,1039096.3411751227,1039210.529221001,1039418.0155170648,1039803.383119154,1039811.7416809024,1040010.2758143031,1040025.0006573537,1040439.4988407979,1040536.9258626745,1040549.7313567632,1040661.1529627517,1040682.9988925621,1040918.4762450439,1041193.9670196683,1041380.930065654,1041513.7149319219,1041574.1052691259,1041647.8928131397,1041820.7262691591,1042474.5452234935,1042513.213543603,1042685.703112333,1042797.6106921918,1042890.12227365,1043019.522080546,1043193.8169985395,1043998.9229938186,1045098.8602964311,1045381.0399974674,1045469.7969056243,1045711.2544037835,1047397.7569752153,1048334.5363987077,1049339.1961520205,1055413.7290953249,1056448.034198818,1056874.5837789662,1060668.1819587226,1073361.2872141798],\"yaxis\":\"y\",\"type\":\"scattergl\"}],                        {\"template\":{\"data\":{\"histogram2dcontour\":[{\"type\":\"histogram2dcontour\",\"colorbar\":{\"outlinewidth\":0,\"ticks\":\"\"},\"colorscale\":[[0.0,\"#0d0887\"],[0.1111111111111111,\"#46039f\"],[0.2222222222222222,\"#7201a8\"],[0.3333333333333333,\"#9c179e\"],[0.4444444444444444,\"#bd3786\"],[0.5555555555555556,\"#d8576b\"],[0.6666666666666666,\"#ed7953\"],[0.7777777777777778,\"#fb9f3a\"],[0.8888888888888888,\"#fdca26\"],[1.0,\"#f0f921\"]]}],\"choropleth\":[{\"type\":\"choropleth\",\"colorbar\":{\"outlinewidth\":0,\"ticks\":\"\"}}],\"histogram2d\":[{\"type\":\"histogram2d\",\"colorbar\":{\"outlinewidth\":0,\"ticks\":\"\"},\"colorscale\":[[0.0,\"#0d0887\"],[0.1111111111111111,\"#46039f\"],[0.2222222222222222,\"#7201a8\"],[0.3333333333333333,\"#9c179e\"],[0.4444444444444444,\"#bd3786\"],[0.5555555555555556,\"#d8576b\"],[0.6666666666666666,\"#ed7953\"],[0.7777777777777778,\"#fb9f3a\"],[0.8888888888888888,\"#fdca26\"],[1.0,\"#f0f921\"]]}],\"heatmap\":[{\"type\":\"heatmap\",\"colorbar\":{\"outlinewidth\":0,\"ticks\":\"\"},\"colorscale\":[[0.0,\"#0d0887\"],[0.1111111111111111,\"#46039f\"],[0.2222222222222222,\"#7201a8\"],[0.3333333333333333,\"#9c179e\"],[0.4444444444444444,\"#bd3786\"],[0.5555555555555556,\"#d8576b\"],[0.6666666666666666,\"#ed7953\"],[0.7777777777777778,\"#fb9f3a\"],[0.8888888888888888,\"#fdca26\"],[1.0,\"#f0f921\"]]}],\"heatmapgl\":[{\"type\":\"heatmapgl\",\"colorbar\":{\"outlinewidth\":0,\"ticks\":\"\"},\"colorscale\":[[0.0,\"#0d0887\"],[0.1111111111111111,\"#46039f\"],[0.2222222222222222,\"#7201a8\"],[0.3333333333333333,\"#9c179e\"],[0.4444444444444444,\"#bd3786\"],[0.5555555555555556,\"#d8576b\"],[0.6666666666666666,\"#ed7953\"],[0.7777777777777778,\"#fb9f3a\"],[0.8888888888888888,\"#fdca26\"],[1.0,\"#f0f921\"]]}],\"contourcarpet\":[{\"type\":\"contourcarpet\",\"colorbar\":{\"outlinewidth\":0,\"ticks\":\"\"}}],\"contour\":[{\"type\":\"contour\",\"colorbar\":{\"outlinewidth\":0,\"ticks\":\"\"},\"colorscale\":[[0.0,\"#0d0887\"],[0.1111111111111111,\"#46039f\"],[0.2222222222222222,\"#7201a8\"],[0.3333333333333333,\"#9c179e\"],[0.4444444444444444,\"#bd3786\"],[0.5555555555555556,\"#d8576b\"],[0.6666666666666666,\"#ed7953\"],[0.7777777777777778,\"#fb9f3a\"],[0.8888888888888888,\"#fdca26\"],[1.0,\"#f0f921\"]]}],\"surface\":[{\"type\":\"surface\",\"colorbar\":{\"outlinewidth\":0,\"ticks\":\"\"},\"colorscale\":[[0.0,\"#0d0887\"],[0.1111111111111111,\"#46039f\"],[0.2222222222222222,\"#7201a8\"],[0.3333333333333333,\"#9c179e\"],[0.4444444444444444,\"#bd3786\"],[0.5555555555555556,\"#d8576b\"],[0.6666666666666666,\"#ed7953\"],[0.7777777777777778,\"#fb9f3a\"],[0.8888888888888888,\"#fdca26\"],[1.0,\"#f0f921\"]]}],\"mesh3d\":[{\"type\":\"mesh3d\",\"colorbar\":{\"outlinewidth\":0,\"ticks\":\"\"}}],\"scatter\":[{\"fillpattern\":{\"fillmode\":\"overlay\",\"size\":10,\"solidity\":0.2},\"type\":\"scatter\"}],\"parcoords\":[{\"type\":\"parcoords\",\"line\":{\"colorbar\":{\"outlinewidth\":0,\"ticks\":\"\"}}}],\"scatterpolargl\":[{\"type\":\"scatterpolargl\",\"marker\":{\"colorbar\":{\"outlinewidth\":0,\"ticks\":\"\"}}}],\"bar\":[{\"error_x\":{\"color\":\"#2a3f5f\"},\"error_y\":{\"color\":\"#2a3f5f\"},\"marker\":{\"line\":{\"color\":\"#E5ECF6\",\"width\":0.5},\"pattern\":{\"fillmode\":\"overlay\",\"size\":10,\"solidity\":0.2}},\"type\":\"bar\"}],\"scattergeo\":[{\"type\":\"scattergeo\",\"marker\":{\"colorbar\":{\"outlinewidth\":0,\"ticks\":\"\"}}}],\"scatterpolar\":[{\"type\":\"scatterpolar\",\"marker\":{\"colorbar\":{\"outlinewidth\":0,\"ticks\":\"\"}}}],\"histogram\":[{\"marker\":{\"pattern\":{\"fillmode\":\"overlay\",\"size\":10,\"solidity\":0.2}},\"type\":\"histogram\"}],\"scattergl\":[{\"type\":\"scattergl\",\"marker\":{\"colorbar\":{\"outlinewidth\":0,\"ticks\":\"\"}}}],\"scatter3d\":[{\"type\":\"scatter3d\",\"line\":{\"colorbar\":{\"outlinewidth\":0,\"ticks\":\"\"}},\"marker\":{\"colorbar\":{\"outlinewidth\":0,\"ticks\":\"\"}}}],\"scattermapbox\":[{\"type\":\"scattermapbox\",\"marker\":{\"colorbar\":{\"outlinewidth\":0,\"ticks\":\"\"}}}],\"scatterternary\":[{\"type\":\"scatterternary\",\"marker\":{\"colorbar\":{\"outlinewidth\":0,\"ticks\":\"\"}}}],\"scattercarpet\":[{\"type\":\"scattercarpet\",\"marker\":{\"colorbar\":{\"outlinewidth\":0,\"ticks\":\"\"}}}],\"carpet\":[{\"aaxis\":{\"endlinecolor\":\"#2a3f5f\",\"gridcolor\":\"white\",\"linecolor\":\"white\",\"minorgridcolor\":\"white\",\"startlinecolor\":\"#2a3f5f\"},\"baxis\":{\"endlinecolor\":\"#2a3f5f\",\"gridcolor\":\"white\",\"linecolor\":\"white\",\"minorgridcolor\":\"white\",\"startlinecolor\":\"#2a3f5f\"},\"type\":\"carpet\"}],\"table\":[{\"cells\":{\"fill\":{\"color\":\"#EBF0F8\"},\"line\":{\"color\":\"white\"}},\"header\":{\"fill\":{\"color\":\"#C8D4E3\"},\"line\":{\"color\":\"white\"}},\"type\":\"table\"}],\"barpolar\":[{\"marker\":{\"line\":{\"color\":\"#E5ECF6\",\"width\":0.5},\"pattern\":{\"fillmode\":\"overlay\",\"size\":10,\"solidity\":0.2}},\"type\":\"barpolar\"}],\"pie\":[{\"automargin\":true,\"type\":\"pie\"}]},\"layout\":{\"autotypenumbers\":\"strict\",\"colorway\":[\"#636efa\",\"#EF553B\",\"#00cc96\",\"#ab63fa\",\"#FFA15A\",\"#19d3f3\",\"#FF6692\",\"#B6E880\",\"#FF97FF\",\"#FECB52\"],\"font\":{\"color\":\"#2a3f5f\"},\"hovermode\":\"closest\",\"hoverlabel\":{\"align\":\"left\"},\"paper_bgcolor\":\"white\",\"plot_bgcolor\":\"#E5ECF6\",\"polar\":{\"bgcolor\":\"#E5ECF6\",\"angularaxis\":{\"gridcolor\":\"white\",\"linecolor\":\"white\",\"ticks\":\"\"},\"radialaxis\":{\"gridcolor\":\"white\",\"linecolor\":\"white\",\"ticks\":\"\"}},\"ternary\":{\"bgcolor\":\"#E5ECF6\",\"aaxis\":{\"gridcolor\":\"white\",\"linecolor\":\"white\",\"ticks\":\"\"},\"baxis\":{\"gridcolor\":\"white\",\"linecolor\":\"white\",\"ticks\":\"\"},\"caxis\":{\"gridcolor\":\"white\",\"linecolor\":\"white\",\"ticks\":\"\"}},\"coloraxis\":{\"colorbar\":{\"outlinewidth\":0,\"ticks\":\"\"}},\"colorscale\":{\"sequential\":[[0.0,\"#0d0887\"],[0.1111111111111111,\"#46039f\"],[0.2222222222222222,\"#7201a8\"],[0.3333333333333333,\"#9c179e\"],[0.4444444444444444,\"#bd3786\"],[0.5555555555555556,\"#d8576b\"],[0.6666666666666666,\"#ed7953\"],[0.7777777777777778,\"#fb9f3a\"],[0.8888888888888888,\"#fdca26\"],[1.0,\"#f0f921\"]],\"sequentialminus\":[[0.0,\"#0d0887\"],[0.1111111111111111,\"#46039f\"],[0.2222222222222222,\"#7201a8\"],[0.3333333333333333,\"#9c179e\"],[0.4444444444444444,\"#bd3786\"],[0.5555555555555556,\"#d8576b\"],[0.6666666666666666,\"#ed7953\"],[0.7777777777777778,\"#fb9f3a\"],[0.8888888888888888,\"#fdca26\"],[1.0,\"#f0f921\"]],\"diverging\":[[0,\"#8e0152\"],[0.1,\"#c51b7d\"],[0.2,\"#de77ae\"],[0.3,\"#f1b6da\"],[0.4,\"#fde0ef\"],[0.5,\"#f7f7f7\"],[0.6,\"#e6f5d0\"],[0.7,\"#b8e186\"],[0.8,\"#7fbc41\"],[0.9,\"#4d9221\"],[1,\"#276419\"]]},\"xaxis\":{\"gridcolor\":\"white\",\"linecolor\":\"white\",\"ticks\":\"\",\"title\":{\"standoff\":15},\"zerolinecolor\":\"white\",\"automargin\":true,\"zerolinewidth\":2},\"yaxis\":{\"gridcolor\":\"white\",\"linecolor\":\"white\",\"ticks\":\"\",\"title\":{\"standoff\":15},\"zerolinecolor\":\"white\",\"automargin\":true,\"zerolinewidth\":2},\"scene\":{\"xaxis\":{\"backgroundcolor\":\"#E5ECF6\",\"gridcolor\":\"white\",\"linecolor\":\"white\",\"showbackground\":true,\"ticks\":\"\",\"zerolinecolor\":\"white\",\"gridwidth\":2},\"yaxis\":{\"backgroundcolor\":\"#E5ECF6\",\"gridcolor\":\"white\",\"linecolor\":\"white\",\"showbackground\":true,\"ticks\":\"\",\"zerolinecolor\":\"white\",\"gridwidth\":2},\"zaxis\":{\"backgroundcolor\":\"#E5ECF6\",\"gridcolor\":\"white\",\"linecolor\":\"white\",\"showbackground\":true,\"ticks\":\"\",\"zerolinecolor\":\"white\",\"gridwidth\":2}},\"shapedefaults\":{\"line\":{\"color\":\"#2a3f5f\"}},\"annotationdefaults\":{\"arrowcolor\":\"#2a3f5f\",\"arrowhead\":0,\"arrowwidth\":1},\"geo\":{\"bgcolor\":\"white\",\"landcolor\":\"#E5ECF6\",\"subunitcolor\":\"white\",\"showland\":true,\"showlakes\":true,\"lakecolor\":\"white\"},\"title\":{\"x\":0.05},\"mapbox\":{\"style\":\"light\"}}},\"xaxis\":{\"anchor\":\"y\",\"domain\":[0.0,1.0],\"title\":{\"text\":\"Weekly_Sales\"}},\"yaxis\":{\"anchor\":\"x\",\"domain\":[0.0,1.0],\"title\":{\"text\":\"pred\"}},\"coloraxis\":{\"colorbar\":{\"title\":{\"text\":\"Weekly_Sales\"}},\"colorscale\":[[0.0,\"#0d0887\"],[0.1111111111111111,\"#46039f\"],[0.2222222222222222,\"#7201a8\"],[0.3333333333333333,\"#9c179e\"],[0.4444444444444444,\"#bd3786\"],[0.5555555555555556,\"#d8576b\"],[0.6666666666666666,\"#ed7953\"],[0.7777777777777778,\"#fb9f3a\"],[0.8888888888888888,\"#fdca26\"],[1.0,\"#f0f921\"]]},\"legend\":{\"tracegroupgap\":0},\"margin\":{\"t\":60}},                        {\"responsive\": true}                    ).then(function(){\n",
              "                            \n",
              "var gd = document.getElementById('65f458df-a1cf-4d43-a8f5-c6c0965fb127');\n",
              "var x = new MutationObserver(function (mutations, observer) {{\n",
              "        var display = window.getComputedStyle(gd).display;\n",
              "        if (!display || display === 'none') {{\n",
              "            console.log([gd, 'removed!']);\n",
              "            Plotly.purge(gd);\n",
              "            observer.disconnect();\n",
              "        }}\n",
              "}});\n",
              "\n",
              "// Listen for the removal of the full notebook cells\n",
              "var notebookContainer = gd.closest('#notebook-container');\n",
              "if (notebookContainer) {{\n",
              "    x.observe(notebookContainer, {childList: true});\n",
              "}}\n",
              "\n",
              "// Listen for the clearing of the current output cell\n",
              "var outputEl = gd.closest('.output');\n",
              "if (outputEl) {{\n",
              "    x.observe(outputEl, {childList: true});\n",
              "}}\n",
              "\n",
              "                        })                };                            </script>        </div>\n",
              "</body>\n",
              "</html>"
            ]
          },
          "metadata": {}
        }
      ]
    },
    {
      "cell_type": "code",
      "source": [
        "# check mse metric\n",
        "from sklearn.metrics import mean_squared_error \n",
        "mse = mean_squared_error(y_test,pred)\n",
        "\n",
        "residuals = y_test - pred\n",
        "plt.scatter(y_test,residuals)\n"
      ],
      "metadata": {
        "id": "9mKQveJ5P7lv",
        "outputId": "fb948e02-93f5-41b5-e96a-ea476e21cad9",
        "colab": {
          "base_uri": "https://localhost:8080/",
          "height": 613
        }
      },
      "execution_count": 264,
      "outputs": [
        {
          "output_type": "error",
          "ename": "ValueError",
          "evalue": "ignored",
          "traceback": [
            "\u001b[0;31m---------------------------------------------------------------------------\u001b[0m",
            "\u001b[0;31mValueError\u001b[0m                                Traceback (most recent call last)",
            "\u001b[0;32m<ipython-input-264-cd311dbab82c>\u001b[0m in \u001b[0;36m<module>\u001b[0;34m\u001b[0m\n\u001b[1;32m      4\u001b[0m \u001b[0;34m\u001b[0m\u001b[0m\n\u001b[1;32m      5\u001b[0m \u001b[0mresiduals\u001b[0m \u001b[0;34m=\u001b[0m \u001b[0my_test\u001b[0m \u001b[0;34m-\u001b[0m \u001b[0mpred\u001b[0m\u001b[0;34m\u001b[0m\u001b[0;34m\u001b[0m\u001b[0m\n\u001b[0;32m----> 6\u001b[0;31m \u001b[0mplt\u001b[0m\u001b[0;34m.\u001b[0m\u001b[0mscatter\u001b[0m\u001b[0;34m(\u001b[0m\u001b[0my_test\u001b[0m\u001b[0;34m,\u001b[0m\u001b[0mresiduals\u001b[0m\u001b[0;34m)\u001b[0m\u001b[0;34m\u001b[0m\u001b[0;34m\u001b[0m\u001b[0m\n\u001b[0m",
            "\u001b[0;32m/usr/local/lib/python3.9/dist-packages/matplotlib/pyplot.py\u001b[0m in \u001b[0;36mscatter\u001b[0;34m(x, y, s, c, marker, cmap, norm, vmin, vmax, alpha, linewidths, edgecolors, plotnonfinite, data, **kwargs)\u001b[0m\n\u001b[1;32m   2860\u001b[0m         \u001b[0mvmin\u001b[0m\u001b[0;34m=\u001b[0m\u001b[0;32mNone\u001b[0m\u001b[0;34m,\u001b[0m \u001b[0mvmax\u001b[0m\u001b[0;34m=\u001b[0m\u001b[0;32mNone\u001b[0m\u001b[0;34m,\u001b[0m \u001b[0malpha\u001b[0m\u001b[0;34m=\u001b[0m\u001b[0;32mNone\u001b[0m\u001b[0;34m,\u001b[0m \u001b[0mlinewidths\u001b[0m\u001b[0;34m=\u001b[0m\u001b[0;32mNone\u001b[0m\u001b[0;34m,\u001b[0m \u001b[0;34m*\u001b[0m\u001b[0;34m,\u001b[0m\u001b[0;34m\u001b[0m\u001b[0;34m\u001b[0m\u001b[0m\n\u001b[1;32m   2861\u001b[0m         edgecolors=None, plotnonfinite=False, data=None, **kwargs):\n\u001b[0;32m-> 2862\u001b[0;31m     __ret = gca().scatter(\n\u001b[0m\u001b[1;32m   2863\u001b[0m         \u001b[0mx\u001b[0m\u001b[0;34m,\u001b[0m \u001b[0my\u001b[0m\u001b[0;34m,\u001b[0m \u001b[0ms\u001b[0m\u001b[0;34m=\u001b[0m\u001b[0ms\u001b[0m\u001b[0;34m,\u001b[0m \u001b[0mc\u001b[0m\u001b[0;34m=\u001b[0m\u001b[0mc\u001b[0m\u001b[0;34m,\u001b[0m \u001b[0mmarker\u001b[0m\u001b[0;34m=\u001b[0m\u001b[0mmarker\u001b[0m\u001b[0;34m,\u001b[0m \u001b[0mcmap\u001b[0m\u001b[0;34m=\u001b[0m\u001b[0mcmap\u001b[0m\u001b[0;34m,\u001b[0m \u001b[0mnorm\u001b[0m\u001b[0;34m=\u001b[0m\u001b[0mnorm\u001b[0m\u001b[0;34m,\u001b[0m\u001b[0;34m\u001b[0m\u001b[0;34m\u001b[0m\u001b[0m\n\u001b[1;32m   2864\u001b[0m         \u001b[0mvmin\u001b[0m\u001b[0;34m=\u001b[0m\u001b[0mvmin\u001b[0m\u001b[0;34m,\u001b[0m \u001b[0mvmax\u001b[0m\u001b[0;34m=\u001b[0m\u001b[0mvmax\u001b[0m\u001b[0;34m,\u001b[0m \u001b[0malpha\u001b[0m\u001b[0;34m=\u001b[0m\u001b[0malpha\u001b[0m\u001b[0;34m,\u001b[0m \u001b[0mlinewidths\u001b[0m\u001b[0;34m=\u001b[0m\u001b[0mlinewidths\u001b[0m\u001b[0;34m,\u001b[0m\u001b[0;34m\u001b[0m\u001b[0;34m\u001b[0m\u001b[0m\n",
            "\u001b[0;32m/usr/local/lib/python3.9/dist-packages/matplotlib/__init__.py\u001b[0m in \u001b[0;36minner\u001b[0;34m(ax, data, *args, **kwargs)\u001b[0m\n\u001b[1;32m   1440\u001b[0m     \u001b[0;32mdef\u001b[0m \u001b[0minner\u001b[0m\u001b[0;34m(\u001b[0m\u001b[0max\u001b[0m\u001b[0;34m,\u001b[0m \u001b[0;34m*\u001b[0m\u001b[0margs\u001b[0m\u001b[0;34m,\u001b[0m \u001b[0mdata\u001b[0m\u001b[0;34m=\u001b[0m\u001b[0;32mNone\u001b[0m\u001b[0;34m,\u001b[0m \u001b[0;34m**\u001b[0m\u001b[0mkwargs\u001b[0m\u001b[0;34m)\u001b[0m\u001b[0;34m:\u001b[0m\u001b[0;34m\u001b[0m\u001b[0;34m\u001b[0m\u001b[0m\n\u001b[1;32m   1441\u001b[0m         \u001b[0;32mif\u001b[0m \u001b[0mdata\u001b[0m \u001b[0;32mis\u001b[0m \u001b[0;32mNone\u001b[0m\u001b[0;34m:\u001b[0m\u001b[0;34m\u001b[0m\u001b[0;34m\u001b[0m\u001b[0m\n\u001b[0;32m-> 1442\u001b[0;31m             \u001b[0;32mreturn\u001b[0m \u001b[0mfunc\u001b[0m\u001b[0;34m(\u001b[0m\u001b[0max\u001b[0m\u001b[0;34m,\u001b[0m \u001b[0;34m*\u001b[0m\u001b[0mmap\u001b[0m\u001b[0;34m(\u001b[0m\u001b[0msanitize_sequence\u001b[0m\u001b[0;34m,\u001b[0m \u001b[0margs\u001b[0m\u001b[0;34m)\u001b[0m\u001b[0;34m,\u001b[0m \u001b[0;34m**\u001b[0m\u001b[0mkwargs\u001b[0m\u001b[0;34m)\u001b[0m\u001b[0;34m\u001b[0m\u001b[0;34m\u001b[0m\u001b[0m\n\u001b[0m\u001b[1;32m   1443\u001b[0m \u001b[0;34m\u001b[0m\u001b[0m\n\u001b[1;32m   1444\u001b[0m         \u001b[0mbound\u001b[0m \u001b[0;34m=\u001b[0m \u001b[0mnew_sig\u001b[0m\u001b[0;34m.\u001b[0m\u001b[0mbind\u001b[0m\u001b[0;34m(\u001b[0m\u001b[0max\u001b[0m\u001b[0;34m,\u001b[0m \u001b[0;34m*\u001b[0m\u001b[0margs\u001b[0m\u001b[0;34m,\u001b[0m \u001b[0;34m**\u001b[0m\u001b[0mkwargs\u001b[0m\u001b[0;34m)\u001b[0m\u001b[0;34m\u001b[0m\u001b[0;34m\u001b[0m\u001b[0m\n",
            "\u001b[0;32m/usr/local/lib/python3.9/dist-packages/matplotlib/axes/_axes.py\u001b[0m in \u001b[0;36mscatter\u001b[0;34m(self, x, y, s, c, marker, cmap, norm, vmin, vmax, alpha, linewidths, edgecolors, plotnonfinite, **kwargs)\u001b[0m\n\u001b[1;32m   4582\u001b[0m         \u001b[0my\u001b[0m \u001b[0;34m=\u001b[0m \u001b[0mnp\u001b[0m\u001b[0;34m.\u001b[0m\u001b[0mma\u001b[0m\u001b[0;34m.\u001b[0m\u001b[0mravel\u001b[0m\u001b[0;34m(\u001b[0m\u001b[0my\u001b[0m\u001b[0;34m)\u001b[0m\u001b[0;34m\u001b[0m\u001b[0;34m\u001b[0m\u001b[0m\n\u001b[1;32m   4583\u001b[0m         \u001b[0;32mif\u001b[0m \u001b[0mx\u001b[0m\u001b[0;34m.\u001b[0m\u001b[0msize\u001b[0m \u001b[0;34m!=\u001b[0m \u001b[0my\u001b[0m\u001b[0;34m.\u001b[0m\u001b[0msize\u001b[0m\u001b[0;34m:\u001b[0m\u001b[0;34m\u001b[0m\u001b[0;34m\u001b[0m\u001b[0m\n\u001b[0;32m-> 4584\u001b[0;31m             \u001b[0;32mraise\u001b[0m \u001b[0mValueError\u001b[0m\u001b[0;34m(\u001b[0m\u001b[0;34m\"x and y must be the same size\"\u001b[0m\u001b[0;34m)\u001b[0m\u001b[0;34m\u001b[0m\u001b[0;34m\u001b[0m\u001b[0m\n\u001b[0m\u001b[1;32m   4585\u001b[0m \u001b[0;34m\u001b[0m\u001b[0m\n\u001b[1;32m   4586\u001b[0m         \u001b[0;32mif\u001b[0m \u001b[0ms\u001b[0m \u001b[0;32mis\u001b[0m \u001b[0;32mNone\u001b[0m\u001b[0;34m:\u001b[0m\u001b[0;34m\u001b[0m\u001b[0;34m\u001b[0m\u001b[0m\n",
            "\u001b[0;31mValueError\u001b[0m: x and y must be the same size"
          ]
        },
        {
          "output_type": "display_data",
          "data": {
            "text/plain": [
              "<Figure size 432x288 with 1 Axes>"
            ],
            "image/png": "[encoded data removed]"
          },
          "metadata": {
            "needs_background": "light"
          }
        }
      ]
    }
  ],
  "metadata": {
    "colab": {
      "name": "WallMart",
      "provenance": [],
      "include_colab_link": true
    },
    "kernelspec": {
      "display_name": "Python 3",
      "name": "python3"
    }
  },
  "nbformat": 4,
  "nbformat_minor": 0
}